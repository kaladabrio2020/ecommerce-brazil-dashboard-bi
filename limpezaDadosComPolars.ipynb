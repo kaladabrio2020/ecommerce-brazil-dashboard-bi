{
 "cells": [
  {
   "cell_type": "markdown",
   "metadata": {},
   "source": [
    "#### Sobre o Conjunto de Dados\n",
    "Este é um conjunto de dados público de pedidos do e-commerce brasileiro feitos na loja Olist. O conjunto de dados contém informações de 100 mil pedidos de 2016 a 2018 feitos em diversos marketplaces no Brasil.\n",
    "Esses são dados comerciais reais, que foram anonimizados, e as referências às empresas e parceiros nos textos de avaliação foram substituídas pelos nomes das grandes casas de Game of Thrones.\n",
    "\n",
    "\n",
    "#### Contexto\n",
    "Este conjunto de dados foi generosamente fornecido pela Olist, a maior loja de departamentos dos marketplaces brasileiros. A Olist conecta pequenos negócios de todo o Brasil a canais de vendas, sem complicações e com um único contrato. Esses comerciantes conseguem vender seus produtos através da Olist Store e enviá-los diretamente aos clientes utilizando os parceiros logísticos da Olist. \n",
    "\n",
    "Após o cliente comprar um produto na Olist Store, o vendedor é notificado para atender a esse pedido. Uma vez que o cliente recebe o produto, ou que a data estimada de entrega expire, o cliente recebe uma pesquisa de satisfação por e-mail, onde pode dar uma nota para a experiência de compra e escrever alguns comentários.\n",
    "\n"
   ]
  },
  {
   "cell_type": "markdown",
   "metadata": {},
   "source": [
    "<img src='https://i.imgur.com/HRhd2Y0.png' height=400px/>"
   ]
  },
  {
   "cell_type": "markdown",
   "metadata": {},
   "source": [
    "#### Informações adcionais\n",
    "----------\n",
    "\n",
    "##### Conjunto de Dados de Clientes(olist_customer)\n",
    "> Este conjunto de dados contém informações sobre o cliente e sua localização. Utilize-o para identificar clientes únicos no conjunto de dados de pedidos e para encontrar a localização de entrega dos pedidos.\n",
    ">\n",
    "> Em nosso sistema, cada pedido é atribuído a um customer_id exclusivo. Isso significa que o mesmo cliente terá diferentes ids para pedidos distintos. O propósito de ter um customer_unique_id no conjunto de dados é permitir que você identifique clientes que fizeram novas compras na loja. Caso contrário, você descobriria que cada pedido estaria associado a um cliente diferente.\n",
    "--------\n",
    "\n",
    "##### Conjunto de Dados de Geolocalização (geolocation)\n",
    "> Este conjunto de dados contém informações sobre os códigos postais brasileiros e suas coordenadas de latitude/longitude. Utilize-o para plotar mapas e calcular distâncias entre vendedores e clientes\n",
    "\n",
    "--------\n",
    "\n",
    "##### Conjunto de Dados de Itens de Pedidos (order_items)\n",
    "> Este conjunto de dados inclui informações sobre os itens comprados em cada pedido.\n",
    "\n",
    "> Exemplo:\n",
    "> O order_id = 00143d0f86d6fbd9f9b38ab440ac16f5 possui 3 itens (mesmo produto). Cada item tem o frete calculado de acordo com suas medidas e peso. Para obter o valor total do frete de cada pedido, basta somar.\n",
    "\n",
    "\n",
    "-------\n",
    "##### Payments Dataset\n",
    "> This dataset includes data about the orders payment options.\n",
    "\n",
    "-------\n",
    "##### Conjunto de Dados de Avaliações de Pedidos (reviews dataset) \n",
    "> Este conjunto de dados inclui informações sobre as avaliações feitas pelos clientes.\n",
    "> Após o cliente comprar um produto na Olist Store, o vendedor é notificado para atender a esse pedido. Quando o cliente recebe o produto, ou quando a data estimada de entrega se expira, o cliente recebe uma pesquisa de satisfação por e-mail, onde pode dar uma nota para a experiência de compra e escrever alguns comentários."
   ]
  },
  {
   "cell_type": "markdown",
   "metadata": {},
   "source": [
    "&nbsp;"
   ]
  },
  {
   "cell_type": "markdown",
   "metadata": {},
   "source": [
    "### Limpeza de dados"
   ]
  },
  {
   "cell_type": "markdown",
   "metadata": {},
   "source": [
    "#### Limpeza para os Dados de Clientes(olist_customer)"
   ]
  },
  {
   "cell_type": "code",
   "execution_count": 2,
   "metadata": {},
   "outputs": [],
   "source": [
    "import polars as pl\n",
    "import pandas as pd"
   ]
  },
  {
   "cell_type": "code",
   "execution_count": 3,
   "metadata": {},
   "outputs": [],
   "source": [
    "cliente = pl.read_csv(\n",
    "    source='dataset/olist_customers_dataset.csv', infer_schema=False\n",
    ")"
   ]
  },
  {
   "cell_type": "code",
   "execution_count": 4,
   "metadata": {},
   "outputs": [
    {
     "data": {
      "text/html": [
       "<div><style>\n",
       ".dataframe > thead > tr,\n",
       ".dataframe > tbody > tr {\n",
       "  text-align: right;\n",
       "  white-space: pre-wrap;\n",
       "}\n",
       "</style>\n",
       "<small>shape: (2, 5)</small><table border=\"1\" class=\"dataframe\"><thead><tr><th>customer_id</th><th>customer_unique_id</th><th>customer_zip_code_prefix</th><th>customer_city</th><th>customer_state</th></tr><tr><td>str</td><td>str</td><td>str</td><td>str</td><td>str</td></tr></thead><tbody><tr><td>&quot;06b8999e2fba1a1fbc88172c00ba8b…</td><td>&quot;861eff4711a542e4b93843c6dd7feb…</td><td>&quot;14409&quot;</td><td>&quot;franca&quot;</td><td>&quot;SP&quot;</td></tr><tr><td>&quot;18955e83d337fd6b2def6b18a428ac…</td><td>&quot;290c77bc529b7ac935b93aa66c333d…</td><td>&quot;09790&quot;</td><td>&quot;sao bernardo do campo&quot;</td><td>&quot;SP&quot;</td></tr></tbody></table></div>"
      ],
      "text/plain": [
       "shape: (2, 5)\n",
       "┌────────────────────┬────────────────────┬───────────────────┬───────────────────┬────────────────┐\n",
       "│ customer_id        ┆ customer_unique_id ┆ customer_zip_code ┆ customer_city     ┆ customer_state │\n",
       "│ ---                ┆ ---                ┆ _prefix           ┆ ---               ┆ ---            │\n",
       "│ str                ┆ str                ┆ ---               ┆ str               ┆ str            │\n",
       "│                    ┆                    ┆ str               ┆                   ┆                │\n",
       "╞════════════════════╪════════════════════╪═══════════════════╪═══════════════════╪════════════════╡\n",
       "│ 06b8999e2fba1a1fbc ┆ 861eff4711a542e4b9 ┆ 14409             ┆ franca            ┆ SP             │\n",
       "│ 88172c00ba8b…      ┆ 3843c6dd7feb…      ┆                   ┆                   ┆                │\n",
       "│ 18955e83d337fd6b2d ┆ 290c77bc529b7ac935 ┆ 09790             ┆ sao bernardo do   ┆ SP             │\n",
       "│ ef6b18a428ac…      ┆ b93aa66c333d…      ┆                   ┆ campo             ┆                │\n",
       "└────────────────────┴────────────────────┴───────────────────┴───────────────────┴────────────────┘"
      ]
     },
     "execution_count": 4,
     "metadata": {},
     "output_type": "execute_result"
    }
   ],
   "source": [
    "cliente.head(2)"
   ]
  },
  {
   "cell_type": "code",
   "execution_count": 5,
   "metadata": {},
   "outputs": [
    {
     "data": {
      "text/plain": [
       "(99441, 5)"
      ]
     },
     "execution_count": 5,
     "metadata": {},
     "output_type": "execute_result"
    }
   ],
   "source": [
    "cliente.shape"
   ]
  },
  {
   "cell_type": "markdown",
   "metadata": {},
   "source": [
    "Verificando a quantidade de valores únicos de cada coluna"
   ]
  },
  {
   "cell_type": "code",
   "execution_count": 6,
   "metadata": {},
   "outputs": [
    {
     "data": {
      "text/html": [
       "<div>\n",
       "<style scoped>\n",
       "    .dataframe tbody tr th:only-of-type {\n",
       "        vertical-align: middle;\n",
       "    }\n",
       "\n",
       "    .dataframe tbody tr th {\n",
       "        vertical-align: top;\n",
       "    }\n",
       "\n",
       "    .dataframe thead th {\n",
       "        text-align: right;\n",
       "    }\n",
       "</style>\n",
       "<table border=\"1\" class=\"dataframe\">\n",
       "  <thead>\n",
       "    <tr style=\"text-align: right;\">\n",
       "      <th></th>\n",
       "      <th>Quantidade de valores únicos</th>\n",
       "    </tr>\n",
       "  </thead>\n",
       "  <tbody>\n",
       "    <tr>\n",
       "      <th>customer_id</th>\n",
       "      <td>99441</td>\n",
       "    </tr>\n",
       "    <tr>\n",
       "      <th>customer_unique_id</th>\n",
       "      <td>96096</td>\n",
       "    </tr>\n",
       "    <tr>\n",
       "      <th>customer_zip_code_prefix</th>\n",
       "      <td>14994</td>\n",
       "    </tr>\n",
       "    <tr>\n",
       "      <th>customer_city</th>\n",
       "      <td>4119</td>\n",
       "    </tr>\n",
       "    <tr>\n",
       "      <th>customer_state</th>\n",
       "      <td>27</td>\n",
       "    </tr>\n",
       "  </tbody>\n",
       "</table>\n",
       "</div>"
      ],
      "text/plain": [
       "                          Quantidade de valores únicos\n",
       "customer_id                                      99441\n",
       "customer_unique_id                               96096\n",
       "customer_zip_code_prefix                         14994\n",
       "customer_city                                     4119\n",
       "customer_state                                      27"
      ]
     },
     "execution_count": 6,
     "metadata": {},
     "output_type": "execute_result"
    }
   ],
   "source": [
    "pd.DataFrame({\n",
    "    col : cliente.select(pl.col(col)).n_unique() \\\n",
    "    for col in cliente.columns\n",
    "}, index=['Quantidade de valores únicos']).T"
   ]
  },
  {
   "cell_type": "markdown",
   "metadata": {},
   "source": [
    "> `customer_id` é uma chave primaria\n",
    ">\n",
    "> `customer_zip_code_prefix` é uma chave estrangeira"
   ]
  },
  {
   "cell_type": "markdown",
   "metadata": {},
   "source": [
    "Chave primaria e chave estrangeira não necessitam de tratamento, somente, se houver valores nulos nesse conj. dados. Mais abaixo irei verificar a quantidade de valores nulos por colunas"
   ]
  },
  {
   "cell_type": "code",
   "execution_count": 7,
   "metadata": {},
   "outputs": [
    {
     "data": {
      "text/plain": [
       "0"
      ]
     },
     "execution_count": 7,
     "metadata": {},
     "output_type": "execute_result"
    }
   ],
   "source": [
    "cliente.select(pl.col('customer_id').null_count()).item()"
   ]
  },
  {
   "cell_type": "code",
   "execution_count": 8,
   "metadata": {},
   "outputs": [
    {
     "data": {
      "text/html": [
       "<div>\n",
       "<style scoped>\n",
       "    .dataframe tbody tr th:only-of-type {\n",
       "        vertical-align: middle;\n",
       "    }\n",
       "\n",
       "    .dataframe tbody tr th {\n",
       "        vertical-align: top;\n",
       "    }\n",
       "\n",
       "    .dataframe thead th {\n",
       "        text-align: right;\n",
       "    }\n",
       "</style>\n",
       "<table border=\"1\" class=\"dataframe\">\n",
       "  <thead>\n",
       "    <tr style=\"text-align: right;\">\n",
       "      <th></th>\n",
       "      <th>colunas</th>\n",
       "      <th>Quantidade de valores nulos</th>\n",
       "    </tr>\n",
       "  </thead>\n",
       "  <tbody>\n",
       "    <tr>\n",
       "      <th>0</th>\n",
       "      <td>customer_id</td>\n",
       "      <td>0</td>\n",
       "    </tr>\n",
       "    <tr>\n",
       "      <th>1</th>\n",
       "      <td>customer_unique_id</td>\n",
       "      <td>0</td>\n",
       "    </tr>\n",
       "    <tr>\n",
       "      <th>2</th>\n",
       "      <td>customer_zip_code_prefix</td>\n",
       "      <td>0</td>\n",
       "    </tr>\n",
       "    <tr>\n",
       "      <th>3</th>\n",
       "      <td>customer_city</td>\n",
       "      <td>0</td>\n",
       "    </tr>\n",
       "    <tr>\n",
       "      <th>4</th>\n",
       "      <td>customer_state</td>\n",
       "      <td>0</td>\n",
       "    </tr>\n",
       "  </tbody>\n",
       "</table>\n",
       "</div>"
      ],
      "text/plain": [
       "                    colunas  Quantidade de valores nulos\n",
       "0               customer_id                            0\n",
       "1        customer_unique_id                            0\n",
       "2  customer_zip_code_prefix                            0\n",
       "3             customer_city                            0\n",
       "4            customer_state                            0"
      ]
     },
     "execution_count": 8,
     "metadata": {},
     "output_type": "execute_result"
    }
   ],
   "source": [
    "cliente\\\n",
    "    .null_count()\\\n",
    "    .transpose(\n",
    "        include_header=True,\n",
    "        header_name   ='colunas',\n",
    "        column_names  =['Quantidade de valores nulos']\n",
    ").to_pandas()"
   ]
  },
  {
   "cell_type": "markdown",
   "metadata": {},
   "source": [
    "> Não há valores nulos nas colunas acima"
   ]
  },
  {
   "cell_type": "markdown",
   "metadata": {},
   "source": [
    "fazendo uma analise nas colunas `customer_city` e `customer_state`"
   ]
  },
  {
   "cell_type": "code",
   "execution_count": 9,
   "metadata": {},
   "outputs": [
    {
     "data": {
      "text/html": [
       "<div><style>\n",
       ".dataframe > thead > tr,\n",
       ".dataframe > tbody > tr {\n",
       "  text-align: right;\n",
       "  white-space: pre-wrap;\n",
       "}\n",
       "</style>\n",
       "<small>shape: (3, 1)</small><table border=\"1\" class=\"dataframe\"><thead><tr><th>customer_city</th></tr><tr><td>str</td></tr></thead><tbody><tr><td>&quot;franca&quot;</td></tr><tr><td>&quot;sao bernardo do campo&quot;</td></tr><tr><td>&quot;sao paulo&quot;</td></tr></tbody></table></div>"
      ],
      "text/plain": [
       "shape: (3, 1)\n",
       "┌───────────────────────┐\n",
       "│ customer_city         │\n",
       "│ ---                   │\n",
       "│ str                   │\n",
       "╞═══════════════════════╡\n",
       "│ franca                │\n",
       "│ sao bernardo do campo │\n",
       "│ sao paulo             │\n",
       "└───────────────────────┘"
      ]
     },
     "execution_count": 9,
     "metadata": {},
     "output_type": "execute_result"
    }
   ],
   "source": [
    "cliente.select(pl.col('customer_city')).head(3)"
   ]
  },
  {
   "cell_type": "markdown",
   "metadata": {},
   "source": [
    "> vou deixar no formato de titulo o texto para melhor visualização para futura analises"
   ]
  },
  {
   "cell_type": "code",
   "execution_count": 50,
   "metadata": {},
   "outputs": [],
   "source": [
    "cliente = cliente.with_columns(\n",
    "    pl.col('customer_city').cast(pl.String).str.to_titlecase()\n",
    ")"
   ]
  },
  {
   "cell_type": "code",
   "execution_count": 51,
   "metadata": {},
   "outputs": [
    {
     "data": {
      "text/html": [
       "<div><style>\n",
       ".dataframe > thead > tr,\n",
       ".dataframe > tbody > tr {\n",
       "  text-align: right;\n",
       "  white-space: pre-wrap;\n",
       "}\n",
       "</style>\n",
       "<small>shape: (10, 1)</small><table border=\"1\" class=\"dataframe\"><thead><tr><th>customer_city</th></tr><tr><td>str</td></tr></thead><tbody><tr><td>&quot;Franca&quot;</td></tr><tr><td>&quot;Sao Bernardo Do Campo&quot;</td></tr><tr><td>&quot;Sao Paulo&quot;</td></tr><tr><td>&quot;Mogi Das Cruzes&quot;</td></tr><tr><td>&quot;Campinas&quot;</td></tr><tr><td>&quot;Jaragua Do Sul&quot;</td></tr><tr><td>&quot;Sao Paulo&quot;</td></tr><tr><td>&quot;Timoteo&quot;</td></tr><tr><td>&quot;Curitiba&quot;</td></tr><tr><td>&quot;Belo Horizonte&quot;</td></tr></tbody></table></div>"
      ],
      "text/plain": [
       "shape: (10, 1)\n",
       "┌───────────────────────┐\n",
       "│ customer_city         │\n",
       "│ ---                   │\n",
       "│ str                   │\n",
       "╞═══════════════════════╡\n",
       "│ Franca                │\n",
       "│ Sao Bernardo Do Campo │\n",
       "│ Sao Paulo             │\n",
       "│ Mogi Das Cruzes       │\n",
       "│ Campinas              │\n",
       "│ Jaragua Do Sul        │\n",
       "│ Sao Paulo             │\n",
       "│ Timoteo               │\n",
       "│ Curitiba              │\n",
       "│ Belo Horizonte        │\n",
       "└───────────────────────┘"
      ]
     },
     "execution_count": 51,
     "metadata": {},
     "output_type": "execute_result"
    }
   ],
   "source": [
    "cliente.select(pl.col('customer_city')).head(10)"
   ]
  },
  {
   "cell_type": "code",
   "execution_count": 52,
   "metadata": {},
   "outputs": [],
   "source": [
    "# Escrevendo dados\n",
    "cliente.write_csv(file='dataset_limpo_para_analise/olist_customers.csv')"
   ]
  },
  {
   "cell_type": "markdown",
   "metadata": {},
   "source": [
    "&nbsp;"
   ]
  },
  {
   "cell_type": "markdown",
   "metadata": {},
   "source": [
    "#### limpeza para Itens de Pedidos (order_items)"
   ]
  },
  {
   "cell_type": "code",
   "execution_count": 53,
   "metadata": {},
   "outputs": [],
   "source": [
    "pedidos = pl.read_csv(\n",
    "    source='dataset/olist_order_items_dataset.csv',\n",
    "    infer_schema=False\n",
    "    )"
   ]
  },
  {
   "cell_type": "code",
   "execution_count": 54,
   "metadata": {},
   "outputs": [
    {
     "data": {
      "text/plain": [
       "['order_id',\n",
       " 'order_item_id',\n",
       " 'product_id',\n",
       " 'seller_id',\n",
       " 'shipping_limit_date',\n",
       " 'price',\n",
       " 'freight_value']"
      ]
     },
     "execution_count": 54,
     "metadata": {},
     "output_type": "execute_result"
    }
   ],
   "source": [
    "pedidos.columns"
   ]
  },
  {
   "cell_type": "code",
   "execution_count": 55,
   "metadata": {},
   "outputs": [
    {
     "data": {
      "text/html": [
       "<div><style>\n",
       ".dataframe > thead > tr,\n",
       ".dataframe > tbody > tr {\n",
       "  text-align: right;\n",
       "  white-space: pre-wrap;\n",
       "}\n",
       "</style>\n",
       "<small>shape: (3, 7)</small><table border=\"1\" class=\"dataframe\"><thead><tr><th>order_id</th><th>order_item_id</th><th>product_id</th><th>seller_id</th><th>shipping_limit_date</th><th>price</th><th>freight_value</th></tr><tr><td>str</td><td>str</td><td>str</td><td>str</td><td>str</td><td>str</td><td>str</td></tr></thead><tbody><tr><td>&quot;00010242fe8c5a6d1ba2dd792cb162…</td><td>&quot;1&quot;</td><td>&quot;4244733e06e7ecb4970a6e2683c13e…</td><td>&quot;48436dade18ac8b2bce089ec2a0412…</td><td>&quot;2017-09-19 09:45:35&quot;</td><td>&quot;58.90&quot;</td><td>&quot;13.29&quot;</td></tr><tr><td>&quot;00018f77f2f0320c557190d7a144bd…</td><td>&quot;1&quot;</td><td>&quot;e5f2d52b802189ee658865ca93d83a…</td><td>&quot;dd7ddc04e1b6c2c614352b383efe2d…</td><td>&quot;2017-05-03 11:05:13&quot;</td><td>&quot;239.90&quot;</td><td>&quot;19.93&quot;</td></tr><tr><td>&quot;000229ec398224ef6ca0657da4fc70…</td><td>&quot;1&quot;</td><td>&quot;c777355d18b72b67abbeef9df44fd0…</td><td>&quot;5b51032eddd242adc84c38acab88f2…</td><td>&quot;2018-01-18 14:48:30&quot;</td><td>&quot;199.00&quot;</td><td>&quot;17.87&quot;</td></tr></tbody></table></div>"
      ],
      "text/plain": [
       "shape: (3, 7)\n",
       "┌──────────────┬──────────────┬──────────────┬──────────────┬──────────────┬────────┬──────────────┐\n",
       "│ order_id     ┆ order_item_i ┆ product_id   ┆ seller_id    ┆ shipping_lim ┆ price  ┆ freight_valu │\n",
       "│ ---          ┆ d            ┆ ---          ┆ ---          ┆ it_date      ┆ ---    ┆ e            │\n",
       "│ str          ┆ ---          ┆ str          ┆ str          ┆ ---          ┆ str    ┆ ---          │\n",
       "│              ┆ str          ┆              ┆              ┆ str          ┆        ┆ str          │\n",
       "╞══════════════╪══════════════╪══════════════╪══════════════╪══════════════╪════════╪══════════════╡\n",
       "│ 00010242fe8c ┆ 1            ┆ 4244733e06e7 ┆ 48436dade18a ┆ 2017-09-19   ┆ 58.90  ┆ 13.29        │\n",
       "│ 5a6d1ba2dd79 ┆              ┆ ecb4970a6e26 ┆ c8b2bce089ec ┆ 09:45:35     ┆        ┆              │\n",
       "│ 2cb162…      ┆              ┆ 83c13e…      ┆ 2a0412…      ┆              ┆        ┆              │\n",
       "│ 00018f77f2f0 ┆ 1            ┆ e5f2d52b8021 ┆ dd7ddc04e1b6 ┆ 2017-05-03   ┆ 239.90 ┆ 19.93        │\n",
       "│ 320c557190d7 ┆              ┆ 89ee658865ca ┆ c2c614352b38 ┆ 11:05:13     ┆        ┆              │\n",
       "│ a144bd…      ┆              ┆ 93d83a…      ┆ 3efe2d…      ┆              ┆        ┆              │\n",
       "│ 000229ec3982 ┆ 1            ┆ c777355d18b7 ┆ 5b51032eddd2 ┆ 2018-01-18   ┆ 199.00 ┆ 17.87        │\n",
       "│ 24ef6ca0657d ┆              ┆ 2b67abbeef9d ┆ 42adc84c38ac ┆ 14:48:30     ┆        ┆              │\n",
       "│ a4fc70…      ┆              ┆ f44fd0…      ┆ ab88f2…      ┆              ┆        ┆              │\n",
       "└──────────────┴──────────────┴──────────────┴──────────────┴──────────────┴────────┴──────────────┘"
      ]
     },
     "execution_count": 55,
     "metadata": {},
     "output_type": "execute_result"
    }
   ],
   "source": [
    "pedidos.head(3)"
   ]
  },
  {
   "cell_type": "code",
   "execution_count": 56,
   "metadata": {},
   "outputs": [
    {
     "data": {
      "text/html": [
       "<div><style>\n",
       ".dataframe > thead > tr,\n",
       ".dataframe > tbody > tr {\n",
       "  text-align: right;\n",
       "  white-space: pre-wrap;\n",
       "}\n",
       "</style>\n",
       "<small>shape: (7, 2)</small><table border=\"1\" class=\"dataframe\"><thead><tr><th>colunas</th><th>Valores Únicos</th></tr><tr><td>str</td><td>u32</td></tr></thead><tbody><tr><td>&quot;order_id&quot;</td><td>98666</td></tr><tr><td>&quot;order_item_id&quot;</td><td>21</td></tr><tr><td>&quot;product_id&quot;</td><td>32951</td></tr><tr><td>&quot;seller_id&quot;</td><td>3095</td></tr><tr><td>&quot;shipping_limit_date&quot;</td><td>93318</td></tr><tr><td>&quot;price&quot;</td><td>5968</td></tr><tr><td>&quot;freight_value&quot;</td><td>6999</td></tr></tbody></table></div>"
      ],
      "text/plain": [
       "shape: (7, 2)\n",
       "┌─────────────────────┬────────────────┐\n",
       "│ colunas             ┆ Valores Únicos │\n",
       "│ ---                 ┆ ---            │\n",
       "│ str                 ┆ u32            │\n",
       "╞═════════════════════╪════════════════╡\n",
       "│ order_id            ┆ 98666          │\n",
       "│ order_item_id       ┆ 21             │\n",
       "│ product_id          ┆ 32951          │\n",
       "│ seller_id           ┆ 3095           │\n",
       "│ shipping_limit_date ┆ 93318          │\n",
       "│ price               ┆ 5968           │\n",
       "│ freight_value       ┆ 6999           │\n",
       "└─────────────────────┴────────────────┘"
      ]
     },
     "execution_count": 56,
     "metadata": {},
     "output_type": "execute_result"
    }
   ],
   "source": [
    "pedidos\\\n",
    "    .select(pl.all().n_unique())\\\n",
    "    .transpose(\n",
    "        include_header=True,\n",
    "        header_name='colunas',\n",
    "        column_names=['Valores Únicos']\n",
    "    )"
   ]
  },
  {
   "cell_type": "code",
   "execution_count": 57,
   "metadata": {},
   "outputs": [
    {
     "data": {
      "text/html": [
       "<div><style>\n",
       ".dataframe > thead > tr,\n",
       ".dataframe > tbody > tr {\n",
       "  text-align: right;\n",
       "  white-space: pre-wrap;\n",
       "}\n",
       "</style>\n",
       "<small>shape: (7, 2)</small><table border=\"1\" class=\"dataframe\"><thead><tr><th>colunas</th><th>Quantidade de valores nulos</th></tr><tr><td>str</td><td>u32</td></tr></thead><tbody><tr><td>&quot;order_id&quot;</td><td>0</td></tr><tr><td>&quot;order_item_id&quot;</td><td>0</td></tr><tr><td>&quot;product_id&quot;</td><td>0</td></tr><tr><td>&quot;seller_id&quot;</td><td>0</td></tr><tr><td>&quot;shipping_limit_date&quot;</td><td>0</td></tr><tr><td>&quot;price&quot;</td><td>0</td></tr><tr><td>&quot;freight_value&quot;</td><td>0</td></tr></tbody></table></div>"
      ],
      "text/plain": [
       "shape: (7, 2)\n",
       "┌─────────────────────┬─────────────────────────────┐\n",
       "│ colunas             ┆ Quantidade de valores nulos │\n",
       "│ ---                 ┆ ---                         │\n",
       "│ str                 ┆ u32                         │\n",
       "╞═════════════════════╪═════════════════════════════╡\n",
       "│ order_id            ┆ 0                           │\n",
       "│ order_item_id       ┆ 0                           │\n",
       "│ product_id          ┆ 0                           │\n",
       "│ seller_id           ┆ 0                           │\n",
       "│ shipping_limit_date ┆ 0                           │\n",
       "│ price               ┆ 0                           │\n",
       "│ freight_value       ┆ 0                           │\n",
       "└─────────────────────┴─────────────────────────────┘"
      ]
     },
     "execution_count": 57,
     "metadata": {},
     "output_type": "execute_result"
    }
   ],
   "source": [
    "pedidos.select(\n",
    "    pl.all().null_count()\n",
    ").transpose(\n",
    "    include_header=True,\n",
    "    header_name ='colunas',\n",
    "    column_names=['Quantidade de valores nulos']\n",
    ")"
   ]
  },
  {
   "cell_type": "markdown",
   "metadata": {},
   "source": [
    "> Não há valores nulos nesse conjunto de dados"
   ]
  },
  {
   "cell_type": "markdown",
   "metadata": {},
   "source": [
    "Conventendo valores numericos que estão no formato string, e conventendo para o padrão brasileiro a data"
   ]
  },
  {
   "cell_type": "code",
   "execution_count": 58,
   "metadata": {},
   "outputs": [],
   "source": [
    "pedidos = pedidos.with_columns(\n",
    "        pl.col('shipping_limit_date')\\\n",
    "            .str.strptime(pl.Datetime(time_zone='UTC'))\\\n",
    "            .dt.strftime(format=\"%d-%m-%Y %H:%M:%S\"), # Convertendo data\n",
    "\n",
    "        pl.col('price').str.to_decimal(),         # Convertendo para float\n",
    "        pl.col('freight_value').str.to_decimal(), # Convertendo para float\n",
    "    )"
   ]
  },
  {
   "cell_type": "code",
   "execution_count": 59,
   "metadata": {},
   "outputs": [
    {
     "data": {
      "text/plain": [
       "[String,\n",
       " String,\n",
       " String,\n",
       " String,\n",
       " String,\n",
       " Decimal(precision=None, scale=2),\n",
       " Decimal(precision=None, scale=2)]"
      ]
     },
     "execution_count": 59,
     "metadata": {},
     "output_type": "execute_result"
    }
   ],
   "source": [
    "pedidos.dtypes"
   ]
  },
  {
   "cell_type": "code",
   "execution_count": 60,
   "metadata": {},
   "outputs": [],
   "source": [
    "# Escrevendo dados\n",
    "pedidos.write_csv(file='dataset_limpo_para_analise/olist_order_items.csv')"
   ]
  },
  {
   "cell_type": "markdown",
   "metadata": {},
   "source": [
    "&nbsp;"
   ]
  },
  {
   "cell_type": "markdown",
   "metadata": {},
   "source": [
    "#### limpeza Payments Dataset(olist_payments)"
   ]
  },
  {
   "cell_type": "code",
   "execution_count": 61,
   "metadata": {},
   "outputs": [],
   "source": [
    "payments = pl.read_csv(\n",
    "    'dataset/olist_order_payments_dataset.csv',\n",
    "    infer_schema=False\n",
    ")"
   ]
  },
  {
   "cell_type": "code",
   "execution_count": 62,
   "metadata": {},
   "outputs": [
    {
     "data": {
      "text/html": [
       "<div><style>\n",
       ".dataframe > thead > tr,\n",
       ".dataframe > tbody > tr {\n",
       "  text-align: right;\n",
       "  white-space: pre-wrap;\n",
       "}\n",
       "</style>\n",
       "<small>shape: (2, 5)</small><table border=\"1\" class=\"dataframe\"><thead><tr><th>order_id</th><th>payment_sequential</th><th>payment_type</th><th>payment_installments</th><th>payment_value</th></tr><tr><td>str</td><td>str</td><td>str</td><td>str</td><td>str</td></tr></thead><tbody><tr><td>&quot;b81ef226f3fe1789b1e8b2acac839d…</td><td>&quot;1&quot;</td><td>&quot;credit_card&quot;</td><td>&quot;8&quot;</td><td>&quot;99.33&quot;</td></tr><tr><td>&quot;a9810da82917af2d9aefd1278f1dcf…</td><td>&quot;1&quot;</td><td>&quot;credit_card&quot;</td><td>&quot;1&quot;</td><td>&quot;24.39&quot;</td></tr></tbody></table></div>"
      ],
      "text/plain": [
       "shape: (2, 5)\n",
       "┌───────────────────────┬────────────────────┬──────────────┬──────────────────────┬───────────────┐\n",
       "│ order_id              ┆ payment_sequential ┆ payment_type ┆ payment_installments ┆ payment_value │\n",
       "│ ---                   ┆ ---                ┆ ---          ┆ ---                  ┆ ---           │\n",
       "│ str                   ┆ str                ┆ str          ┆ str                  ┆ str           │\n",
       "╞═══════════════════════╪════════════════════╪══════════════╪══════════════════════╪═══════════════╡\n",
       "│ b81ef226f3fe1789b1e8b ┆ 1                  ┆ credit_card  ┆ 8                    ┆ 99.33         │\n",
       "│ 2acac839d…            ┆                    ┆              ┆                      ┆               │\n",
       "│ a9810da82917af2d9aefd ┆ 1                  ┆ credit_card  ┆ 1                    ┆ 24.39         │\n",
       "│ 1278f1dcf…            ┆                    ┆              ┆                      ┆               │\n",
       "└───────────────────────┴────────────────────┴──────────────┴──────────────────────┴───────────────┘"
      ]
     },
     "execution_count": 62,
     "metadata": {},
     "output_type": "execute_result"
    }
   ],
   "source": [
    "payments.head(2)"
   ]
  },
  {
   "cell_type": "code",
   "execution_count": 63,
   "metadata": {},
   "outputs": [
    {
     "data": {
      "text/html": [
       "<div><style>\n",
       ".dataframe > thead > tr,\n",
       ".dataframe > tbody > tr {\n",
       "  text-align: right;\n",
       "  white-space: pre-wrap;\n",
       "}\n",
       "</style>\n",
       "<small>shape: (5, 2)</small><table border=\"1\" class=\"dataframe\"><thead><tr><th>colunas</th><th>Quantidade de valores nulos</th></tr><tr><td>str</td><td>u32</td></tr></thead><tbody><tr><td>&quot;order_id&quot;</td><td>0</td></tr><tr><td>&quot;payment_sequential&quot;</td><td>0</td></tr><tr><td>&quot;payment_type&quot;</td><td>0</td></tr><tr><td>&quot;payment_installments&quot;</td><td>0</td></tr><tr><td>&quot;payment_value&quot;</td><td>0</td></tr></tbody></table></div>"
      ],
      "text/plain": [
       "shape: (5, 2)\n",
       "┌──────────────────────┬─────────────────────────────┐\n",
       "│ colunas              ┆ Quantidade de valores nulos │\n",
       "│ ---                  ┆ ---                         │\n",
       "│ str                  ┆ u32                         │\n",
       "╞══════════════════════╪═════════════════════════════╡\n",
       "│ order_id             ┆ 0                           │\n",
       "│ payment_sequential   ┆ 0                           │\n",
       "│ payment_type         ┆ 0                           │\n",
       "│ payment_installments ┆ 0                           │\n",
       "│ payment_value        ┆ 0                           │\n",
       "└──────────────────────┴─────────────────────────────┘"
      ]
     },
     "execution_count": 63,
     "metadata": {},
     "output_type": "execute_result"
    }
   ],
   "source": [
    "payments.select(\n",
    "    pl.all().null_count()\n",
    ").transpose(\n",
    "    include_header=True,\n",
    "    header_name ='colunas',\n",
    "    column_names=['Quantidade de valores nulos']\n",
    ")"
   ]
  },
  {
   "cell_type": "code",
   "execution_count": 64,
   "metadata": {},
   "outputs": [
    {
     "data": {
      "text/html": [
       "<div><style>\n",
       ".dataframe > thead > tr,\n",
       ".dataframe > tbody > tr {\n",
       "  text-align: right;\n",
       "  white-space: pre-wrap;\n",
       "}\n",
       "</style>\n",
       "<small>shape: (5, 2)</small><table border=\"1\" class=\"dataframe\"><thead><tr><th>colunas</th><th>Valores Únicos</th></tr><tr><td>str</td><td>u32</td></tr></thead><tbody><tr><td>&quot;order_id&quot;</td><td>99440</td></tr><tr><td>&quot;payment_sequential&quot;</td><td>29</td></tr><tr><td>&quot;payment_type&quot;</td><td>5</td></tr><tr><td>&quot;payment_installments&quot;</td><td>24</td></tr><tr><td>&quot;payment_value&quot;</td><td>29077</td></tr></tbody></table></div>"
      ],
      "text/plain": [
       "shape: (5, 2)\n",
       "┌──────────────────────┬────────────────┐\n",
       "│ colunas              ┆ Valores Únicos │\n",
       "│ ---                  ┆ ---            │\n",
       "│ str                  ┆ u32            │\n",
       "╞══════════════════════╪════════════════╡\n",
       "│ order_id             ┆ 99440          │\n",
       "│ payment_sequential   ┆ 29             │\n",
       "│ payment_type         ┆ 5              │\n",
       "│ payment_installments ┆ 24             │\n",
       "│ payment_value        ┆ 29077          │\n",
       "└──────────────────────┴────────────────┘"
      ]
     },
     "execution_count": 64,
     "metadata": {},
     "output_type": "execute_result"
    }
   ],
   "source": [
    "payments\\\n",
    "    .select(pl.all().n_unique())\\\n",
    "    .transpose(\n",
    "        include_header=True,\n",
    "        header_name='colunas',\n",
    "        column_names=['Valores Únicos']\n",
    "    )"
   ]
  },
  {
   "cell_type": "code",
   "execution_count": 77,
   "metadata": {},
   "outputs": [
    {
     "data": {
      "text/html": [
       "<div><style>\n",
       ".dataframe > thead > tr,\n",
       ".dataframe > tbody > tr {\n",
       "  text-align: right;\n",
       "  white-space: pre-wrap;\n",
       "}\n",
       "</style>\n",
       "<small>shape: (5, 2)</small><table border=\"1\" class=\"dataframe\"><thead><tr><th>by</th><th>len</th></tr><tr><td>str</td><td>u32</td></tr></thead><tbody><tr><td>&quot;not_defined&quot;</td><td>3</td></tr><tr><td>&quot;debit_card&quot;</td><td>1529</td></tr><tr><td>&quot;voucher&quot;</td><td>5775</td></tr><tr><td>&quot;boleto&quot;</td><td>19784</td></tr><tr><td>&quot;credit_card&quot;</td><td>76795</td></tr></tbody></table></div>"
      ],
      "text/plain": [
       "shape: (5, 2)\n",
       "┌─────────────┬───────┐\n",
       "│ by          ┆ len   │\n",
       "│ ---         ┆ ---   │\n",
       "│ str         ┆ u32   │\n",
       "╞═════════════╪═══════╡\n",
       "│ not_defined ┆ 3     │\n",
       "│ debit_card  ┆ 1529  │\n",
       "│ voucher     ┆ 5775  │\n",
       "│ boleto      ┆ 19784 │\n",
       "│ credit_card ┆ 76795 │\n",
       "└─────────────┴───────┘"
      ]
     },
     "execution_count": 77,
     "metadata": {},
     "output_type": "execute_result"
    }
   ],
   "source": [
    "payments\\\n",
    "    .select(pl.col('payment_type'))\\\n",
    "    .group_by(by=pl.col('payment_type'))\\\n",
    "    .len()\\\n",
    "    .sort(by=pl.col('len'))"
   ]
  },
  {
   "cell_type": "markdown",
   "metadata": {},
   "source": [
    "> Não definido será transformando para nada e removido"
   ]
  },
  {
   "cell_type": "code",
   "execution_count": 79,
   "metadata": {},
   "outputs": [],
   "source": [
    "payments = payments\\\n",
    "    .with_columns(\n",
    "        pl.when(pl.col('payment_type')=='not_defined')\\\n",
    "          .then(pl.lit(None))\\\n",
    "          .otherwise(pl.col('payment_type')).alias(name='payment_type')\n",
    "    )"
   ]
  },
  {
   "cell_type": "code",
   "execution_count": 80,
   "metadata": {},
   "outputs": [
    {
     "data": {
      "text/html": [
       "<div><style>\n",
       ".dataframe > thead > tr,\n",
       ".dataframe > tbody > tr {\n",
       "  text-align: right;\n",
       "  white-space: pre-wrap;\n",
       "}\n",
       "</style>\n",
       "<small>shape: (5, 2)</small><table border=\"1\" class=\"dataframe\"><thead><tr><th>colunas</th><th>Quantidade de valores nulos</th></tr><tr><td>str</td><td>u32</td></tr></thead><tbody><tr><td>&quot;order_id&quot;</td><td>0</td></tr><tr><td>&quot;payment_sequential&quot;</td><td>0</td></tr><tr><td>&quot;payment_type&quot;</td><td>3</td></tr><tr><td>&quot;payment_installments&quot;</td><td>0</td></tr><tr><td>&quot;payment_value&quot;</td><td>0</td></tr></tbody></table></div>"
      ],
      "text/plain": [
       "shape: (5, 2)\n",
       "┌──────────────────────┬─────────────────────────────┐\n",
       "│ colunas              ┆ Quantidade de valores nulos │\n",
       "│ ---                  ┆ ---                         │\n",
       "│ str                  ┆ u32                         │\n",
       "╞══════════════════════╪═════════════════════════════╡\n",
       "│ order_id             ┆ 0                           │\n",
       "│ payment_sequential   ┆ 0                           │\n",
       "│ payment_type         ┆ 3                           │\n",
       "│ payment_installments ┆ 0                           │\n",
       "│ payment_value        ┆ 0                           │\n",
       "└──────────────────────┴─────────────────────────────┘"
      ]
     },
     "execution_count": 80,
     "metadata": {},
     "output_type": "execute_result"
    }
   ],
   "source": [
    "payments.select(\n",
    "    pl.all().null_count()\n",
    ").transpose(\n",
    "    include_header=True,\n",
    "    header_name ='colunas',\n",
    "    column_names=['Quantidade de valores nulos']\n",
    ")"
   ]
  },
  {
   "cell_type": "code",
   "execution_count": 81,
   "metadata": {},
   "outputs": [],
   "source": [
    "data = payments.to_pandas().dropna()"
   ]
  },
  {
   "cell_type": "code",
   "execution_count": 82,
   "metadata": {},
   "outputs": [],
   "source": [
    "data.to_csv('dataset_limpo_para_analise/olist_order_payments.csv')"
   ]
  },
  {
   "cell_type": "markdown",
   "metadata": {},
   "source": [
    "&nbsp;"
   ]
  },
  {
   "cell_type": "markdown",
   "metadata": {},
   "source": [
    "#### limpeza para Reviews(olist_Reviews)"
   ]
  },
  {
   "cell_type": "code",
   "execution_count": 83,
   "metadata": {},
   "outputs": [],
   "source": [
    "reviews = pl.read_csv(\n",
    "    source='dataset/olist_order_reviews_dataset.csv', infer_schema=False\n",
    ")"
   ]
  },
  {
   "cell_type": "code",
   "execution_count": 84,
   "metadata": {},
   "outputs": [
    {
     "data": {
      "text/html": [
       "<div><style>\n",
       ".dataframe > thead > tr,\n",
       ".dataframe > tbody > tr {\n",
       "  text-align: right;\n",
       "  white-space: pre-wrap;\n",
       "}\n",
       "</style>\n",
       "<small>shape: (7, 2)</small><table border=\"1\" class=\"dataframe\"><thead><tr><th>colunas</th><th>Quantidade de valores nulos</th></tr><tr><td>str</td><td>u32</td></tr></thead><tbody><tr><td>&quot;review_id&quot;</td><td>0</td></tr><tr><td>&quot;order_id&quot;</td><td>0</td></tr><tr><td>&quot;review_score&quot;</td><td>0</td></tr><tr><td>&quot;review_comment_title&quot;</td><td>87656</td></tr><tr><td>&quot;review_comment_message&quot;</td><td>58247</td></tr><tr><td>&quot;review_creation_date&quot;</td><td>0</td></tr><tr><td>&quot;review_answer_timestamp&quot;</td><td>0</td></tr></tbody></table></div>"
      ],
      "text/plain": [
       "shape: (7, 2)\n",
       "┌─────────────────────────┬─────────────────────────────┐\n",
       "│ colunas                 ┆ Quantidade de valores nulos │\n",
       "│ ---                     ┆ ---                         │\n",
       "│ str                     ┆ u32                         │\n",
       "╞═════════════════════════╪═════════════════════════════╡\n",
       "│ review_id               ┆ 0                           │\n",
       "│ order_id                ┆ 0                           │\n",
       "│ review_score            ┆ 0                           │\n",
       "│ review_comment_title    ┆ 87656                       │\n",
       "│ review_comment_message  ┆ 58247                       │\n",
       "│ review_creation_date    ┆ 0                           │\n",
       "│ review_answer_timestamp ┆ 0                           │\n",
       "└─────────────────────────┴─────────────────────────────┘"
      ]
     },
     "execution_count": 84,
     "metadata": {},
     "output_type": "execute_result"
    }
   ],
   "source": [
    "reviews\\\n",
    "    .select(\n",
    "        pl.all().null_count()\n",
    "        )\\\n",
    "    .transpose(\n",
    "        include_header=True,\n",
    "        header_name ='colunas',\n",
    "        column_names=['Quantidade de valores nulos']\n",
    "    )"
   ]
  },
  {
   "cell_type": "code",
   "execution_count": 85,
   "metadata": {},
   "outputs": [
    {
     "data": {
      "text/plain": [
       "['review_id',\n",
       " 'order_id',\n",
       " 'review_score',\n",
       " 'review_comment_title',\n",
       " 'review_comment_message',\n",
       " 'review_creation_date',\n",
       " 'review_answer_timestamp']"
      ]
     },
     "execution_count": 85,
     "metadata": {},
     "output_type": "execute_result"
    }
   ],
   "source": [
    "reviews.columns"
   ]
  },
  {
   "cell_type": "code",
   "execution_count": 86,
   "metadata": {},
   "outputs": [],
   "source": [
    "reviews = reviews.with_columns(\n",
    "    pl.col('review_comment_title').fill_null(\"Não colocou titulo\")\n",
    ")"
   ]
  },
  {
   "cell_type": "code",
   "execution_count": 87,
   "metadata": {},
   "outputs": [],
   "source": [
    "reviews = reviews.with_columns(\n",
    "    pl.col('review_comment_message').fill_null(\"Não comentou\")\n",
    ")"
   ]
  },
  {
   "cell_type": "code",
   "execution_count": 88,
   "metadata": {},
   "outputs": [
    {
     "data": {
      "text/html": [
       "<div><style>\n",
       ".dataframe > thead > tr,\n",
       ".dataframe > tbody > tr {\n",
       "  text-align: right;\n",
       "  white-space: pre-wrap;\n",
       "}\n",
       "</style>\n",
       "<small>shape: (7, 2)</small><table border=\"1\" class=\"dataframe\"><thead><tr><th>colunas</th><th>Quantidade de valores nulos</th></tr><tr><td>str</td><td>u32</td></tr></thead><tbody><tr><td>&quot;review_id&quot;</td><td>0</td></tr><tr><td>&quot;order_id&quot;</td><td>0</td></tr><tr><td>&quot;review_score&quot;</td><td>0</td></tr><tr><td>&quot;review_comment_title&quot;</td><td>0</td></tr><tr><td>&quot;review_comment_message&quot;</td><td>0</td></tr><tr><td>&quot;review_creation_date&quot;</td><td>0</td></tr><tr><td>&quot;review_answer_timestamp&quot;</td><td>0</td></tr></tbody></table></div>"
      ],
      "text/plain": [
       "shape: (7, 2)\n",
       "┌─────────────────────────┬─────────────────────────────┐\n",
       "│ colunas                 ┆ Quantidade de valores nulos │\n",
       "│ ---                     ┆ ---                         │\n",
       "│ str                     ┆ u32                         │\n",
       "╞═════════════════════════╪═════════════════════════════╡\n",
       "│ review_id               ┆ 0                           │\n",
       "│ order_id                ┆ 0                           │\n",
       "│ review_score            ┆ 0                           │\n",
       "│ review_comment_title    ┆ 0                           │\n",
       "│ review_comment_message  ┆ 0                           │\n",
       "│ review_creation_date    ┆ 0                           │\n",
       "│ review_answer_timestamp ┆ 0                           │\n",
       "└─────────────────────────┴─────────────────────────────┘"
      ]
     },
     "execution_count": 88,
     "metadata": {},
     "output_type": "execute_result"
    }
   ],
   "source": [
    "reviews\\\n",
    "    .select(\n",
    "        pl.all().null_count()\n",
    "        )\\\n",
    "    .transpose(\n",
    "        include_header=True,\n",
    "        header_name ='colunas',\n",
    "        column_names=['Quantidade de valores nulos']\n",
    "    )"
   ]
  },
  {
   "cell_type": "code",
   "execution_count": 89,
   "metadata": {},
   "outputs": [],
   "source": [
    "reviews.write_csv(\"dataset_limpo_para_analise/olist_order_review.csv\")"
   ]
  },
  {
   "cell_type": "markdown",
   "metadata": {},
   "source": [
    "&nbsp;"
   ]
  },
  {
   "cell_type": "markdown",
   "metadata": {},
   "source": [
    "#### Limpeza para sellers(olist_sellers)"
   ]
  },
  {
   "cell_type": "code",
   "execution_count": 90,
   "metadata": {},
   "outputs": [
    {
     "data": {
      "text/html": [
       "<div><style>\n",
       ".dataframe > thead > tr,\n",
       ".dataframe > tbody > tr {\n",
       "  text-align: right;\n",
       "  white-space: pre-wrap;\n",
       "}\n",
       "</style>\n",
       "<small>shape: (2, 4)</small><table border=\"1\" class=\"dataframe\"><thead><tr><th>seller_id</th><th>seller_zip_code_prefix</th><th>seller_city</th><th>seller_state</th></tr><tr><td>str</td><td>i64</td><td>str</td><td>str</td></tr></thead><tbody><tr><td>&quot;3442f8959a84dea7ee197c632cb2df…</td><td>13023</td><td>&quot;campinas&quot;</td><td>&quot;SP&quot;</td></tr><tr><td>&quot;d1b65fc7debc3361ea86b5f14c68d2…</td><td>13844</td><td>&quot;mogi guacu&quot;</td><td>&quot;SP&quot;</td></tr></tbody></table></div>"
      ],
      "text/plain": [
       "shape: (2, 4)\n",
       "┌─────────────────────────────────┬────────────────────────┬─────────────┬──────────────┐\n",
       "│ seller_id                       ┆ seller_zip_code_prefix ┆ seller_city ┆ seller_state │\n",
       "│ ---                             ┆ ---                    ┆ ---         ┆ ---          │\n",
       "│ str                             ┆ i64                    ┆ str         ┆ str          │\n",
       "╞═════════════════════════════════╪════════════════════════╪═════════════╪══════════════╡\n",
       "│ 3442f8959a84dea7ee197c632cb2df… ┆ 13023                  ┆ campinas    ┆ SP           │\n",
       "│ d1b65fc7debc3361ea86b5f14c68d2… ┆ 13844                  ┆ mogi guacu  ┆ SP           │\n",
       "└─────────────────────────────────┴────────────────────────┴─────────────┴──────────────┘"
      ]
     },
     "execution_count": 90,
     "metadata": {},
     "output_type": "execute_result"
    }
   ],
   "source": [
    "sellers = pl.read_csv(\n",
    "    \"dataset/olist_sellers_dataset.csv\"\n",
    ")\n",
    "sellers.head(2)"
   ]
  },
  {
   "cell_type": "code",
   "execution_count": 91,
   "metadata": {},
   "outputs": [
    {
     "data": {
      "text/html": [
       "<div><style>\n",
       ".dataframe > thead > tr,\n",
       ".dataframe > tbody > tr {\n",
       "  text-align: right;\n",
       "  white-space: pre-wrap;\n",
       "}\n",
       "</style>\n",
       "<small>shape: (4, 2)</small><table border=\"1\" class=\"dataframe\"><thead><tr><th>Colunas</th><th>Quantidade de valores nulos</th></tr><tr><td>str</td><td>u32</td></tr></thead><tbody><tr><td>&quot;seller_id&quot;</td><td>0</td></tr><tr><td>&quot;seller_zip_code_prefix&quot;</td><td>0</td></tr><tr><td>&quot;seller_city&quot;</td><td>0</td></tr><tr><td>&quot;seller_state&quot;</td><td>0</td></tr></tbody></table></div>"
      ],
      "text/plain": [
       "shape: (4, 2)\n",
       "┌────────────────────────┬─────────────────────────────┐\n",
       "│ Colunas                ┆ Quantidade de valores nulos │\n",
       "│ ---                    ┆ ---                         │\n",
       "│ str                    ┆ u32                         │\n",
       "╞════════════════════════╪═════════════════════════════╡\n",
       "│ seller_id              ┆ 0                           │\n",
       "│ seller_zip_code_prefix ┆ 0                           │\n",
       "│ seller_city            ┆ 0                           │\n",
       "│ seller_state           ┆ 0                           │\n",
       "└────────────────────────┴─────────────────────────────┘"
      ]
     },
     "execution_count": 91,
     "metadata": {},
     "output_type": "execute_result"
    }
   ],
   "source": [
    "sellers.select(\n",
    "    pl.all().null_count()\n",
    ").transpose(include_header=True, \n",
    "            header_name=\"Colunas\", \n",
    "            column_names=[\"Quantidade de valores nulos\"])"
   ]
  },
  {
   "cell_type": "markdown",
   "metadata": {},
   "source": [
    "> Não há valores nulos no conjunto de dos"
   ]
  },
  {
   "cell_type": "code",
   "execution_count": 92,
   "metadata": {},
   "outputs": [
    {
     "data": {
      "text/html": [
       "<div><style>\n",
       ".dataframe > thead > tr,\n",
       ".dataframe > tbody > tr {\n",
       "  text-align: right;\n",
       "  white-space: pre-wrap;\n",
       "}\n",
       "</style>\n",
       "<small>shape: (2, 4)</small><table border=\"1\" class=\"dataframe\"><thead><tr><th>seller_id</th><th>seller_zip_code_prefix</th><th>seller_city</th><th>seller_state</th></tr><tr><td>str</td><td>i64</td><td>str</td><td>str</td></tr></thead><tbody><tr><td>&quot;3442f8959a84dea7ee197c632cb2df…</td><td>13023</td><td>&quot;Campinas&quot;</td><td>&quot;SP&quot;</td></tr><tr><td>&quot;d1b65fc7debc3361ea86b5f14c68d2…</td><td>13844</td><td>&quot;Mogi Guacu&quot;</td><td>&quot;SP&quot;</td></tr></tbody></table></div>"
      ],
      "text/plain": [
       "shape: (2, 4)\n",
       "┌─────────────────────────────────┬────────────────────────┬─────────────┬──────────────┐\n",
       "│ seller_id                       ┆ seller_zip_code_prefix ┆ seller_city ┆ seller_state │\n",
       "│ ---                             ┆ ---                    ┆ ---         ┆ ---          │\n",
       "│ str                             ┆ i64                    ┆ str         ┆ str          │\n",
       "╞═════════════════════════════════╪════════════════════════╪═════════════╪══════════════╡\n",
       "│ 3442f8959a84dea7ee197c632cb2df… ┆ 13023                  ┆ Campinas    ┆ SP           │\n",
       "│ d1b65fc7debc3361ea86b5f14c68d2… ┆ 13844                  ┆ Mogi Guacu  ┆ SP           │\n",
       "└─────────────────────────────────┴────────────────────────┴─────────────┴──────────────┘"
      ]
     },
     "execution_count": 92,
     "metadata": {},
     "output_type": "execute_result"
    }
   ],
   "source": [
    "# Modificando o nome das cidades para o tipo de titulo\n",
    "sellers = sellers.with_columns(\n",
    "    pl.col(\"seller_city\").str.to_titlecase()\n",
    ")\n",
    "sellers.head(2)"
   ]
  },
  {
   "cell_type": "code",
   "execution_count": 93,
   "metadata": {},
   "outputs": [],
   "source": [
    "sellers.write_csv(\n",
    "    \"dataset_limpo_para_analise/olist_sellers.csv\"\n",
    ")"
   ]
  },
  {
   "cell_type": "markdown",
   "metadata": {},
   "source": [
    "&nbsp;"
   ]
  },
  {
   "cell_type": "markdown",
   "metadata": {},
   "source": [
    "#### limpeza para products(olist_product)"
   ]
  },
  {
   "cell_type": "code",
   "execution_count": 96,
   "metadata": {},
   "outputs": [
    {
     "data": {
      "text/html": [
       "<div><style>\n",
       ".dataframe > thead > tr,\n",
       ".dataframe > tbody > tr {\n",
       "  text-align: right;\n",
       "  white-space: pre-wrap;\n",
       "}\n",
       "</style>\n",
       "<small>shape: (2, 9)</small><table border=\"1\" class=\"dataframe\"><thead><tr><th>product_id</th><th>product_category_name</th><th>product_name_lenght</th><th>product_description_lenght</th><th>product_photos_qty</th><th>product_weight_g</th><th>product_length_cm</th><th>product_height_cm</th><th>product_width_cm</th></tr><tr><td>str</td><td>str</td><td>i64</td><td>i64</td><td>i64</td><td>i64</td><td>i64</td><td>i64</td><td>i64</td></tr></thead><tbody><tr><td>&quot;1e9e8ef04dbcff4541ed26657ea517…</td><td>&quot;perfumaria&quot;</td><td>40</td><td>287</td><td>1</td><td>225</td><td>16</td><td>10</td><td>14</td></tr><tr><td>&quot;3aa071139cb16b67ca9e5dea641aaa…</td><td>&quot;artes&quot;</td><td>44</td><td>276</td><td>1</td><td>1000</td><td>30</td><td>18</td><td>20</td></tr></tbody></table></div>"
      ],
      "text/plain": [
       "shape: (2, 9)\n",
       "┌───────────┬───────────┬───────────┬───────────┬───┬───────────┬───────────┬───────────┬──────────┐\n",
       "│ product_i ┆ product_c ┆ product_n ┆ product_d ┆ … ┆ product_w ┆ product_l ┆ product_h ┆ product_ │\n",
       "│ d         ┆ ategory_n ┆ ame_lengh ┆ escriptio ┆   ┆ eight_g   ┆ ength_cm  ┆ eight_cm  ┆ width_cm │\n",
       "│ ---       ┆ ame       ┆ t         ┆ n_lenght  ┆   ┆ ---       ┆ ---       ┆ ---       ┆ ---      │\n",
       "│ str       ┆ ---       ┆ ---       ┆ ---       ┆   ┆ i64       ┆ i64       ┆ i64       ┆ i64      │\n",
       "│           ┆ str       ┆ i64       ┆ i64       ┆   ┆           ┆           ┆           ┆          │\n",
       "╞═══════════╪═══════════╪═══════════╪═══════════╪═══╪═══════════╪═══════════╪═══════════╪══════════╡\n",
       "│ 1e9e8ef04 ┆ perfumari ┆ 40        ┆ 287       ┆ … ┆ 225       ┆ 16        ┆ 10        ┆ 14       │\n",
       "│ dbcff4541 ┆ a         ┆           ┆           ┆   ┆           ┆           ┆           ┆          │\n",
       "│ ed26657ea ┆           ┆           ┆           ┆   ┆           ┆           ┆           ┆          │\n",
       "│ 517…      ┆           ┆           ┆           ┆   ┆           ┆           ┆           ┆          │\n",
       "│ 3aa071139 ┆ artes     ┆ 44        ┆ 276       ┆ … ┆ 1000      ┆ 30        ┆ 18        ┆ 20       │\n",
       "│ cb16b67ca ┆           ┆           ┆           ┆   ┆           ┆           ┆           ┆          │\n",
       "│ 9e5dea641 ┆           ┆           ┆           ┆   ┆           ┆           ┆           ┆          │\n",
       "│ aaa…      ┆           ┆           ┆           ┆   ┆           ┆           ┆           ┆          │\n",
       "└───────────┴───────────┴───────────┴───────────┴───┴───────────┴───────────┴───────────┴──────────┘"
      ]
     },
     "execution_count": 96,
     "metadata": {},
     "output_type": "execute_result"
    }
   ],
   "source": [
    "product = pl.read_csv(\n",
    "    source = \"dataset/olist_products_dataset.csv\"\n",
    ")\n",
    "product.head(2)"
   ]
  },
  {
   "cell_type": "code",
   "execution_count": 97,
   "metadata": {},
   "outputs": [
    {
     "data": {
      "text/html": [
       "<div><style>\n",
       ".dataframe > thead > tr,\n",
       ".dataframe > tbody > tr {\n",
       "  text-align: right;\n",
       "  white-space: pre-wrap;\n",
       "}\n",
       "</style>\n",
       "<small>shape: (9, 2)</small><table border=\"1\" class=\"dataframe\"><thead><tr><th>column</th><th>column_0</th></tr><tr><td>str</td><td>u32</td></tr></thead><tbody><tr><td>&quot;product_id&quot;</td><td>0</td></tr><tr><td>&quot;product_category_name&quot;</td><td>610</td></tr><tr><td>&quot;product_name_lenght&quot;</td><td>610</td></tr><tr><td>&quot;product_description_lenght&quot;</td><td>610</td></tr><tr><td>&quot;product_photos_qty&quot;</td><td>610</td></tr><tr><td>&quot;product_weight_g&quot;</td><td>2</td></tr><tr><td>&quot;product_length_cm&quot;</td><td>2</td></tr><tr><td>&quot;product_height_cm&quot;</td><td>2</td></tr><tr><td>&quot;product_width_cm&quot;</td><td>2</td></tr></tbody></table></div>"
      ],
      "text/plain": [
       "shape: (9, 2)\n",
       "┌────────────────────────────┬──────────┐\n",
       "│ column                     ┆ column_0 │\n",
       "│ ---                        ┆ ---      │\n",
       "│ str                        ┆ u32      │\n",
       "╞════════════════════════════╪══════════╡\n",
       "│ product_id                 ┆ 0        │\n",
       "│ product_category_name      ┆ 610      │\n",
       "│ product_name_lenght        ┆ 610      │\n",
       "│ product_description_lenght ┆ 610      │\n",
       "│ product_photos_qty         ┆ 610      │\n",
       "│ product_weight_g           ┆ 2        │\n",
       "│ product_length_cm          ┆ 2        │\n",
       "│ product_height_cm          ┆ 2        │\n",
       "│ product_width_cm           ┆ 2        │\n",
       "└────────────────────────────┴──────────┘"
      ]
     },
     "execution_count": 97,
     "metadata": {},
     "output_type": "execute_result"
    }
   ],
   "source": [
    "product.select(\n",
    "    pl.all().null_count()\n",
    ").transpose(include_header=True)"
   ]
  },
  {
   "cell_type": "code",
   "execution_count": 98,
   "metadata": {},
   "outputs": [
    {
     "data": {
      "text/html": [
       "<div><style>\n",
       ".dataframe > thead > tr,\n",
       ".dataframe > tbody > tr {\n",
       "  text-align: right;\n",
       "  white-space: pre-wrap;\n",
       "}\n",
       "</style>\n",
       "<small>shape: (2, 2)</small><table border=\"1\" class=\"dataframe\"><thead><tr><th>product_category_name</th><th>product_category_name_english</th></tr><tr><td>str</td><td>str</td></tr></thead><tbody><tr><td>&quot;beleza_saude&quot;</td><td>&quot;health_beauty&quot;</td></tr><tr><td>&quot;informatica_acessorios&quot;</td><td>&quot;computers_accessories&quot;</td></tr></tbody></table></div>"
      ],
      "text/plain": [
       "shape: (2, 2)\n",
       "┌────────────────────────┬───────────────────────────────┐\n",
       "│ product_category_name  ┆ product_category_name_english │\n",
       "│ ---                    ┆ ---                           │\n",
       "│ str                    ┆ str                           │\n",
       "╞════════════════════════╪═══════════════════════════════╡\n",
       "│ beleza_saude           ┆ health_beauty                 │\n",
       "│ informatica_acessorios ┆ computers_accessories         │\n",
       "└────────────────────────┴───────────────────────────────┘"
      ]
     },
     "execution_count": 98,
     "metadata": {},
     "output_type": "execute_result"
    }
   ],
   "source": [
    "product_name = pl.read_csv(\n",
    "    source = \"dataset/product_category_name_translation.csv\"\n",
    ")\n",
    "product_name.head(2)"
   ]
  },
  {
   "cell_type": "code",
   "execution_count": 99,
   "metadata": {},
   "outputs": [],
   "source": [
    "product_name.write_csv(\n",
    "    \"dataset_limpo_para_analise/olist_products_name.csv\" \n",
    ")"
   ]
  },
  {
   "cell_type": "markdown",
   "metadata": {},
   "source": [
    "#### "
   ]
  },
  {
   "cell_type": "markdown",
   "metadata": {},
   "source": []
  }
 ],
 "metadata": {
  "kernelspec": {
   "display_name": "Python 3",
   "language": "python",
   "name": "python3"
  },
  "language_info": {
   "codemirror_mode": {
    "name": "ipython",
    "version": 3
   },
   "file_extension": ".py",
   "mimetype": "text/x-python",
   "name": "python",
   "nbconvert_exporter": "python",
   "pygments_lexer": "ipython3",
   "version": "3.12.7"
  }
 },
 "nbformat": 4,
 "nbformat_minor": 2
}
