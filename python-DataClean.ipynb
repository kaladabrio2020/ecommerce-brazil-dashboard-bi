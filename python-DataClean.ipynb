{
 "cells": [
  {
   "cell_type": "markdown",
   "metadata": {},
   "source": [
    "#### Sobre o Conjunto de Dados\n",
    "Este é um conjunto de dados público de pedidos do e-commerce brasileiro feitos na loja Olist. O conjunto de dados contém informações de 100 mil pedidos de 2016 a 2018 feitos em diversos marketplaces no Brasil.\n",
    "Esses são dados comerciais reais, que foram anonimizados, e as referências às empresas e parceiros nos textos de avaliação foram substituídas pelos nomes das grandes casas de Game of Thrones.\n",
    "\n",
    "\n",
    "#### Contexto\n",
    "Este conjunto de dados foi generosamente fornecido pela Olist, a maior loja de departamentos dos marketplaces brasileiros. A Olist conecta pequenos negócios de todo o Brasil a canais de vendas, sem complicações e com um único contrato. Esses comerciantes conseguem vender seus produtos através da Olist Store e enviá-los diretamente aos clientes utilizando os parceiros logísticos da Olist. \n",
    "\n",
    "Após o cliente comprar um produto na Olist Store, o vendedor é notificado para atender a esse pedido. Uma vez que o cliente recebe o produto, ou que a data estimada de entrega expire, o cliente recebe uma pesquisa de satisfação por e-mail, onde pode dar uma nota para a experiência de compra e escrever alguns comentários.\n",
    "\n"
   ]
  },
  {
   "cell_type": "markdown",
   "metadata": {},
   "source": [
    "<img src='https://i.imgur.com/HRhd2Y0.png' height=400px/>"
   ]
  },
  {
   "cell_type": "code",
   "execution_count": 44,
   "metadata": {},
   "outputs": [],
   "source": [
    "import polars as pl\n",
    "import pandas as pd"
   ]
  },
  {
   "cell_type": "markdown",
   "metadata": {},
   "source": [
    "#### Informações adcionais\n",
    "----------\n",
    "\n",
    "##### Conjunto de Dados de Clientes(olist_customer)\n",
    "> Este conjunto de dados contém informações sobre o cliente e sua localização. Utilize-o para identificar clientes únicos no conjunto de dados de pedidos e para encontrar a localização de entrega dos pedidos.\n",
    ">\n",
    "> Em nosso sistema, cada pedido é atribuído a um customer_id exclusivo. Isso significa que o mesmo cliente terá diferentes ids para pedidos distintos. O propósito de ter um customer_unique_id no conjunto de dados é permitir que você identifique clientes que fizeram novas compras na loja. Caso contrário, você descobriria que cada pedido estaria associado a um cliente diferente.\n",
    "--------\n",
    "\n",
    "##### Conjunto de Dados de Geolocalização (geolocation)\n",
    "> Este conjunto de dados contém informações sobre os códigos postais brasileiros e suas coordenadas de latitude/longitude. Utilize-o para plotar mapas e calcular distâncias entre vendedores e clientes\n",
    "\n",
    "--------\n",
    "\n",
    "##### Conjunto de Dados de Itens de Pedidos (order_items)\n",
    "> Este conjunto de dados inclui informações sobre os itens comprados em cada pedido.\n",
    "\n",
    "> Exemplo:\n",
    "> O order_id = 00143d0f86d6fbd9f9b38ab440ac16f5 possui 3 itens (mesmo produto). Cada item tem o frete calculado de acordo com suas medidas e peso. Para obter o valor total do frete de cada pedido, basta somar.\n",
    "\n",
    "\n",
    "-------\n",
    "##### Payments Dataset\n",
    "> This dataset includes data about the orders payment options.\n",
    "\n",
    "-------\n",
    "##### Conjunto de Dados de Avaliações de Pedidos (reviews dataset) \n",
    "> Este conjunto de dados inclui informações sobre as avaliações feitas pelos clientes.\n",
    "> Após o cliente comprar um produto na Olist Store, o vendedor é notificado para atender a esse pedido. Quando o cliente recebe o produto, ou quando a data estimada de entrega se expira, o cliente recebe uma pesquisa de satisfação por e-mail, onde pode dar uma nota para a experiência de compra e escrever alguns comentários."
   ]
  },
  {
   "cell_type": "markdown",
   "metadata": {},
   "source": [
    "&nbsp;"
   ]
  },
  {
   "cell_type": "markdown",
   "metadata": {},
   "source": [
    "### Limpeza de dados"
   ]
  },
  {
   "cell_type": "markdown",
   "metadata": {},
   "source": [
    "#### Limpeza para os Dados de Clientes(olist_customer)"
   ]
  },
  {
   "cell_type": "code",
   "execution_count": 45,
   "metadata": {},
   "outputs": [],
   "source": [
    "customer = pl.read_csv(\n",
    "    source='dataset/olist_customers_dataset.csv', infer_schema=False\n",
    ")"
   ]
  },
  {
   "cell_type": "code",
   "execution_count": 46,
   "metadata": {},
   "outputs": [
    {
     "data": {
      "text/html": [
       "<div><style>\n",
       ".dataframe > thead > tr,\n",
       ".dataframe > tbody > tr {\n",
       "  text-align: right;\n",
       "  white-space: pre-wrap;\n",
       "}\n",
       "</style>\n",
       "<small>shape: (2, 5)</small><table border=\"1\" class=\"dataframe\"><thead><tr><th>customer_id</th><th>customer_unique_id</th><th>customer_zip_code_prefix</th><th>customer_city</th><th>customer_state</th></tr><tr><td>str</td><td>str</td><td>str</td><td>str</td><td>str</td></tr></thead><tbody><tr><td>&quot;06b8999e2fba1a1fbc88172c00ba8b…</td><td>&quot;861eff4711a542e4b93843c6dd7feb…</td><td>&quot;14409&quot;</td><td>&quot;franca&quot;</td><td>&quot;SP&quot;</td></tr><tr><td>&quot;18955e83d337fd6b2def6b18a428ac…</td><td>&quot;290c77bc529b7ac935b93aa66c333d…</td><td>&quot;09790&quot;</td><td>&quot;sao bernardo do campo&quot;</td><td>&quot;SP&quot;</td></tr></tbody></table></div>"
      ],
      "text/plain": [
       "shape: (2, 5)\n",
       "┌────────────────────┬────────────────────┬───────────────────┬───────────────────┬────────────────┐\n",
       "│ customer_id        ┆ customer_unique_id ┆ customer_zip_code ┆ customer_city     ┆ customer_state │\n",
       "│ ---                ┆ ---                ┆ _prefix           ┆ ---               ┆ ---            │\n",
       "│ str                ┆ str                ┆ ---               ┆ str               ┆ str            │\n",
       "│                    ┆                    ┆ str               ┆                   ┆                │\n",
       "╞════════════════════╪════════════════════╪═══════════════════╪═══════════════════╪════════════════╡\n",
       "│ 06b8999e2fba1a1fbc ┆ 861eff4711a542e4b9 ┆ 14409             ┆ franca            ┆ SP             │\n",
       "│ 88172c00ba8b…      ┆ 3843c6dd7feb…      ┆                   ┆                   ┆                │\n",
       "│ 18955e83d337fd6b2d ┆ 290c77bc529b7ac935 ┆ 09790             ┆ sao bernardo do   ┆ SP             │\n",
       "│ ef6b18a428ac…      ┆ b93aa66c333d…      ┆                   ┆ campo             ┆                │\n",
       "└────────────────────┴────────────────────┴───────────────────┴───────────────────┴────────────────┘"
      ]
     },
     "execution_count": 46,
     "metadata": {},
     "output_type": "execute_result"
    }
   ],
   "source": [
    "customer.head(2)"
   ]
  },
  {
   "cell_type": "code",
   "execution_count": 47,
   "metadata": {},
   "outputs": [
    {
     "data": {
      "text/plain": [
       "(99441, 5)"
      ]
     },
     "execution_count": 47,
     "metadata": {},
     "output_type": "execute_result"
    }
   ],
   "source": [
    "customer.shape"
   ]
  },
  {
   "cell_type": "markdown",
   "metadata": {},
   "source": [
    "Verificando a quantidade de valores únicos de cada coluna"
   ]
  },
  {
   "cell_type": "code",
   "execution_count": 48,
   "metadata": {},
   "outputs": [
    {
     "data": {
      "text/html": [
       "<div>\n",
       "<style scoped>\n",
       "    .dataframe tbody tr th:only-of-type {\n",
       "        vertical-align: middle;\n",
       "    }\n",
       "\n",
       "    .dataframe tbody tr th {\n",
       "        vertical-align: top;\n",
       "    }\n",
       "\n",
       "    .dataframe thead th {\n",
       "        text-align: right;\n",
       "    }\n",
       "</style>\n",
       "<table border=\"1\" class=\"dataframe\">\n",
       "  <thead>\n",
       "    <tr style=\"text-align: right;\">\n",
       "      <th></th>\n",
       "      <th>Quantidade de valores únicos</th>\n",
       "    </tr>\n",
       "  </thead>\n",
       "  <tbody>\n",
       "    <tr>\n",
       "      <th>customer_id</th>\n",
       "      <td>99441</td>\n",
       "    </tr>\n",
       "    <tr>\n",
       "      <th>customer_unique_id</th>\n",
       "      <td>96096</td>\n",
       "    </tr>\n",
       "    <tr>\n",
       "      <th>customer_zip_code_prefix</th>\n",
       "      <td>14994</td>\n",
       "    </tr>\n",
       "    <tr>\n",
       "      <th>customer_city</th>\n",
       "      <td>4119</td>\n",
       "    </tr>\n",
       "    <tr>\n",
       "      <th>customer_state</th>\n",
       "      <td>27</td>\n",
       "    </tr>\n",
       "  </tbody>\n",
       "</table>\n",
       "</div>"
      ],
      "text/plain": [
       "                          Quantidade de valores únicos\n",
       "customer_id                                      99441\n",
       "customer_unique_id                               96096\n",
       "customer_zip_code_prefix                         14994\n",
       "customer_city                                     4119\n",
       "customer_state                                      27"
      ]
     },
     "execution_count": 48,
     "metadata": {},
     "output_type": "execute_result"
    }
   ],
   "source": [
    "pd.DataFrame({\n",
    "    col : customer.select(pl.col(col)).n_unique() \\\n",
    "    for col in customer.columns\n",
    "}, index=['Quantidade de valores únicos']).T"
   ]
  },
  {
   "cell_type": "markdown",
   "metadata": {},
   "source": [
    "> `customer_id` é uma chave primaria\n",
    ">\n",
    "> `customer_zip_code_prefix` é uma chave estrangeira"
   ]
  },
  {
   "cell_type": "markdown",
   "metadata": {},
   "source": [
    "Chave primaria e chave estrangeira não necessitam de tratamento, somente, se houver valores nulos nesse conj. dados. Mais abaixo irei verificar a quantidade de valores nulos por colunas"
   ]
  },
  {
   "cell_type": "code",
   "execution_count": 49,
   "metadata": {},
   "outputs": [
    {
     "data": {
      "text/plain": [
       "0"
      ]
     },
     "execution_count": 49,
     "metadata": {},
     "output_type": "execute_result"
    }
   ],
   "source": [
    "customer.select(pl.col('customer_id').null_count()).item()"
   ]
  },
  {
   "cell_type": "code",
   "execution_count": 50,
   "metadata": {},
   "outputs": [
    {
     "data": {
      "text/html": [
       "<div>\n",
       "<style scoped>\n",
       "    .dataframe tbody tr th:only-of-type {\n",
       "        vertical-align: middle;\n",
       "    }\n",
       "\n",
       "    .dataframe tbody tr th {\n",
       "        vertical-align: top;\n",
       "    }\n",
       "\n",
       "    .dataframe thead th {\n",
       "        text-align: right;\n",
       "    }\n",
       "</style>\n",
       "<table border=\"1\" class=\"dataframe\">\n",
       "  <thead>\n",
       "    <tr style=\"text-align: right;\">\n",
       "      <th></th>\n",
       "      <th>colunas</th>\n",
       "      <th>Quantidade de valores nulos</th>\n",
       "    </tr>\n",
       "  </thead>\n",
       "  <tbody>\n",
       "    <tr>\n",
       "      <th>0</th>\n",
       "      <td>customer_id</td>\n",
       "      <td>0</td>\n",
       "    </tr>\n",
       "    <tr>\n",
       "      <th>1</th>\n",
       "      <td>customer_unique_id</td>\n",
       "      <td>0</td>\n",
       "    </tr>\n",
       "    <tr>\n",
       "      <th>2</th>\n",
       "      <td>customer_zip_code_prefix</td>\n",
       "      <td>0</td>\n",
       "    </tr>\n",
       "    <tr>\n",
       "      <th>3</th>\n",
       "      <td>customer_city</td>\n",
       "      <td>0</td>\n",
       "    </tr>\n",
       "    <tr>\n",
       "      <th>4</th>\n",
       "      <td>customer_state</td>\n",
       "      <td>0</td>\n",
       "    </tr>\n",
       "  </tbody>\n",
       "</table>\n",
       "</div>"
      ],
      "text/plain": [
       "                    colunas  Quantidade de valores nulos\n",
       "0               customer_id                            0\n",
       "1        customer_unique_id                            0\n",
       "2  customer_zip_code_prefix                            0\n",
       "3             customer_city                            0\n",
       "4            customer_state                            0"
      ]
     },
     "execution_count": 50,
     "metadata": {},
     "output_type": "execute_result"
    }
   ],
   "source": [
    "customer\\\n",
    "    .null_count()\\\n",
    "    .transpose(\n",
    "        include_header=True,\n",
    "        header_name   ='colunas',\n",
    "        column_names  =['Quantidade de valores nulos']\n",
    ").to_pandas()"
   ]
  },
  {
   "cell_type": "markdown",
   "metadata": {},
   "source": [
    "> Não há valores nulos nas colunas acima"
   ]
  },
  {
   "cell_type": "markdown",
   "metadata": {},
   "source": [
    "fazendo uma analise nas colunas `customer_city` e `customer_state`"
   ]
  },
  {
   "cell_type": "code",
   "execution_count": 51,
   "metadata": {},
   "outputs": [
    {
     "data": {
      "text/html": [
       "<div><style>\n",
       ".dataframe > thead > tr,\n",
       ".dataframe > tbody > tr {\n",
       "  text-align: right;\n",
       "  white-space: pre-wrap;\n",
       "}\n",
       "</style>\n",
       "<small>shape: (3, 1)</small><table border=\"1\" class=\"dataframe\"><thead><tr><th>customer_city</th></tr><tr><td>str</td></tr></thead><tbody><tr><td>&quot;franca&quot;</td></tr><tr><td>&quot;sao bernardo do campo&quot;</td></tr><tr><td>&quot;sao paulo&quot;</td></tr></tbody></table></div>"
      ],
      "text/plain": [
       "shape: (3, 1)\n",
       "┌───────────────────────┐\n",
       "│ customer_city         │\n",
       "│ ---                   │\n",
       "│ str                   │\n",
       "╞═══════════════════════╡\n",
       "│ franca                │\n",
       "│ sao bernardo do campo │\n",
       "│ sao paulo             │\n",
       "└───────────────────────┘"
      ]
     },
     "execution_count": 51,
     "metadata": {},
     "output_type": "execute_result"
    }
   ],
   "source": [
    "customer.select(pl.col('customer_city')).head(3)"
   ]
  },
  {
   "cell_type": "markdown",
   "metadata": {},
   "source": [
    "> vou deixar no formato de titulo o texto para melhor visualização para futura analises"
   ]
  },
  {
   "cell_type": "code",
   "execution_count": 52,
   "metadata": {},
   "outputs": [],
   "source": [
    "customer = customer.with_columns(\n",
    "    pl.col('customer_city').cast(pl.String).str.to_titlecase()\n",
    ")"
   ]
  },
  {
   "cell_type": "code",
   "execution_count": 53,
   "metadata": {},
   "outputs": [
    {
     "data": {
      "text/html": [
       "<div><style>\n",
       ".dataframe > thead > tr,\n",
       ".dataframe > tbody > tr {\n",
       "  text-align: right;\n",
       "  white-space: pre-wrap;\n",
       "}\n",
       "</style>\n",
       "<small>shape: (10, 1)</small><table border=\"1\" class=\"dataframe\"><thead><tr><th>customer_city</th></tr><tr><td>str</td></tr></thead><tbody><tr><td>&quot;Franca&quot;</td></tr><tr><td>&quot;Sao Bernardo Do Campo&quot;</td></tr><tr><td>&quot;Sao Paulo&quot;</td></tr><tr><td>&quot;Mogi Das Cruzes&quot;</td></tr><tr><td>&quot;Campinas&quot;</td></tr><tr><td>&quot;Jaragua Do Sul&quot;</td></tr><tr><td>&quot;Sao Paulo&quot;</td></tr><tr><td>&quot;Timoteo&quot;</td></tr><tr><td>&quot;Curitiba&quot;</td></tr><tr><td>&quot;Belo Horizonte&quot;</td></tr></tbody></table></div>"
      ],
      "text/plain": [
       "shape: (10, 1)\n",
       "┌───────────────────────┐\n",
       "│ customer_city         │\n",
       "│ ---                   │\n",
       "│ str                   │\n",
       "╞═══════════════════════╡\n",
       "│ Franca                │\n",
       "│ Sao Bernardo Do Campo │\n",
       "│ Sao Paulo             │\n",
       "│ Mogi Das Cruzes       │\n",
       "│ Campinas              │\n",
       "│ Jaragua Do Sul        │\n",
       "│ Sao Paulo             │\n",
       "│ Timoteo               │\n",
       "│ Curitiba              │\n",
       "│ Belo Horizonte        │\n",
       "└───────────────────────┘"
      ]
     },
     "execution_count": 53,
     "metadata": {},
     "output_type": "execute_result"
    }
   ],
   "source": [
    "customer.select(pl.col('customer_city')).head(10)"
   ]
  },
  {
   "cell_type": "code",
   "execution_count": 54,
   "metadata": {},
   "outputs": [],
   "source": [
    "# Escrevendo dados\n",
    "customer.write_csv(file='dataset_limpo_para_analise/olist_customers.csv')"
   ]
  },
  {
   "cell_type": "markdown",
   "metadata": {},
   "source": [
    "&nbsp;"
   ]
  },
  {
   "cell_type": "markdown",
   "metadata": {},
   "source": [
    "#### Limpeza para os Dados de Clientes(olist_customer)"
   ]
  },
  {
   "cell_type": "code",
   "execution_count": 55,
   "metadata": {},
   "outputs": [
    {
     "data": {
      "text/html": [
       "<div><style>\n",
       ".dataframe > thead > tr,\n",
       ".dataframe > tbody > tr {\n",
       "  text-align: right;\n",
       "  white-space: pre-wrap;\n",
       "}\n",
       "</style>\n",
       "<small>shape: (3, 8)</small><table border=\"1\" class=\"dataframe\"><thead><tr><th>order_id</th><th>customer_id</th><th>order_status</th><th>order_purchase_timestamp</th><th>order_approved_at</th><th>order_delivered_carrier_date</th><th>order_delivered_customer_date</th><th>order_estimated_delivery_date</th></tr><tr><td>str</td><td>str</td><td>str</td><td>str</td><td>str</td><td>str</td><td>str</td><td>str</td></tr></thead><tbody><tr><td>&quot;e481f51cbdc54678b7cc49136f2d6a…</td><td>&quot;9ef432eb6251297304e76186b10a92…</td><td>&quot;delivered&quot;</td><td>&quot;2017-10-02 10:56:33&quot;</td><td>&quot;2017-10-02 11:07:15&quot;</td><td>&quot;2017-10-04 19:55:00&quot;</td><td>&quot;2017-10-10 21:25:13&quot;</td><td>&quot;2017-10-18 00:00:00&quot;</td></tr><tr><td>&quot;53cdb2fc8bc7dce0b6741e21502734…</td><td>&quot;b0830fb4747a6c6d20dea0b8c802d7…</td><td>&quot;delivered&quot;</td><td>&quot;2018-07-24 20:41:37&quot;</td><td>&quot;2018-07-26 03:24:27&quot;</td><td>&quot;2018-07-26 14:31:00&quot;</td><td>&quot;2018-08-07 15:27:45&quot;</td><td>&quot;2018-08-13 00:00:00&quot;</td></tr><tr><td>&quot;47770eb9100c2d0c44946d9cf07ec6…</td><td>&quot;41ce2a54c0b03bf3443c3d931a3670…</td><td>&quot;delivered&quot;</td><td>&quot;2018-08-08 08:38:49&quot;</td><td>&quot;2018-08-08 08:55:23&quot;</td><td>&quot;2018-08-08 13:50:00&quot;</td><td>&quot;2018-08-17 18:06:29&quot;</td><td>&quot;2018-09-04 00:00:00&quot;</td></tr></tbody></table></div>"
      ],
      "text/plain": [
       "shape: (3, 8)\n",
       "┌────────────┬────────────┬────────────┬───────────┬───────────┬───────────┬───────────┬───────────┐\n",
       "│ order_id   ┆ customer_i ┆ order_stat ┆ order_pur ┆ order_app ┆ order_del ┆ order_del ┆ order_est │\n",
       "│ ---        ┆ d          ┆ us         ┆ chase_tim ┆ roved_at  ┆ ivered_ca ┆ ivered_cu ┆ imated_de │\n",
       "│ str        ┆ ---        ┆ ---        ┆ estamp    ┆ ---       ┆ rrier_dat ┆ stomer_da ┆ livery_da │\n",
       "│            ┆ str        ┆ str        ┆ ---       ┆ str       ┆ e         ┆ te        ┆ te        │\n",
       "│            ┆            ┆            ┆ str       ┆           ┆ ---       ┆ ---       ┆ ---       │\n",
       "│            ┆            ┆            ┆           ┆           ┆ str       ┆ str       ┆ str       │\n",
       "╞════════════╪════════════╪════════════╪═══════════╪═══════════╪═══════════╪═══════════╪═══════════╡\n",
       "│ e481f51cbd ┆ 9ef432eb62 ┆ delivered  ┆ 2017-10-0 ┆ 2017-10-0 ┆ 2017-10-0 ┆ 2017-10-1 ┆ 2017-10-1 │\n",
       "│ c54678b7cc ┆ 51297304e7 ┆            ┆ 2         ┆ 2         ┆ 4         ┆ 0         ┆ 8         │\n",
       "│ 49136f2d6a ┆ 6186b10a92 ┆            ┆ 10:56:33  ┆ 11:07:15  ┆ 19:55:00  ┆ 21:25:13  ┆ 00:00:00  │\n",
       "│ …          ┆ …          ┆            ┆           ┆           ┆           ┆           ┆           │\n",
       "│ 53cdb2fc8b ┆ b0830fb474 ┆ delivered  ┆ 2018-07-2 ┆ 2018-07-2 ┆ 2018-07-2 ┆ 2018-08-0 ┆ 2018-08-1 │\n",
       "│ c7dce0b674 ┆ 7a6c6d20de ┆            ┆ 4         ┆ 6         ┆ 6         ┆ 7         ┆ 3         │\n",
       "│ 1e21502734 ┆ a0b8c802d7 ┆            ┆ 20:41:37  ┆ 03:24:27  ┆ 14:31:00  ┆ 15:27:45  ┆ 00:00:00  │\n",
       "│ …          ┆ …          ┆            ┆           ┆           ┆           ┆           ┆           │\n",
       "│ 47770eb910 ┆ 41ce2a54c0 ┆ delivered  ┆ 2018-08-0 ┆ 2018-08-0 ┆ 2018-08-0 ┆ 2018-08-1 ┆ 2018-09-0 │\n",
       "│ 0c2d0c4494 ┆ b03bf3443c ┆            ┆ 8         ┆ 8         ┆ 8         ┆ 7         ┆ 4         │\n",
       "│ 6d9cf07ec6 ┆ 3d931a3670 ┆            ┆ 08:38:49  ┆ 08:55:23  ┆ 13:50:00  ┆ 18:06:29  ┆ 00:00:00  │\n",
       "│ …          ┆ …          ┆            ┆           ┆           ┆           ┆           ┆           │\n",
       "└────────────┴────────────┴────────────┴───────────┴───────────┴───────────┴───────────┴───────────┘"
      ]
     },
     "execution_count": 55,
     "metadata": {},
     "output_type": "execute_result"
    }
   ],
   "source": [
    "order = pl.read_csv('dataset/olist_orders_dataset.csv', infer_schema=False)\n",
    "order.head(3)"
   ]
  },
  {
   "cell_type": "code",
   "execution_count": 56,
   "metadata": {},
   "outputs": [
    {
     "data": {
      "text/html": [
       "<div><style>\n",
       ".dataframe > thead > tr,\n",
       ".dataframe > tbody > tr {\n",
       "  text-align: right;\n",
       "  white-space: pre-wrap;\n",
       "}\n",
       "</style>\n",
       "<small>shape: (8,)</small><table border=\"1\" class=\"dataframe\"><thead><tr><th>order_status</th></tr><tr><td>str</td></tr></thead><tbody><tr><td>&quot;delivered&quot;</td></tr><tr><td>&quot;created&quot;</td></tr><tr><td>&quot;unavailable&quot;</td></tr><tr><td>&quot;shipped&quot;</td></tr><tr><td>&quot;processing&quot;</td></tr><tr><td>&quot;invoiced&quot;</td></tr><tr><td>&quot;approved&quot;</td></tr><tr><td>&quot;canceled&quot;</td></tr></tbody></table></div>"
      ],
      "text/plain": [
       "shape: (8,)\n",
       "Series: 'order_status' [str]\n",
       "[\n",
       "\t\"delivered\"\n",
       "\t\"created\"\n",
       "\t\"unavailable\"\n",
       "\t\"shipped\"\n",
       "\t\"processing\"\n",
       "\t\"invoiced\"\n",
       "\t\"approved\"\n",
       "\t\"canceled\"\n",
       "]"
      ]
     },
     "execution_count": 56,
     "metadata": {},
     "output_type": "execute_result"
    }
   ],
   "source": [
    "order['order_status'].unique()"
   ]
  },
  {
   "cell_type": "code",
   "execution_count": 57,
   "metadata": {},
   "outputs": [],
   "source": [
    "status_map = {\n",
    "    \"delivered\": \"entregue\",\n",
    "    \"invoiced\": \"faturado\",\n",
    "    \"shipped\": \"enviado\",\n",
    "    \"created\": \"criado\",\n",
    "    \"approved\": \"aprovado\",\n",
    "    \"processing\": \"processando\",\n",
    "    'canceled' :'cancelado',\n",
    "    'unavailable': 'indisponível'\n",
    "}"
   ]
  },
  {
   "cell_type": "code",
   "execution_count": 58,
   "metadata": {},
   "outputs": [],
   "source": [
    "order = order.with_columns(\n",
    "    pl.col(\"order_status\").replace(status_map)\n",
    ")"
   ]
  },
  {
   "cell_type": "code",
   "execution_count": 59,
   "metadata": {},
   "outputs": [
    {
     "data": {
      "text/html": [
       "<div><style>\n",
       ".dataframe > thead > tr,\n",
       ".dataframe > tbody > tr {\n",
       "  text-align: right;\n",
       "  white-space: pre-wrap;\n",
       "}\n",
       "</style>\n",
       "<small>shape: (8,)</small><table border=\"1\" class=\"dataframe\"><thead><tr><th>order_status</th></tr><tr><td>str</td></tr></thead><tbody><tr><td>&quot;enviado&quot;</td></tr><tr><td>&quot;faturado&quot;</td></tr><tr><td>&quot;aprovado&quot;</td></tr><tr><td>&quot;indisponível&quot;</td></tr><tr><td>&quot;cancelado&quot;</td></tr><tr><td>&quot;entregue&quot;</td></tr><tr><td>&quot;processando&quot;</td></tr><tr><td>&quot;criado&quot;</td></tr></tbody></table></div>"
      ],
      "text/plain": [
       "shape: (8,)\n",
       "Series: 'order_status' [str]\n",
       "[\n",
       "\t\"enviado\"\n",
       "\t\"faturado\"\n",
       "\t\"aprovado\"\n",
       "\t\"indisponível\"\n",
       "\t\"cancelado\"\n",
       "\t\"entregue\"\n",
       "\t\"processando\"\n",
       "\t\"criado\"\n",
       "]"
      ]
     },
     "execution_count": 59,
     "metadata": {},
     "output_type": "execute_result"
    }
   ],
   "source": [
    "order['order_status'].unique()"
   ]
  },
  {
   "cell_type": "markdown",
   "metadata": {},
   "source": [
    "- \"enviado\", 'entrege','aprovado, 'entregue', 'faturado' = 'ok'\n",
    "- 'cancelado', 'indisponivel' = no\n",
    "- 'processado'  = 'em processo'"
   ]
  },
  {
   "cell_type": "code",
   "execution_count": 60,
   "metadata": {},
   "outputs": [],
   "source": [
    "ok = ['enviado', 'entrege','aprovado', 'entregue', 'faturado']\n",
    "no = ['cancelado', 'indisponível']\n",
    "in_ = ['processando']\n",
    "\n",
    "order = order.with_columns(\n",
    "    status_ = pl.when(pl.col('order_status').is_in(ok))\\\n",
    "                .then(pl.lit('ok'))\\\n",
    "                .when(pl.col('order_status').is_in(no))\\\n",
    "                .then(pl.lit('no'))\n",
    "                .otherwise(pl.lit('in_'))\n",
    ")"
   ]
  },
  {
   "cell_type": "code",
   "execution_count": 61,
   "metadata": {},
   "outputs": [
    {
     "data": {
      "text/html": [
       "<div><style>\n",
       ".dataframe > thead > tr,\n",
       ".dataframe > tbody > tr {\n",
       "  text-align: right;\n",
       "  white-space: pre-wrap;\n",
       "}\n",
       "</style>\n",
       "<small>shape: (9, 2)</small><table border=\"1\" class=\"dataframe\"><thead><tr><th>colunas</th><th>Quantidade de valores nulos</th></tr><tr><td>str</td><td>u32</td></tr></thead><tbody><tr><td>&quot;order_id&quot;</td><td>0</td></tr><tr><td>&quot;customer_id&quot;</td><td>0</td></tr><tr><td>&quot;order_status&quot;</td><td>0</td></tr><tr><td>&quot;order_purchase_timestamp&quot;</td><td>0</td></tr><tr><td>&quot;order_approved_at&quot;</td><td>160</td></tr><tr><td>&quot;order_delivered_carrier_date&quot;</td><td>1783</td></tr><tr><td>&quot;order_delivered_customer_date&quot;</td><td>2965</td></tr><tr><td>&quot;order_estimated_delivery_date&quot;</td><td>0</td></tr><tr><td>&quot;status_&quot;</td><td>0</td></tr></tbody></table></div>"
      ],
      "text/plain": [
       "shape: (9, 2)\n",
       "┌───────────────────────────────┬─────────────────────────────┐\n",
       "│ colunas                       ┆ Quantidade de valores nulos │\n",
       "│ ---                           ┆ ---                         │\n",
       "│ str                           ┆ u32                         │\n",
       "╞═══════════════════════════════╪═════════════════════════════╡\n",
       "│ order_id                      ┆ 0                           │\n",
       "│ customer_id                   ┆ 0                           │\n",
       "│ order_status                  ┆ 0                           │\n",
       "│ order_purchase_timestamp      ┆ 0                           │\n",
       "│ order_approved_at             ┆ 160                         │\n",
       "│ order_delivered_carrier_date  ┆ 1783                        │\n",
       "│ order_delivered_customer_date ┆ 2965                        │\n",
       "│ order_estimated_delivery_date ┆ 0                           │\n",
       "│ status_                       ┆ 0                           │\n",
       "└───────────────────────────────┴─────────────────────────────┘"
      ]
     },
     "execution_count": 61,
     "metadata": {},
     "output_type": "execute_result"
    }
   ],
   "source": [
    "order\\\n",
    "    .null_count()\\\n",
    "    .transpose(\n",
    "        include_header=True,\n",
    "        header_name   ='colunas',\n",
    "        column_names  =['Quantidade de valores nulos']\n",
    ")"
   ]
  },
  {
   "cell_type": "markdown",
   "metadata": {},
   "source": [
    "> Os valores nan serão removidas"
   ]
  },
  {
   "cell_type": "code",
   "execution_count": 62,
   "metadata": {},
   "outputs": [],
   "source": [
    "order.write_csv(\n",
    "    'dataset_limpo_para_analise\\\\olist_order.csv'\n",
    ")"
   ]
  },
  {
   "cell_type": "markdown",
   "metadata": {},
   "source": [
    "#### limpeza para Itens de Pedidos (order_items)"
   ]
  },
  {
   "cell_type": "code",
   "execution_count": 63,
   "metadata": {},
   "outputs": [],
   "source": [
    "pedidos = pl.read_csv(\n",
    "    source='dataset/olist_order_items_dataset.csv',\n",
    "    infer_schema=False\n",
    "    )"
   ]
  },
  {
   "cell_type": "code",
   "execution_count": 64,
   "metadata": {},
   "outputs": [
    {
     "data": {
      "text/plain": [
       "['order_id',\n",
       " 'order_item_id',\n",
       " 'product_id',\n",
       " 'seller_id',\n",
       " 'shipping_limit_date',\n",
       " 'price',\n",
       " 'freight_value']"
      ]
     },
     "execution_count": 64,
     "metadata": {},
     "output_type": "execute_result"
    }
   ],
   "source": [
    "pedidos.columns"
   ]
  },
  {
   "cell_type": "code",
   "execution_count": 65,
   "metadata": {},
   "outputs": [
    {
     "data": {
      "text/html": [
       "<div><style>\n",
       ".dataframe > thead > tr,\n",
       ".dataframe > tbody > tr {\n",
       "  text-align: right;\n",
       "  white-space: pre-wrap;\n",
       "}\n",
       "</style>\n",
       "<small>shape: (3, 7)</small><table border=\"1\" class=\"dataframe\"><thead><tr><th>order_id</th><th>order_item_id</th><th>product_id</th><th>seller_id</th><th>shipping_limit_date</th><th>price</th><th>freight_value</th></tr><tr><td>str</td><td>str</td><td>str</td><td>str</td><td>str</td><td>str</td><td>str</td></tr></thead><tbody><tr><td>&quot;00010242fe8c5a6d1ba2dd792cb162…</td><td>&quot;1&quot;</td><td>&quot;4244733e06e7ecb4970a6e2683c13e…</td><td>&quot;48436dade18ac8b2bce089ec2a0412…</td><td>&quot;2017-09-19 09:45:35&quot;</td><td>&quot;58.90&quot;</td><td>&quot;13.29&quot;</td></tr><tr><td>&quot;00018f77f2f0320c557190d7a144bd…</td><td>&quot;1&quot;</td><td>&quot;e5f2d52b802189ee658865ca93d83a…</td><td>&quot;dd7ddc04e1b6c2c614352b383efe2d…</td><td>&quot;2017-05-03 11:05:13&quot;</td><td>&quot;239.90&quot;</td><td>&quot;19.93&quot;</td></tr><tr><td>&quot;000229ec398224ef6ca0657da4fc70…</td><td>&quot;1&quot;</td><td>&quot;c777355d18b72b67abbeef9df44fd0…</td><td>&quot;5b51032eddd242adc84c38acab88f2…</td><td>&quot;2018-01-18 14:48:30&quot;</td><td>&quot;199.00&quot;</td><td>&quot;17.87&quot;</td></tr></tbody></table></div>"
      ],
      "text/plain": [
       "shape: (3, 7)\n",
       "┌──────────────┬──────────────┬──────────────┬──────────────┬──────────────┬────────┬──────────────┐\n",
       "│ order_id     ┆ order_item_i ┆ product_id   ┆ seller_id    ┆ shipping_lim ┆ price  ┆ freight_valu │\n",
       "│ ---          ┆ d            ┆ ---          ┆ ---          ┆ it_date      ┆ ---    ┆ e            │\n",
       "│ str          ┆ ---          ┆ str          ┆ str          ┆ ---          ┆ str    ┆ ---          │\n",
       "│              ┆ str          ┆              ┆              ┆ str          ┆        ┆ str          │\n",
       "╞══════════════╪══════════════╪══════════════╪══════════════╪══════════════╪════════╪══════════════╡\n",
       "│ 00010242fe8c ┆ 1            ┆ 4244733e06e7 ┆ 48436dade18a ┆ 2017-09-19   ┆ 58.90  ┆ 13.29        │\n",
       "│ 5a6d1ba2dd79 ┆              ┆ ecb4970a6e26 ┆ c8b2bce089ec ┆ 09:45:35     ┆        ┆              │\n",
       "│ 2cb162…      ┆              ┆ 83c13e…      ┆ 2a0412…      ┆              ┆        ┆              │\n",
       "│ 00018f77f2f0 ┆ 1            ┆ e5f2d52b8021 ┆ dd7ddc04e1b6 ┆ 2017-05-03   ┆ 239.90 ┆ 19.93        │\n",
       "│ 320c557190d7 ┆              ┆ 89ee658865ca ┆ c2c614352b38 ┆ 11:05:13     ┆        ┆              │\n",
       "│ a144bd…      ┆              ┆ 93d83a…      ┆ 3efe2d…      ┆              ┆        ┆              │\n",
       "│ 000229ec3982 ┆ 1            ┆ c777355d18b7 ┆ 5b51032eddd2 ┆ 2018-01-18   ┆ 199.00 ┆ 17.87        │\n",
       "│ 24ef6ca0657d ┆              ┆ 2b67abbeef9d ┆ 42adc84c38ac ┆ 14:48:30     ┆        ┆              │\n",
       "│ a4fc70…      ┆              ┆ f44fd0…      ┆ ab88f2…      ┆              ┆        ┆              │\n",
       "└──────────────┴──────────────┴──────────────┴──────────────┴──────────────┴────────┴──────────────┘"
      ]
     },
     "execution_count": 65,
     "metadata": {},
     "output_type": "execute_result"
    }
   ],
   "source": [
    "pedidos.head(3)"
   ]
  },
  {
   "cell_type": "code",
   "execution_count": 66,
   "metadata": {},
   "outputs": [
    {
     "data": {
      "text/html": [
       "<div><style>\n",
       ".dataframe > thead > tr,\n",
       ".dataframe > tbody > tr {\n",
       "  text-align: right;\n",
       "  white-space: pre-wrap;\n",
       "}\n",
       "</style>\n",
       "<small>shape: (7, 2)</small><table border=\"1\" class=\"dataframe\"><thead><tr><th>colunas</th><th>Valores Únicos</th></tr><tr><td>str</td><td>u32</td></tr></thead><tbody><tr><td>&quot;order_id&quot;</td><td>98666</td></tr><tr><td>&quot;order_item_id&quot;</td><td>21</td></tr><tr><td>&quot;product_id&quot;</td><td>32951</td></tr><tr><td>&quot;seller_id&quot;</td><td>3095</td></tr><tr><td>&quot;shipping_limit_date&quot;</td><td>93318</td></tr><tr><td>&quot;price&quot;</td><td>5968</td></tr><tr><td>&quot;freight_value&quot;</td><td>6999</td></tr></tbody></table></div>"
      ],
      "text/plain": [
       "shape: (7, 2)\n",
       "┌─────────────────────┬────────────────┐\n",
       "│ colunas             ┆ Valores Únicos │\n",
       "│ ---                 ┆ ---            │\n",
       "│ str                 ┆ u32            │\n",
       "╞═════════════════════╪════════════════╡\n",
       "│ order_id            ┆ 98666          │\n",
       "│ order_item_id       ┆ 21             │\n",
       "│ product_id          ┆ 32951          │\n",
       "│ seller_id           ┆ 3095           │\n",
       "│ shipping_limit_date ┆ 93318          │\n",
       "│ price               ┆ 5968           │\n",
       "│ freight_value       ┆ 6999           │\n",
       "└─────────────────────┴────────────────┘"
      ]
     },
     "execution_count": 66,
     "metadata": {},
     "output_type": "execute_result"
    }
   ],
   "source": [
    "pedidos\\\n",
    "    .select(pl.all().n_unique())\\\n",
    "    .transpose(\n",
    "        include_header=True,\n",
    "        header_name='colunas',\n",
    "        column_names=['Valores Únicos']\n",
    "    )"
   ]
  },
  {
   "cell_type": "code",
   "execution_count": 67,
   "metadata": {},
   "outputs": [
    {
     "data": {
      "text/html": [
       "<div><style>\n",
       ".dataframe > thead > tr,\n",
       ".dataframe > tbody > tr {\n",
       "  text-align: right;\n",
       "  white-space: pre-wrap;\n",
       "}\n",
       "</style>\n",
       "<small>shape: (7, 2)</small><table border=\"1\" class=\"dataframe\"><thead><tr><th>colunas</th><th>Quantidade de valores nulos</th></tr><tr><td>str</td><td>u32</td></tr></thead><tbody><tr><td>&quot;order_id&quot;</td><td>0</td></tr><tr><td>&quot;order_item_id&quot;</td><td>0</td></tr><tr><td>&quot;product_id&quot;</td><td>0</td></tr><tr><td>&quot;seller_id&quot;</td><td>0</td></tr><tr><td>&quot;shipping_limit_date&quot;</td><td>0</td></tr><tr><td>&quot;price&quot;</td><td>0</td></tr><tr><td>&quot;freight_value&quot;</td><td>0</td></tr></tbody></table></div>"
      ],
      "text/plain": [
       "shape: (7, 2)\n",
       "┌─────────────────────┬─────────────────────────────┐\n",
       "│ colunas             ┆ Quantidade de valores nulos │\n",
       "│ ---                 ┆ ---                         │\n",
       "│ str                 ┆ u32                         │\n",
       "╞═════════════════════╪═════════════════════════════╡\n",
       "│ order_id            ┆ 0                           │\n",
       "│ order_item_id       ┆ 0                           │\n",
       "│ product_id          ┆ 0                           │\n",
       "│ seller_id           ┆ 0                           │\n",
       "│ shipping_limit_date ┆ 0                           │\n",
       "│ price               ┆ 0                           │\n",
       "│ freight_value       ┆ 0                           │\n",
       "└─────────────────────┴─────────────────────────────┘"
      ]
     },
     "execution_count": 67,
     "metadata": {},
     "output_type": "execute_result"
    }
   ],
   "source": [
    "pedidos.select(\n",
    "    pl.all().null_count()\n",
    ").transpose(\n",
    "    include_header=True,\n",
    "    header_name ='colunas',\n",
    "    column_names=['Quantidade de valores nulos']\n",
    ")"
   ]
  },
  {
   "cell_type": "markdown",
   "metadata": {},
   "source": [
    "> Não há valores nulos nesse conjunto de dados"
   ]
  },
  {
   "cell_type": "markdown",
   "metadata": {},
   "source": [
    "Conventendo valores numericos que estão no formato string, e conventendo para o padrão brasileiro a data"
   ]
  },
  {
   "cell_type": "code",
   "execution_count": 68,
   "metadata": {},
   "outputs": [],
   "source": [
    "pedidos = pedidos.with_columns(\n",
    "        pl.col('shipping_limit_date')\\\n",
    "            .str.strptime(pl.Datetime(time_zone='UTC'))\\\n",
    "            .dt.strftime(format=\"%d-%m-%Y %H:%M:%S\"), # Convertendo data\n",
    "\n",
    "        pl.col('price').str.to_decimal(),         # Convertendo para float\n",
    "        pl.col('freight_value').str.to_decimal(), # Convertendo para float\n",
    "    )"
   ]
  },
  {
   "cell_type": "code",
   "execution_count": 69,
   "metadata": {},
   "outputs": [
    {
     "data": {
      "text/plain": [
       "[String,\n",
       " String,\n",
       " String,\n",
       " String,\n",
       " String,\n",
       " Decimal(precision=None, scale=2),\n",
       " Decimal(precision=None, scale=2)]"
      ]
     },
     "execution_count": 69,
     "metadata": {},
     "output_type": "execute_result"
    }
   ],
   "source": [
    "pedidos.dtypes"
   ]
  },
  {
   "cell_type": "code",
   "execution_count": 70,
   "metadata": {},
   "outputs": [],
   "source": [
    "# Escrevendo dados\n",
    "pedidos.write_csv(file='dataset_limpo_para_analise/olist_order_items.csv')"
   ]
  },
  {
   "cell_type": "markdown",
   "metadata": {},
   "source": [
    "&nbsp;"
   ]
  },
  {
   "cell_type": "markdown",
   "metadata": {},
   "source": [
    "#### limpeza Payments Dataset(olist_payments)"
   ]
  },
  {
   "cell_type": "code",
   "execution_count": 71,
   "metadata": {},
   "outputs": [],
   "source": [
    "payments = pl.read_csv(\n",
    "    'dataset/olist_order_payments_dataset.csv',\n",
    "    infer_schema=False\n",
    ")"
   ]
  },
  {
   "cell_type": "code",
   "execution_count": 72,
   "metadata": {},
   "outputs": [
    {
     "data": {
      "text/html": [
       "<div><style>\n",
       ".dataframe > thead > tr,\n",
       ".dataframe > tbody > tr {\n",
       "  text-align: right;\n",
       "  white-space: pre-wrap;\n",
       "}\n",
       "</style>\n",
       "<small>shape: (2, 5)</small><table border=\"1\" class=\"dataframe\"><thead><tr><th>order_id</th><th>payment_sequential</th><th>payment_type</th><th>payment_installments</th><th>payment_value</th></tr><tr><td>str</td><td>str</td><td>str</td><td>str</td><td>str</td></tr></thead><tbody><tr><td>&quot;b81ef226f3fe1789b1e8b2acac839d…</td><td>&quot;1&quot;</td><td>&quot;credit_card&quot;</td><td>&quot;8&quot;</td><td>&quot;99.33&quot;</td></tr><tr><td>&quot;a9810da82917af2d9aefd1278f1dcf…</td><td>&quot;1&quot;</td><td>&quot;credit_card&quot;</td><td>&quot;1&quot;</td><td>&quot;24.39&quot;</td></tr></tbody></table></div>"
      ],
      "text/plain": [
       "shape: (2, 5)\n",
       "┌───────────────────────┬────────────────────┬──────────────┬──────────────────────┬───────────────┐\n",
       "│ order_id              ┆ payment_sequential ┆ payment_type ┆ payment_installments ┆ payment_value │\n",
       "│ ---                   ┆ ---                ┆ ---          ┆ ---                  ┆ ---           │\n",
       "│ str                   ┆ str                ┆ str          ┆ str                  ┆ str           │\n",
       "╞═══════════════════════╪════════════════════╪══════════════╪══════════════════════╪═══════════════╡\n",
       "│ b81ef226f3fe1789b1e8b ┆ 1                  ┆ credit_card  ┆ 8                    ┆ 99.33         │\n",
       "│ 2acac839d…            ┆                    ┆              ┆                      ┆               │\n",
       "│ a9810da82917af2d9aefd ┆ 1                  ┆ credit_card  ┆ 1                    ┆ 24.39         │\n",
       "│ 1278f1dcf…            ┆                    ┆              ┆                      ┆               │\n",
       "└───────────────────────┴────────────────────┴──────────────┴──────────────────────┴───────────────┘"
      ]
     },
     "execution_count": 72,
     "metadata": {},
     "output_type": "execute_result"
    }
   ],
   "source": [
    "payments.head(2)"
   ]
  },
  {
   "cell_type": "code",
   "execution_count": 73,
   "metadata": {},
   "outputs": [
    {
     "data": {
      "text/html": [
       "<div><style>\n",
       ".dataframe > thead > tr,\n",
       ".dataframe > tbody > tr {\n",
       "  text-align: right;\n",
       "  white-space: pre-wrap;\n",
       "}\n",
       "</style>\n",
       "<small>shape: (5, 2)</small><table border=\"1\" class=\"dataframe\"><thead><tr><th>colunas</th><th>Quantidade de valores nulos</th></tr><tr><td>str</td><td>u32</td></tr></thead><tbody><tr><td>&quot;order_id&quot;</td><td>0</td></tr><tr><td>&quot;payment_sequential&quot;</td><td>0</td></tr><tr><td>&quot;payment_type&quot;</td><td>0</td></tr><tr><td>&quot;payment_installments&quot;</td><td>0</td></tr><tr><td>&quot;payment_value&quot;</td><td>0</td></tr></tbody></table></div>"
      ],
      "text/plain": [
       "shape: (5, 2)\n",
       "┌──────────────────────┬─────────────────────────────┐\n",
       "│ colunas              ┆ Quantidade de valores nulos │\n",
       "│ ---                  ┆ ---                         │\n",
       "│ str                  ┆ u32                         │\n",
       "╞══════════════════════╪═════════════════════════════╡\n",
       "│ order_id             ┆ 0                           │\n",
       "│ payment_sequential   ┆ 0                           │\n",
       "│ payment_type         ┆ 0                           │\n",
       "│ payment_installments ┆ 0                           │\n",
       "│ payment_value        ┆ 0                           │\n",
       "└──────────────────────┴─────────────────────────────┘"
      ]
     },
     "execution_count": 73,
     "metadata": {},
     "output_type": "execute_result"
    }
   ],
   "source": [
    "payments.select(\n",
    "    pl.all().null_count()\n",
    ").transpose(\n",
    "    include_header=True,\n",
    "    header_name ='colunas',\n",
    "    column_names=['Quantidade de valores nulos']\n",
    ")"
   ]
  },
  {
   "cell_type": "code",
   "execution_count": 74,
   "metadata": {},
   "outputs": [
    {
     "data": {
      "text/html": [
       "<div><style>\n",
       ".dataframe > thead > tr,\n",
       ".dataframe > tbody > tr {\n",
       "  text-align: right;\n",
       "  white-space: pre-wrap;\n",
       "}\n",
       "</style>\n",
       "<small>shape: (5, 2)</small><table border=\"1\" class=\"dataframe\"><thead><tr><th>colunas</th><th>Valores Únicos</th></tr><tr><td>str</td><td>u32</td></tr></thead><tbody><tr><td>&quot;order_id&quot;</td><td>99440</td></tr><tr><td>&quot;payment_sequential&quot;</td><td>29</td></tr><tr><td>&quot;payment_type&quot;</td><td>5</td></tr><tr><td>&quot;payment_installments&quot;</td><td>24</td></tr><tr><td>&quot;payment_value&quot;</td><td>29077</td></tr></tbody></table></div>"
      ],
      "text/plain": [
       "shape: (5, 2)\n",
       "┌──────────────────────┬────────────────┐\n",
       "│ colunas              ┆ Valores Únicos │\n",
       "│ ---                  ┆ ---            │\n",
       "│ str                  ┆ u32            │\n",
       "╞══════════════════════╪════════════════╡\n",
       "│ order_id             ┆ 99440          │\n",
       "│ payment_sequential   ┆ 29             │\n",
       "│ payment_type         ┆ 5              │\n",
       "│ payment_installments ┆ 24             │\n",
       "│ payment_value        ┆ 29077          │\n",
       "└──────────────────────┴────────────────┘"
      ]
     },
     "execution_count": 74,
     "metadata": {},
     "output_type": "execute_result"
    }
   ],
   "source": [
    "payments\\\n",
    "    .select(pl.all().n_unique())\\\n",
    "    .transpose(\n",
    "        include_header=True,\n",
    "        header_name='colunas',\n",
    "        column_names=['Valores Únicos']\n",
    "    )"
   ]
  },
  {
   "cell_type": "code",
   "execution_count": 75,
   "metadata": {},
   "outputs": [
    {
     "data": {
      "text/html": [
       "<div><style>\n",
       ".dataframe > thead > tr,\n",
       ".dataframe > tbody > tr {\n",
       "  text-align: right;\n",
       "  white-space: pre-wrap;\n",
       "}\n",
       "</style>\n",
       "<small>shape: (5, 2)</small><table border=\"1\" class=\"dataframe\"><thead><tr><th>by</th><th>len</th></tr><tr><td>str</td><td>u32</td></tr></thead><tbody><tr><td>&quot;not_defined&quot;</td><td>3</td></tr><tr><td>&quot;debit_card&quot;</td><td>1529</td></tr><tr><td>&quot;voucher&quot;</td><td>5775</td></tr><tr><td>&quot;boleto&quot;</td><td>19784</td></tr><tr><td>&quot;credit_card&quot;</td><td>76795</td></tr></tbody></table></div>"
      ],
      "text/plain": [
       "shape: (5, 2)\n",
       "┌─────────────┬───────┐\n",
       "│ by          ┆ len   │\n",
       "│ ---         ┆ ---   │\n",
       "│ str         ┆ u32   │\n",
       "╞═════════════╪═══════╡\n",
       "│ not_defined ┆ 3     │\n",
       "│ debit_card  ┆ 1529  │\n",
       "│ voucher     ┆ 5775  │\n",
       "│ boleto      ┆ 19784 │\n",
       "│ credit_card ┆ 76795 │\n",
       "└─────────────┴───────┘"
      ]
     },
     "execution_count": 75,
     "metadata": {},
     "output_type": "execute_result"
    }
   ],
   "source": [
    "payments\\\n",
    "    .select(pl.col('payment_type'))\\\n",
    "    .group_by(by=pl.col('payment_type'))\\\n",
    "    .len()\\\n",
    "    .sort(by=pl.col('len'))"
   ]
  },
  {
   "cell_type": "markdown",
   "metadata": {},
   "source": [
    "> Não definido será transformando para nada e removido"
   ]
  },
  {
   "cell_type": "code",
   "execution_count": 76,
   "metadata": {},
   "outputs": [],
   "source": [
    "payments = payments\\\n",
    "    .with_columns(\n",
    "        pl.when(pl.col('payment_type')=='not_defined')\\\n",
    "          .then(pl.lit(None))\\\n",
    "          .otherwise(pl.col('payment_type')).alias(name='payment_type')\n",
    "    )"
   ]
  },
  {
   "cell_type": "code",
   "execution_count": 77,
   "metadata": {},
   "outputs": [
    {
     "data": {
      "text/html": [
       "<div><style>\n",
       ".dataframe > thead > tr,\n",
       ".dataframe > tbody > tr {\n",
       "  text-align: right;\n",
       "  white-space: pre-wrap;\n",
       "}\n",
       "</style>\n",
       "<small>shape: (5, 2)</small><table border=\"1\" class=\"dataframe\"><thead><tr><th>colunas</th><th>Quantidade de valores nulos</th></tr><tr><td>str</td><td>u32</td></tr></thead><tbody><tr><td>&quot;order_id&quot;</td><td>0</td></tr><tr><td>&quot;payment_sequential&quot;</td><td>0</td></tr><tr><td>&quot;payment_type&quot;</td><td>3</td></tr><tr><td>&quot;payment_installments&quot;</td><td>0</td></tr><tr><td>&quot;payment_value&quot;</td><td>0</td></tr></tbody></table></div>"
      ],
      "text/plain": [
       "shape: (5, 2)\n",
       "┌──────────────────────┬─────────────────────────────┐\n",
       "│ colunas              ┆ Quantidade de valores nulos │\n",
       "│ ---                  ┆ ---                         │\n",
       "│ str                  ┆ u32                         │\n",
       "╞══════════════════════╪═════════════════════════════╡\n",
       "│ order_id             ┆ 0                           │\n",
       "│ payment_sequential   ┆ 0                           │\n",
       "│ payment_type         ┆ 3                           │\n",
       "│ payment_installments ┆ 0                           │\n",
       "│ payment_value        ┆ 0                           │\n",
       "└──────────────────────┴─────────────────────────────┘"
      ]
     },
     "execution_count": 77,
     "metadata": {},
     "output_type": "execute_result"
    }
   ],
   "source": [
    "payments.select(\n",
    "    pl.all().null_count()\n",
    ").transpose(\n",
    "    include_header=True,\n",
    "    header_name ='colunas',\n",
    "    column_names=['Quantidade de valores nulos']\n",
    ")"
   ]
  },
  {
   "cell_type": "code",
   "execution_count": 78,
   "metadata": {},
   "outputs": [
    {
     "data": {
      "text/html": [
       "<div><style>\n",
       ".dataframe > thead > tr,\n",
       ".dataframe > tbody > tr {\n",
       "  text-align: right;\n",
       "  white-space: pre-wrap;\n",
       "}\n",
       "</style>\n",
       "<small>shape: (3, 5)</small><table border=\"1\" class=\"dataframe\"><thead><tr><th>order_id</th><th>payment_sequential</th><th>payment_type</th><th>payment_installments</th><th>payment_value</th></tr><tr><td>str</td><td>str</td><td>str</td><td>str</td><td>str</td></tr></thead><tbody><tr><td>&quot;b81ef226f3fe1789b1e8b2acac839d…</td><td>&quot;1&quot;</td><td>&quot;credit_card&quot;</td><td>&quot;8&quot;</td><td>&quot;99.33&quot;</td></tr><tr><td>&quot;a9810da82917af2d9aefd1278f1dcf…</td><td>&quot;1&quot;</td><td>&quot;credit_card&quot;</td><td>&quot;1&quot;</td><td>&quot;24.39&quot;</td></tr><tr><td>&quot;25e8ea4e93396b6fa0d3dd708e76c1…</td><td>&quot;1&quot;</td><td>&quot;credit_card&quot;</td><td>&quot;1&quot;</td><td>&quot;65.71&quot;</td></tr></tbody></table></div>"
      ],
      "text/plain": [
       "shape: (3, 5)\n",
       "┌───────────────────────┬────────────────────┬──────────────┬──────────────────────┬───────────────┐\n",
       "│ order_id              ┆ payment_sequential ┆ payment_type ┆ payment_installments ┆ payment_value │\n",
       "│ ---                   ┆ ---                ┆ ---          ┆ ---                  ┆ ---           │\n",
       "│ str                   ┆ str                ┆ str          ┆ str                  ┆ str           │\n",
       "╞═══════════════════════╪════════════════════╪══════════════╪══════════════════════╪═══════════════╡\n",
       "│ b81ef226f3fe1789b1e8b ┆ 1                  ┆ credit_card  ┆ 8                    ┆ 99.33         │\n",
       "│ 2acac839d…            ┆                    ┆              ┆                      ┆               │\n",
       "│ a9810da82917af2d9aefd ┆ 1                  ┆ credit_card  ┆ 1                    ┆ 24.39         │\n",
       "│ 1278f1dcf…            ┆                    ┆              ┆                      ┆               │\n",
       "│ 25e8ea4e93396b6fa0d3d ┆ 1                  ┆ credit_card  ┆ 1                    ┆ 65.71         │\n",
       "│ d708e76c1…            ┆                    ┆              ┆                      ┆               │\n",
       "└───────────────────────┴────────────────────┴──────────────┴──────────────────────┴───────────────┘"
      ]
     },
     "execution_count": 78,
     "metadata": {},
     "output_type": "execute_result"
    }
   ],
   "source": [
    "payments.head(3)"
   ]
  },
  {
   "cell_type": "code",
   "execution_count": 79,
   "metadata": {},
   "outputs": [],
   "source": [
    "payments = payments.with_columns(\n",
    "    pl.when(pl.col('payment_type') == 'credit_card')\\\n",
    "        .then(pl.lit('Cartão de Crédito'))\\\n",
    "        .when(pl.col('payment_type') == 'boleto')\\\n",
    "        .then(pl.lit('Boleto'))\\\n",
    "        .when(pl.col('payment_type')=='debit_card')\\\n",
    "        .then(pl.lit('Cartão de debito'))\\\n",
    "        .otherwise(pl.col('payment_type'))\\\n",
    "        .alias('payment_type')\n",
    ")"
   ]
  },
  {
   "cell_type": "code",
   "execution_count": 80,
   "metadata": {},
   "outputs": [
    {
     "data": {
      "text/html": [
       "<div><style>\n",
       ".dataframe > thead > tr,\n",
       ".dataframe > tbody > tr {\n",
       "  text-align: right;\n",
       "  white-space: pre-wrap;\n",
       "}\n",
       "</style>\n",
       "<small>shape: (5, 2)</small><table border=\"1\" class=\"dataframe\"><thead><tr><th>by</th><th>len</th></tr><tr><td>str</td><td>u32</td></tr></thead><tbody><tr><td>null</td><td>3</td></tr><tr><td>&quot;Cartão de debito&quot;</td><td>1529</td></tr><tr><td>&quot;voucher&quot;</td><td>5775</td></tr><tr><td>&quot;Boleto&quot;</td><td>19784</td></tr><tr><td>&quot;Cartão de Crédito&quot;</td><td>76795</td></tr></tbody></table></div>"
      ],
      "text/plain": [
       "shape: (5, 2)\n",
       "┌───────────────────┬───────┐\n",
       "│ by                ┆ len   │\n",
       "│ ---               ┆ ---   │\n",
       "│ str               ┆ u32   │\n",
       "╞═══════════════════╪═══════╡\n",
       "│ null              ┆ 3     │\n",
       "│ Cartão de debito  ┆ 1529  │\n",
       "│ voucher           ┆ 5775  │\n",
       "│ Boleto            ┆ 19784 │\n",
       "│ Cartão de Crédito ┆ 76795 │\n",
       "└───────────────────┴───────┘"
      ]
     },
     "execution_count": 80,
     "metadata": {},
     "output_type": "execute_result"
    }
   ],
   "source": [
    "payments\\\n",
    "    .select(pl.col('payment_type'))\\\n",
    "    .group_by(by=pl.col('payment_type'))\\\n",
    "    .len()\\\n",
    "    .sort(by=pl.col('len'))"
   ]
  },
  {
   "cell_type": "code",
   "execution_count": 81,
   "metadata": {},
   "outputs": [],
   "source": [
    "payments.to_pandas().dropna().to_csv('dataset_limpo_para_analise/olist_order_payments.csv', index=False)"
   ]
  },
  {
   "cell_type": "markdown",
   "metadata": {},
   "source": [
    "&nbsp;"
   ]
  },
  {
   "cell_type": "markdown",
   "metadata": {},
   "source": [
    "#### limpeza para Reviews(olist_Reviews)"
   ]
  },
  {
   "cell_type": "code",
   "execution_count": 82,
   "metadata": {},
   "outputs": [],
   "source": [
    "reviews = pl.read_csv(\n",
    "    source='dataset/olist_order_reviews_dataset.csv', infer_schema=False\n",
    ")"
   ]
  },
  {
   "cell_type": "code",
   "execution_count": 83,
   "metadata": {},
   "outputs": [
    {
     "data": {
      "text/html": [
       "<div><style>\n",
       ".dataframe > thead > tr,\n",
       ".dataframe > tbody > tr {\n",
       "  text-align: right;\n",
       "  white-space: pre-wrap;\n",
       "}\n",
       "</style>\n",
       "<small>shape: (7, 2)</small><table border=\"1\" class=\"dataframe\"><thead><tr><th>colunas</th><th>Quantidade de valores nulos</th></tr><tr><td>str</td><td>u32</td></tr></thead><tbody><tr><td>&quot;review_id&quot;</td><td>0</td></tr><tr><td>&quot;order_id&quot;</td><td>0</td></tr><tr><td>&quot;review_score&quot;</td><td>0</td></tr><tr><td>&quot;review_comment_title&quot;</td><td>87656</td></tr><tr><td>&quot;review_comment_message&quot;</td><td>58247</td></tr><tr><td>&quot;review_creation_date&quot;</td><td>0</td></tr><tr><td>&quot;review_answer_timestamp&quot;</td><td>0</td></tr></tbody></table></div>"
      ],
      "text/plain": [
       "shape: (7, 2)\n",
       "┌─────────────────────────┬─────────────────────────────┐\n",
       "│ colunas                 ┆ Quantidade de valores nulos │\n",
       "│ ---                     ┆ ---                         │\n",
       "│ str                     ┆ u32                         │\n",
       "╞═════════════════════════╪═════════════════════════════╡\n",
       "│ review_id               ┆ 0                           │\n",
       "│ order_id                ┆ 0                           │\n",
       "│ review_score            ┆ 0                           │\n",
       "│ review_comment_title    ┆ 87656                       │\n",
       "│ review_comment_message  ┆ 58247                       │\n",
       "│ review_creation_date    ┆ 0                           │\n",
       "│ review_answer_timestamp ┆ 0                           │\n",
       "└─────────────────────────┴─────────────────────────────┘"
      ]
     },
     "execution_count": 83,
     "metadata": {},
     "output_type": "execute_result"
    }
   ],
   "source": [
    "reviews\\\n",
    "    .select(\n",
    "        pl.all().null_count()\n",
    "        )\\\n",
    "    .transpose(\n",
    "        include_header=True,\n",
    "        header_name ='colunas',\n",
    "        column_names=['Quantidade de valores nulos']\n",
    "    )"
   ]
  },
  {
   "cell_type": "code",
   "execution_count": 84,
   "metadata": {},
   "outputs": [
    {
     "data": {
      "text/plain": [
       "['review_id',\n",
       " 'order_id',\n",
       " 'review_score',\n",
       " 'review_comment_title',\n",
       " 'review_comment_message',\n",
       " 'review_creation_date',\n",
       " 'review_answer_timestamp']"
      ]
     },
     "execution_count": 84,
     "metadata": {},
     "output_type": "execute_result"
    }
   ],
   "source": [
    "reviews.columns"
   ]
  },
  {
   "cell_type": "code",
   "execution_count": 85,
   "metadata": {},
   "outputs": [],
   "source": [
    "reviews = reviews.with_columns(\n",
    "    pl.col('review_comment_title').fill_null(\"Não colocou titulo\")\n",
    ")"
   ]
  },
  {
   "cell_type": "code",
   "execution_count": 86,
   "metadata": {},
   "outputs": [],
   "source": [
    "reviews = reviews.with_columns(\n",
    "    pl.col('review_comment_message').fill_null(\"Não comentou\")\n",
    ")"
   ]
  },
  {
   "cell_type": "code",
   "execution_count": 87,
   "metadata": {},
   "outputs": [
    {
     "data": {
      "text/html": [
       "<div><style>\n",
       ".dataframe > thead > tr,\n",
       ".dataframe > tbody > tr {\n",
       "  text-align: right;\n",
       "  white-space: pre-wrap;\n",
       "}\n",
       "</style>\n",
       "<small>shape: (7, 2)</small><table border=\"1\" class=\"dataframe\"><thead><tr><th>colunas</th><th>Quantidade de valores nulos</th></tr><tr><td>str</td><td>u32</td></tr></thead><tbody><tr><td>&quot;review_id&quot;</td><td>0</td></tr><tr><td>&quot;order_id&quot;</td><td>0</td></tr><tr><td>&quot;review_score&quot;</td><td>0</td></tr><tr><td>&quot;review_comment_title&quot;</td><td>0</td></tr><tr><td>&quot;review_comment_message&quot;</td><td>0</td></tr><tr><td>&quot;review_creation_date&quot;</td><td>0</td></tr><tr><td>&quot;review_answer_timestamp&quot;</td><td>0</td></tr></tbody></table></div>"
      ],
      "text/plain": [
       "shape: (7, 2)\n",
       "┌─────────────────────────┬─────────────────────────────┐\n",
       "│ colunas                 ┆ Quantidade de valores nulos │\n",
       "│ ---                     ┆ ---                         │\n",
       "│ str                     ┆ u32                         │\n",
       "╞═════════════════════════╪═════════════════════════════╡\n",
       "│ review_id               ┆ 0                           │\n",
       "│ order_id                ┆ 0                           │\n",
       "│ review_score            ┆ 0                           │\n",
       "│ review_comment_title    ┆ 0                           │\n",
       "│ review_comment_message  ┆ 0                           │\n",
       "│ review_creation_date    ┆ 0                           │\n",
       "│ review_answer_timestamp ┆ 0                           │\n",
       "└─────────────────────────┴─────────────────────────────┘"
      ]
     },
     "execution_count": 87,
     "metadata": {},
     "output_type": "execute_result"
    }
   ],
   "source": [
    "reviews\\\n",
    "    .select(\n",
    "        pl.all().null_count()\n",
    "        )\\\n",
    "    .transpose(\n",
    "        include_header=True,\n",
    "        header_name ='colunas',\n",
    "        column_names=['Quantidade de valores nulos']\n",
    "    )"
   ]
  },
  {
   "cell_type": "code",
   "execution_count": 88,
   "metadata": {},
   "outputs": [],
   "source": [
    "reviews.write_csv(\"dataset_limpo_para_analise/olist_order_review.csv\")"
   ]
  },
  {
   "cell_type": "markdown",
   "metadata": {},
   "source": [
    "&nbsp;"
   ]
  },
  {
   "cell_type": "markdown",
   "metadata": {},
   "source": [
    "#### Limpeza para sellers(olist_sellers)"
   ]
  },
  {
   "cell_type": "code",
   "execution_count": 89,
   "metadata": {},
   "outputs": [
    {
     "data": {
      "text/html": [
       "<div><style>\n",
       ".dataframe > thead > tr,\n",
       ".dataframe > tbody > tr {\n",
       "  text-align: right;\n",
       "  white-space: pre-wrap;\n",
       "}\n",
       "</style>\n",
       "<small>shape: (2, 4)</small><table border=\"1\" class=\"dataframe\"><thead><tr><th>seller_id</th><th>seller_zip_code_prefix</th><th>seller_city</th><th>seller_state</th></tr><tr><td>str</td><td>str</td><td>str</td><td>str</td></tr></thead><tbody><tr><td>&quot;3442f8959a84dea7ee197c632cb2df…</td><td>&quot;13023&quot;</td><td>&quot;campinas&quot;</td><td>&quot;SP&quot;</td></tr><tr><td>&quot;d1b65fc7debc3361ea86b5f14c68d2…</td><td>&quot;13844&quot;</td><td>&quot;mogi guacu&quot;</td><td>&quot;SP&quot;</td></tr></tbody></table></div>"
      ],
      "text/plain": [
       "shape: (2, 4)\n",
       "┌─────────────────────────────────┬────────────────────────┬─────────────┬──────────────┐\n",
       "│ seller_id                       ┆ seller_zip_code_prefix ┆ seller_city ┆ seller_state │\n",
       "│ ---                             ┆ ---                    ┆ ---         ┆ ---          │\n",
       "│ str                             ┆ str                    ┆ str         ┆ str          │\n",
       "╞═════════════════════════════════╪════════════════════════╪═════════════╪══════════════╡\n",
       "│ 3442f8959a84dea7ee197c632cb2df… ┆ 13023                  ┆ campinas    ┆ SP           │\n",
       "│ d1b65fc7debc3361ea86b5f14c68d2… ┆ 13844                  ┆ mogi guacu  ┆ SP           │\n",
       "└─────────────────────────────────┴────────────────────────┴─────────────┴──────────────┘"
      ]
     },
     "execution_count": 89,
     "metadata": {},
     "output_type": "execute_result"
    }
   ],
   "source": [
    "sellers = pl.read_csv(\n",
    "    \"dataset/olist_sellers_dataset.csv\", infer_schema=False\n",
    ")\n",
    "sellers.head(2)"
   ]
  },
  {
   "cell_type": "code",
   "execution_count": 90,
   "metadata": {},
   "outputs": [
    {
     "data": {
      "text/html": [
       "<div><style>\n",
       ".dataframe > thead > tr,\n",
       ".dataframe > tbody > tr {\n",
       "  text-align: right;\n",
       "  white-space: pre-wrap;\n",
       "}\n",
       "</style>\n",
       "<small>shape: (4, 2)</small><table border=\"1\" class=\"dataframe\"><thead><tr><th>Colunas</th><th>Quantidade de valores nulos</th></tr><tr><td>str</td><td>u32</td></tr></thead><tbody><tr><td>&quot;seller_id&quot;</td><td>0</td></tr><tr><td>&quot;seller_zip_code_prefix&quot;</td><td>0</td></tr><tr><td>&quot;seller_city&quot;</td><td>0</td></tr><tr><td>&quot;seller_state&quot;</td><td>0</td></tr></tbody></table></div>"
      ],
      "text/plain": [
       "shape: (4, 2)\n",
       "┌────────────────────────┬─────────────────────────────┐\n",
       "│ Colunas                ┆ Quantidade de valores nulos │\n",
       "│ ---                    ┆ ---                         │\n",
       "│ str                    ┆ u32                         │\n",
       "╞════════════════════════╪═════════════════════════════╡\n",
       "│ seller_id              ┆ 0                           │\n",
       "│ seller_zip_code_prefix ┆ 0                           │\n",
       "│ seller_city            ┆ 0                           │\n",
       "│ seller_state           ┆ 0                           │\n",
       "└────────────────────────┴─────────────────────────────┘"
      ]
     },
     "execution_count": 90,
     "metadata": {},
     "output_type": "execute_result"
    }
   ],
   "source": [
    "sellers.select(\n",
    "    pl.all().null_count()\n",
    ").transpose(include_header=True, \n",
    "            header_name=\"Colunas\", \n",
    "            column_names=[\"Quantidade de valores nulos\"])"
   ]
  },
  {
   "cell_type": "markdown",
   "metadata": {},
   "source": [
    "> Não há valores nulos no conjunto de dos"
   ]
  },
  {
   "cell_type": "code",
   "execution_count": 91,
   "metadata": {},
   "outputs": [
    {
     "data": {
      "text/html": [
       "<div><style>\n",
       ".dataframe > thead > tr,\n",
       ".dataframe > tbody > tr {\n",
       "  text-align: right;\n",
       "  white-space: pre-wrap;\n",
       "}\n",
       "</style>\n",
       "<small>shape: (2, 4)</small><table border=\"1\" class=\"dataframe\"><thead><tr><th>seller_id</th><th>seller_zip_code_prefix</th><th>seller_city</th><th>seller_state</th></tr><tr><td>str</td><td>str</td><td>str</td><td>str</td></tr></thead><tbody><tr><td>&quot;3442f8959a84dea7ee197c632cb2df…</td><td>&quot;13023&quot;</td><td>&quot;Campinas&quot;</td><td>&quot;SP&quot;</td></tr><tr><td>&quot;d1b65fc7debc3361ea86b5f14c68d2…</td><td>&quot;13844&quot;</td><td>&quot;Mogi Guacu&quot;</td><td>&quot;SP&quot;</td></tr></tbody></table></div>"
      ],
      "text/plain": [
       "shape: (2, 4)\n",
       "┌─────────────────────────────────┬────────────────────────┬─────────────┬──────────────┐\n",
       "│ seller_id                       ┆ seller_zip_code_prefix ┆ seller_city ┆ seller_state │\n",
       "│ ---                             ┆ ---                    ┆ ---         ┆ ---          │\n",
       "│ str                             ┆ str                    ┆ str         ┆ str          │\n",
       "╞═════════════════════════════════╪════════════════════════╪═════════════╪══════════════╡\n",
       "│ 3442f8959a84dea7ee197c632cb2df… ┆ 13023                  ┆ Campinas    ┆ SP           │\n",
       "│ d1b65fc7debc3361ea86b5f14c68d2… ┆ 13844                  ┆ Mogi Guacu  ┆ SP           │\n",
       "└─────────────────────────────────┴────────────────────────┴─────────────┴──────────────┘"
      ]
     },
     "execution_count": 91,
     "metadata": {},
     "output_type": "execute_result"
    }
   ],
   "source": [
    "# Modificando o nome das cidades para o tipo de titulo\n",
    "sellers = sellers.with_columns(\n",
    "    pl.col(\"seller_city\").str.to_titlecase()\n",
    ")\n",
    "sellers.head(2)"
   ]
  },
  {
   "cell_type": "code",
   "execution_count": 92,
   "metadata": {},
   "outputs": [],
   "source": [
    "sellers.write_csv(\n",
    "    \"dataset_limpo_para_analise/olist_sellers.csv\"\n",
    ")"
   ]
  },
  {
   "cell_type": "markdown",
   "metadata": {},
   "source": [
    "&nbsp;"
   ]
  },
  {
   "cell_type": "markdown",
   "metadata": {},
   "source": [
    "#### limpeza para products(olist_product)"
   ]
  },
  {
   "cell_type": "code",
   "execution_count": 93,
   "metadata": {},
   "outputs": [
    {
     "data": {
      "text/html": [
       "<div><style>\n",
       ".dataframe > thead > tr,\n",
       ".dataframe > tbody > tr {\n",
       "  text-align: right;\n",
       "  white-space: pre-wrap;\n",
       "}\n",
       "</style>\n",
       "<small>shape: (2, 9)</small><table border=\"1\" class=\"dataframe\"><thead><tr><th>product_id</th><th>product_category_name</th><th>product_name_lenght</th><th>product_description_lenght</th><th>product_photos_qty</th><th>product_weight_g</th><th>product_length_cm</th><th>product_height_cm</th><th>product_width_cm</th></tr><tr><td>str</td><td>str</td><td>i64</td><td>i64</td><td>i64</td><td>i64</td><td>i64</td><td>i64</td><td>i64</td></tr></thead><tbody><tr><td>&quot;1e9e8ef04dbcff4541ed26657ea517…</td><td>&quot;perfumaria&quot;</td><td>40</td><td>287</td><td>1</td><td>225</td><td>16</td><td>10</td><td>14</td></tr><tr><td>&quot;3aa071139cb16b67ca9e5dea641aaa…</td><td>&quot;artes&quot;</td><td>44</td><td>276</td><td>1</td><td>1000</td><td>30</td><td>18</td><td>20</td></tr></tbody></table></div>"
      ],
      "text/plain": [
       "shape: (2, 9)\n",
       "┌───────────┬───────────┬───────────┬───────────┬───┬───────────┬───────────┬───────────┬──────────┐\n",
       "│ product_i ┆ product_c ┆ product_n ┆ product_d ┆ … ┆ product_w ┆ product_l ┆ product_h ┆ product_ │\n",
       "│ d         ┆ ategory_n ┆ ame_lengh ┆ escriptio ┆   ┆ eight_g   ┆ ength_cm  ┆ eight_cm  ┆ width_cm │\n",
       "│ ---       ┆ ame       ┆ t         ┆ n_lenght  ┆   ┆ ---       ┆ ---       ┆ ---       ┆ ---      │\n",
       "│ str       ┆ ---       ┆ ---       ┆ ---       ┆   ┆ i64       ┆ i64       ┆ i64       ┆ i64      │\n",
       "│           ┆ str       ┆ i64       ┆ i64       ┆   ┆           ┆           ┆           ┆          │\n",
       "╞═══════════╪═══════════╪═══════════╪═══════════╪═══╪═══════════╪═══════════╪═══════════╪══════════╡\n",
       "│ 1e9e8ef04 ┆ perfumari ┆ 40        ┆ 287       ┆ … ┆ 225       ┆ 16        ┆ 10        ┆ 14       │\n",
       "│ dbcff4541 ┆ a         ┆           ┆           ┆   ┆           ┆           ┆           ┆          │\n",
       "│ ed26657ea ┆           ┆           ┆           ┆   ┆           ┆           ┆           ┆          │\n",
       "│ 517…      ┆           ┆           ┆           ┆   ┆           ┆           ┆           ┆          │\n",
       "│ 3aa071139 ┆ artes     ┆ 44        ┆ 276       ┆ … ┆ 1000      ┆ 30        ┆ 18        ┆ 20       │\n",
       "│ cb16b67ca ┆           ┆           ┆           ┆   ┆           ┆           ┆           ┆          │\n",
       "│ 9e5dea641 ┆           ┆           ┆           ┆   ┆           ┆           ┆           ┆          │\n",
       "│ aaa…      ┆           ┆           ┆           ┆   ┆           ┆           ┆           ┆          │\n",
       "└───────────┴───────────┴───────────┴───────────┴───┴───────────┴───────────┴───────────┴──────────┘"
      ]
     },
     "execution_count": 93,
     "metadata": {},
     "output_type": "execute_result"
    }
   ],
   "source": [
    "product = pl.read_csv(\n",
    "    source = \"dataset/olist_products_dataset.csv\"\n",
    ")\n",
    "product.head(2)"
   ]
  },
  {
   "cell_type": "code",
   "execution_count": 94,
   "metadata": {},
   "outputs": [
    {
     "data": {
      "text/html": [
       "<div><style>\n",
       ".dataframe > thead > tr,\n",
       ".dataframe > tbody > tr {\n",
       "  text-align: right;\n",
       "  white-space: pre-wrap;\n",
       "}\n",
       "</style>\n",
       "<small>shape: (9, 2)</small><table border=\"1\" class=\"dataframe\"><thead><tr><th>column</th><th>column_0</th></tr><tr><td>str</td><td>u32</td></tr></thead><tbody><tr><td>&quot;product_id&quot;</td><td>0</td></tr><tr><td>&quot;product_category_name&quot;</td><td>610</td></tr><tr><td>&quot;product_name_lenght&quot;</td><td>610</td></tr><tr><td>&quot;product_description_lenght&quot;</td><td>610</td></tr><tr><td>&quot;product_photos_qty&quot;</td><td>610</td></tr><tr><td>&quot;product_weight_g&quot;</td><td>2</td></tr><tr><td>&quot;product_length_cm&quot;</td><td>2</td></tr><tr><td>&quot;product_height_cm&quot;</td><td>2</td></tr><tr><td>&quot;product_width_cm&quot;</td><td>2</td></tr></tbody></table></div>"
      ],
      "text/plain": [
       "shape: (9, 2)\n",
       "┌────────────────────────────┬──────────┐\n",
       "│ column                     ┆ column_0 │\n",
       "│ ---                        ┆ ---      │\n",
       "│ str                        ┆ u32      │\n",
       "╞════════════════════════════╪══════════╡\n",
       "│ product_id                 ┆ 0        │\n",
       "│ product_category_name      ┆ 610      │\n",
       "│ product_name_lenght        ┆ 610      │\n",
       "│ product_description_lenght ┆ 610      │\n",
       "│ product_photos_qty         ┆ 610      │\n",
       "│ product_weight_g           ┆ 2        │\n",
       "│ product_length_cm          ┆ 2        │\n",
       "│ product_height_cm          ┆ 2        │\n",
       "│ product_width_cm           ┆ 2        │\n",
       "└────────────────────────────┴──────────┘"
      ]
     },
     "execution_count": 94,
     "metadata": {},
     "output_type": "execute_result"
    }
   ],
   "source": [
    "product.select(\n",
    "    pl.all().null_count()\n",
    ").transpose(include_header=True)"
   ]
  },
  {
   "cell_type": "code",
   "execution_count": 95,
   "metadata": {},
   "outputs": [
    {
     "data": {
      "text/html": [
       "<div><style>\n",
       ".dataframe > thead > tr,\n",
       ".dataframe > tbody > tr {\n",
       "  text-align: right;\n",
       "  white-space: pre-wrap;\n",
       "}\n",
       "</style>\n",
       "<small>shape: (2, 2)</small><table border=\"1\" class=\"dataframe\"><thead><tr><th>product_category_name</th><th>product_category_name_english</th></tr><tr><td>str</td><td>str</td></tr></thead><tbody><tr><td>&quot;beleza_saude&quot;</td><td>&quot;health_beauty&quot;</td></tr><tr><td>&quot;informatica_acessorios&quot;</td><td>&quot;computers_accessories&quot;</td></tr></tbody></table></div>"
      ],
      "text/plain": [
       "shape: (2, 2)\n",
       "┌────────────────────────┬───────────────────────────────┐\n",
       "│ product_category_name  ┆ product_category_name_english │\n",
       "│ ---                    ┆ ---                           │\n",
       "│ str                    ┆ str                           │\n",
       "╞════════════════════════╪═══════════════════════════════╡\n",
       "│ beleza_saude           ┆ health_beauty                 │\n",
       "│ informatica_acessorios ┆ computers_accessories         │\n",
       "└────────────────────────┴───────────────────────────────┘"
      ]
     },
     "execution_count": 95,
     "metadata": {},
     "output_type": "execute_result"
    }
   ],
   "source": [
    "product_name = pl.read_csv(\n",
    "    source = \"dataset/product_category_name_translation.csv\"\n",
    ")\n",
    "product_name.head(2)"
   ]
  },
  {
   "cell_type": "code",
   "execution_count": 96,
   "metadata": {},
   "outputs": [],
   "source": [
    "product_name = product_name.with_columns(\n",
    "    pl.col(\"product_category_name\")\\\n",
    "        .str.replace_all('_',' ')\\\n",
    "        .str.to_titlecase()\n",
    ")"
   ]
  },
  {
   "cell_type": "code",
   "execution_count": 97,
   "metadata": {},
   "outputs": [],
   "source": [
    "product_name.write_csv(\n",
    "    \"dataset_limpo_para_analise/olist_products_name.csv\" \n",
    ")"
   ]
  },
  {
   "cell_type": "markdown",
   "metadata": {},
   "source": [
    "#### "
   ]
  },
  {
   "cell_type": "markdown",
   "metadata": {},
   "source": [
    "#### limpeza para location(olist_geolocatoin)"
   ]
  },
  {
   "cell_type": "code",
   "execution_count": 98,
   "metadata": {},
   "outputs": [],
   "source": [
    "geolocation = pl.read_csv(\n",
    "    source = \"dataset/olist_geolocation_dataset.csv\",\n",
    "    infer_schema=False\n",
    ")"
   ]
  },
  {
   "cell_type": "code",
   "execution_count": 99,
   "metadata": {},
   "outputs": [
    {
     "data": {
      "text/plain": [
       "['duere',\n",
       " 'monte alegre dos campos',\n",
       " 'simao pereira',\n",
       " 'igarape do meio',\n",
       " 'fazenda vilanova',\n",
       " 'maximiliano de almeida',\n",
       " 'maetinga',\n",
       " 'rj',\n",
       " 'mirandópolis',\n",
       " 'santa rita',\n",
       " 'reserva do iguaçu',\n",
       " 'brazlandia',\n",
       " 'piedade dos gerais',\n",
       " 'barra do jacuipe',\n",
       " 'augustinopolis',\n",
       " 'acu',\n",
       " 'luziapolis',\n",
       " 'caseara',\n",
       " 'barra dos coqueiros',\n",
       " 'lagoa do sitio',\n",
       " 'sao jose de mipibu',\n",
       " 'estação cocal',\n",
       " 'pauini',\n",
       " 'sao joao das duas pontes',\n",
       " 'nova milano',\n",
       " 'croata',\n",
       " 'sao benedito da cachoeirinha',\n",
       " 'brejo do piaui',\n",
       " 'roseira',\n",
       " 'ichu',\n",
       " 'guapore',\n",
       " 'cacimbinhas',\n",
       " 'jussara',\n",
       " 'poco fundo',\n",
       " 'vista alegre',\n",
       " 'candeias',\n",
       " 'itambacuri',\n",
       " 'santana do ipanema',\n",
       " 'brazlândia',\n",
       " 'jau',\n",
       " 'matinha',\n",
       " 'santa rosa de goias',\n",
       " 'uniflor',\n",
       " 'miraí',\n",
       " 'cachoeira',\n",
       " 'água fria',\n",
       " 'aliança do tocantins',\n",
       " 'passa tempo',\n",
       " 'ibirapitanga',\n",
       " 'casa nova',\n",
       " 'vitória das missões',\n",
       " 'coração de jesus',\n",
       " 'jeremoabo',\n",
       " 'nova santa rosa',\n",
       " 'três barras',\n",
       " 'zortéa',\n",
       " 'pimenteiras',\n",
       " 'luiziania',\n",
       " 'guzolândia',\n",
       " 'marituba',\n",
       " 'amanhece',\n",
       " 'catigua',\n",
       " 'candido rodrigues',\n",
       " 'brejo de areia',\n",
       " 'casca',\n",
       " 'pitangueiras',\n",
       " 'patos',\n",
       " 'sao goncalo do sapucai',\n",
       " 'rosário do ivaí',\n",
       " 'itatiba do sul',\n",
       " 'angical do piauí',\n",
       " 'passo de camaragibe',\n",
       " 'palhano',\n",
       " 'sao vicente de minas',\n",
       " 'agrolandia',\n",
       " 'santana de parnaiba',\n",
       " 'jaboatão dos gurarapes',\n",
       " 'jaú',\n",
       " 'novo horizonte do oeste',\n",
       " 'três cachoeiras',\n",
       " 'parati mirim',\n",
       " 'sagres',\n",
       " 'caseiros',\n",
       " 'trairâo',\n",
       " 'sao jose do piaui',\n",
       " 'clevelandia do norte',\n",
       " 'lavinia',\n",
       " 'saquarema',\n",
       " 'ribamar fiquene',\n",
       " 'alenquer',\n",
       " 'tucurui',\n",
       " 'limoeiro',\n",
       " 'porciuncula',\n",
       " 'tamarana',\n",
       " 'juvenilia',\n",
       " 'sapeacu',\n",
       " 'cacule',\n",
       " 'maceio',\n",
       " 'contagem',\n",
       " 'sarandira',\n",
       " 'senhora das dores',\n",
       " 'tejucuoca',\n",
       " 'loreto',\n",
       " 'sao sebastiao da amoreira',\n",
       " 'sao bras do suacui',\n",
       " 'goiana',\n",
       " 'ielmo marinho',\n",
       " 'bonópolis',\n",
       " 'poço verde',\n",
       " 'pugmil',\n",
       " 'santa cruz do sul',\n",
       " 'vila nelita',\n",
       " 'sao geraldo do araguaia',\n",
       " 'recursolandia',\n",
       " 'bom retiro',\n",
       " 'vitoria brasil',\n",
       " 'guareí',\n",
       " 'divino das laranjeiras',\n",
       " 'belmiro braga',\n",
       " 'guaxupe',\n",
       " 'brejo bonito',\n",
       " 'madre de deus',\n",
       " 'avelino lopes',\n",
       " 'santa albertina',\n",
       " 'santa fé de goiás',\n",
       " 'monte alverne',\n",
       " 'paraú',\n",
       " 'nova módica',\n",
       " 'prados',\n",
       " 'rosário da limeira',\n",
       " 'itamarati norte',\n",
       " 'chopinzinho',\n",
       " 'colonia leopoldina',\n",
       " 'fortaleza dos valos',\n",
       " 'santa isabel do para',\n",
       " 'sao joao do caru',\n",
       " 'xavantina',\n",
       " 'são gabriel',\n",
       " 'são miguel do fidalgo',\n",
       " 'santa rita d oeste',\n",
       " 'caarapo',\n",
       " 'chiador',\n",
       " 'linhares',\n",
       " 'chale',\n",
       " 'salto do lontra',\n",
       " 'ilhota',\n",
       " 'peabiru',\n",
       " 'japoata',\n",
       " 'vidigal',\n",
       " 'elesbão veloso',\n",
       " 'jacareí',\n",
       " 'várzea da palma',\n",
       " 'batatais',\n",
       " 'itapuí',\n",
       " 'sao manuel',\n",
       " 'conceição da barra',\n",
       " 'irupi',\n",
       " 'tumiritinga',\n",
       " 'são joão nepomuceno',\n",
       " 'marilia',\n",
       " 'edeia',\n",
       " 'heitorai',\n",
       " 'ouricuri',\n",
       " 'vila bela da santíssima trindade',\n",
       " 'icatu',\n",
       " 'campo mourao',\n",
       " 'icém',\n",
       " 'porciúncula',\n",
       " 'são domingos',\n",
       " 'sao roque',\n",
       " 'rio das ostras',\n",
       " 'buriti',\n",
       " 'sao bento do sul',\n",
       " 'aracoiaba da serra',\n",
       " 'itainópolis',\n",
       " 'itaguaçu da bahia',\n",
       " 'mantenópolis',\n",
       " 'colonia',\n",
       " 'nova iguaçu',\n",
       " 'são sebastião do caí',\n",
       " 'tapurah',\n",
       " 'pancas',\n",
       " 'catingueira',\n",
       " 'jose goncalves de minas',\n",
       " 'rebouças',\n",
       " 'santo antonio do caiua',\n",
       " 'coronel martins',\n",
       " 'sao francisco do sul',\n",
       " 'são miguel arcanjo',\n",
       " 'piraí',\n",
       " 'catunda',\n",
       " 'engenheiro navarro',\n",
       " 'ceres',\n",
       " 'itaporã',\n",
       " 'vila nova do sul',\n",
       " 'esplanada',\n",
       " 'alto paraíso de goiás',\n",
       " 'caibaté',\n",
       " 'joão monlevade',\n",
       " 'quartel geral',\n",
       " 'marechal floriano',\n",
       " 'ibitiuva',\n",
       " 'santo antônio da alegria',\n",
       " 'lajedo do tabocal',\n",
       " 'nova brasilandia doeste',\n",
       " 'ibiquera',\n",
       " 'pareci novo',\n",
       " 'piedade',\n",
       " 'jacunda',\n",
       " 'sao silvestre',\n",
       " 'comendador venancio',\n",
       " 'itarantim',\n",
       " 'antônio joão',\n",
       " 'sao joao de itaguacu',\n",
       " 'campo bonito',\n",
       " 'ulianópolis',\n",
       " 'manoel ribas',\n",
       " 'canabrava do norte',\n",
       " 'angra dos reis',\n",
       " 'ribeiropolis',\n",
       " 'axixa',\n",
       " 'bela vista de goias',\n",
       " 'são josé do itueto',\n",
       " 'sao jose da tapera',\n",
       " 'pinheiros altos',\n",
       " 'campo grande do piauí',\n",
       " 'angelim',\n",
       " 'aparecida',\n",
       " 'tenente ananias',\n",
       " 'assaí',\n",
       " 'santo antônio do rio abaixo',\n",
       " 'barra do jacaré',\n",
       " 'três rios',\n",
       " 'iaçu',\n",
       " 'candeias do jamari',\n",
       " 'poxoreu',\n",
       " 'queiroz',\n",
       " 'santa maria da boa vista',\n",
       " 'banabuiu',\n",
       " 'sul brasil',\n",
       " 'tocantinia',\n",
       " 'serra de sao bento',\n",
       " 'laranja da terra',\n",
       " 'westfália',\n",
       " 'cordeiropolis',\n",
       " 'pedro gomes',\n",
       " 'floreal',\n",
       " 'ipiranga',\n",
       " 'sao goncalo do rio das pedras',\n",
       " 'santa helena',\n",
       " 'paraguaçu paulista',\n",
       " 'guaporanga',\n",
       " 'sertao',\n",
       " 'pulinopolis',\n",
       " 'jaguaripe',\n",
       " 'taua',\n",
       " 'pacaja',\n",
       " 'são luiz gonzaga',\n",
       " 'galia',\n",
       " 'são josé dos campos',\n",
       " 'santa carmem',\n",
       " 'olimpia',\n",
       " 'são josé da bela vista',\n",
       " 'tabapua',\n",
       " 'japi',\n",
       " 'vargem grande paulista',\n",
       " 'otacilio costa',\n",
       " 'goianésia do pará',\n",
       " 'rochedo de minas',\n",
       " 'santa fé',\n",
       " 'mato castelhano',\n",
       " 'brejoes',\n",
       " 'araçatuba',\n",
       " \"itaporanga d'ajuda\",\n",
       " 'ipirá',\n",
       " 'carinhanha',\n",
       " 'conceicao do capim',\n",
       " 'monte alegre de goias',\n",
       " 'alcantaras',\n",
       " 'frei rogerio',\n",
       " 'uruana',\n",
       " 'ibate',\n",
       " 'laguna carapã',\n",
       " 'ventania',\n",
       " 'esteios',\n",
       " 'santa cruz cabrália',\n",
       " 'união da serra',\n",
       " 'hulha negra',\n",
       " 'grão pará',\n",
       " 'tome-acu',\n",
       " 'mangabeira',\n",
       " 'vitor meireles',\n",
       " 'canindé de são francisco',\n",
       " 'santa luzia do norte',\n",
       " 'rondonopolis',\n",
       " 'são sebastião do oeste',\n",
       " 'são gabriel da palha',\n",
       " 'antônio olinto',\n",
       " 'califórnia',\n",
       " 'sao francisco de assis',\n",
       " 'santo augusto',\n",
       " 'estrela doeste',\n",
       " 'ipoema',\n",
       " 'chacara',\n",
       " 'sao jose da laje',\n",
       " 'alagoinhas',\n",
       " 'ituacu',\n",
       " 'porto estrela',\n",
       " 'tacuru',\n",
       " 'tapes',\n",
       " 'mondaí',\n",
       " 'ibotirama',\n",
       " 'registro',\n",
       " 'ferreiros',\n",
       " 'fernando pedroza',\n",
       " 'balneario pinhal',\n",
       " 'uruará',\n",
       " 'penápolis',\n",
       " 'santo antônio do amparo',\n",
       " 'flor da serra do sul',\n",
       " 'arapuá',\n",
       " 'jóia',\n",
       " 'cipolandia',\n",
       " 'firminópolis',\n",
       " 'lagoa real',\n",
       " 'pajeu do piaui',\n",
       " 'içara',\n",
       " 'três pontas',\n",
       " 'varjao de minas',\n",
       " 'poco verde',\n",
       " 'santana do mundaú',\n",
       " 'xinguara',\n",
       " 'passa tres',\n",
       " 'prudêncio thomaz',\n",
       " 'antonio dias',\n",
       " 'salgado de sao felix',\n",
       " 'macapá',\n",
       " 'braganey',\n",
       " 'são joão da ponte',\n",
       " 'curralinhos',\n",
       " 'corumbiara',\n",
       " 'salesópolis',\n",
       " 'espinosa',\n",
       " 'maraba paulista',\n",
       " 'arraial d ajuda',\n",
       " 'mogi das cruzes',\n",
       " 'pontal do araguaia',\n",
       " 'bento fernandes',\n",
       " 'sao vicente do sul',\n",
       " 'guarapua',\n",
       " 'beberibe',\n",
       " 'jardim do mulato',\n",
       " 'santana do deserto',\n",
       " 'muriae',\n",
       " 'ivoti',\n",
       " 'linharesl',\n",
       " 'nova casa verde',\n",
       " 'castanheiras',\n",
       " 'sandolândia',\n",
       " 'boa esperança do iguaçu',\n",
       " 'são joão do sul',\n",
       " 'tianguá',\n",
       " 'arembepe',\n",
       " 'xanxerê',\n",
       " 'mar vermelho',\n",
       " 'guaicui',\n",
       " 'cordilheira alta',\n",
       " \"olho d'água das flores\",\n",
       " 'paranavai',\n",
       " 'poco dantas',\n",
       " 'querência',\n",
       " 'umburatiba',\n",
       " 'rio dos bois',\n",
       " 'lunardelli',\n",
       " 'engenho do ribeiro',\n",
       " 'nucleo bandeirante',\n",
       " 'monte das gameleiras',\n",
       " 'nova boa vista',\n",
       " 'cabeceiras do piaui',\n",
       " 'nova esperança do piriá',\n",
       " 'braganca',\n",
       " 'camacari',\n",
       " 'fontoura xavier',\n",
       " 'paco do lumiar',\n",
       " 'tabuleiro',\n",
       " 'ribeirópolis',\n",
       " 'marcolandia',\n",
       " 'balneário barra do sul',\n",
       " 'armacao de buzios',\n",
       " 'porto ferreira',\n",
       " 'glória do goitá',\n",
       " 'cambuquira',\n",
       " 'paulo jacinto',\n",
       " 'são simão',\n",
       " 'ivinhema',\n",
       " 'guia de pacobaíba',\n",
       " 'conceicao das pedras',\n",
       " 'franco da rocha',\n",
       " 'josenopolis',\n",
       " 'tupanatinga',\n",
       " 'sao joao da varjota',\n",
       " 'mangaratiba',\n",
       " 'pindaré-mirim',\n",
       " 'santa ernestina',\n",
       " 'barao ataliba nogueira',\n",
       " 'icapuí',\n",
       " 'francisco dumont',\n",
       " 'sao pedro da uniao',\n",
       " 'bossoroca',\n",
       " 'luziânia',\n",
       " 'agua nova',\n",
       " 'aliança',\n",
       " 'sao sebastiao do anta',\n",
       " 'boa vista do burica',\n",
       " 'santo antonio do taua',\n",
       " 'ipanguaçu',\n",
       " 'acará',\n",
       " 'monte mor',\n",
       " 'sao jose do cedro',\n",
       " 'ituberá',\n",
       " 'pirpirituba',\n",
       " 'iraceminha',\n",
       " 'damianopolis',\n",
       " 'conceicao do para',\n",
       " 'mirassolândia',\n",
       " 'divisa alegre',\n",
       " 'macatuba',\n",
       " 'iguape',\n",
       " 'união dos palmares',\n",
       " 'alto alegre do maranhao',\n",
       " 'caroebe',\n",
       " 'santo antônio do aventureiro',\n",
       " 'itapecerica',\n",
       " 'dionísio',\n",
       " 'ponte alta do bom jesus',\n",
       " 'sao jose do torto',\n",
       " 'julio de castilhos',\n",
       " 'indiaroba',\n",
       " 'simplício mendes',\n",
       " 'embauba',\n",
       " 'venha-ver',\n",
       " 'taquaral de goiás',\n",
       " 'matelandia',\n",
       " 'alegrete do piauí',\n",
       " 'itumbiara',\n",
       " 'amaral ferrador',\n",
       " 'ibipora',\n",
       " 'santa luzia do itanhy',\n",
       " 'cajuri',\n",
       " 'bodoco',\n",
       " 'gaspar',\n",
       " 'otavio rocha',\n",
       " 'paranatama',\n",
       " 'barbosa',\n",
       " 'vinhatico',\n",
       " 'bernardino batista',\n",
       " 'bela vista do toldo',\n",
       " 'belmonte',\n",
       " 'capao da canoa',\n",
       " 'fatima do sul',\n",
       " 'são luiz do paraitinga',\n",
       " 'nova iguacu de goias',\n",
       " 'nova esperanca do piria',\n",
       " 'santa terezinha de minas',\n",
       " 'itamarati de minas',\n",
       " 'pipa',\n",
       " 'porto nacional',\n",
       " 'alexandrita',\n",
       " 'campestre de goias',\n",
       " 'santo antônio do jardim',\n",
       " 'guarantã do norte',\n",
       " 'muçum',\n",
       " 'luiziânia',\n",
       " 'perdizes',\n",
       " 'caicó',\n",
       " 'coqueiral',\n",
       " 'riachao do bacamarte',\n",
       " 'poxoréu',\n",
       " 'tubarao',\n",
       " 'ciriaco',\n",
       " 'santa amélia',\n",
       " 'paragominas',\n",
       " 'nova itapirema',\n",
       " 'paraguaçu',\n",
       " 'claro dos pocoes',\n",
       " 'adelandia',\n",
       " 'gaviao peixoto',\n",
       " 'cachoeira alegre',\n",
       " 'claudia',\n",
       " 'arambaré',\n",
       " 'aracaju',\n",
       " 'ilhéus',\n",
       " 'votorantim',\n",
       " 'martins guimaraes',\n",
       " 'sao jose do vale do rio preto',\n",
       " 'rio pomba',\n",
       " 'sao rafael',\n",
       " 'sao jose de uba',\n",
       " 'timbaúba',\n",
       " 'silvano',\n",
       " 'nova alianca do ivai',\n",
       " 'sucesso',\n",
       " 'são joão do jaguaribe',\n",
       " 'cabixi',\n",
       " 'muaná',\n",
       " 'pedro ii',\n",
       " 'são félix do araguaia',\n",
       " 'palestina',\n",
       " 'bozano',\n",
       " 'pacuja',\n",
       " 'feira grande',\n",
       " 'tarumã',\n",
       " 'quixabá',\n",
       " 'sao bento do trairi',\n",
       " 'itau',\n",
       " 'ramilândia',\n",
       " 'capitao leonidas marques',\n",
       " 'campo bom',\n",
       " 'tauá',\n",
       " 'nazário',\n",
       " \"santa rita d'oeste\",\n",
       " 'bataypora',\n",
       " 'alvinópolis',\n",
       " 'garanhuns',\n",
       " 'cláudia',\n",
       " 'vitória',\n",
       " 'ibiruba',\n",
       " 'santo antônio do tauá',\n",
       " 'nazaré da mata',\n",
       " 'rio bonito do iguaçu',\n",
       " 'aruanã',\n",
       " 'pinhalzinho',\n",
       " 'rio negrinho',\n",
       " 'quissamã',\n",
       " 'lagoa branca',\n",
       " 'espigão alto do iguaçu',\n",
       " 'novo planalto',\n",
       " 'santa maria do pará',\n",
       " 'santa rita do oeste',\n",
       " 'são francisco de paula',\n",
       " 'uruçuí',\n",
       " 'cabaceiras do paraguaçu',\n",
       " 'bonito',\n",
       " 'guimaraes',\n",
       " 'rochedo',\n",
       " 'monte formoso',\n",
       " 'quatis',\n",
       " 'castanhal',\n",
       " 'massaranduba',\n",
       " 'tangará',\n",
       " 'carmo do paranaíba',\n",
       " 'bela vista do piauí',\n",
       " 'murici',\n",
       " 'patu',\n",
       " 'cruz alta',\n",
       " 'pitimbu',\n",
       " 'medicilândia',\n",
       " 'cardoso',\n",
       " 'gloria do goita',\n",
       " 'maceió',\n",
       " 'sao geraldo',\n",
       " 'fortim',\n",
       " 'estrela da barra',\n",
       " 'santo antônio do leste',\n",
       " 'são joão de iracema',\n",
       " 'sao francisco',\n",
       " 'coroaci',\n",
       " 'montadas',\n",
       " 'campo maior',\n",
       " 'paineiras',\n",
       " 'santana do cariri',\n",
       " 'bom jesus do tocantins',\n",
       " 'querência do norte',\n",
       " 'são josé dos quatro marcos',\n",
       " 'montes claros de goias',\n",
       " 'chapadinha',\n",
       " 'prudentopolis',\n",
       " 'ivaté',\n",
       " 'seritinga',\n",
       " 'nerópolis',\n",
       " 'chapada dos guimarães',\n",
       " 'coreaú',\n",
       " 'itapuca',\n",
       " 'taubaté',\n",
       " 'uruana de minas',\n",
       " 'luizlândia do oeste',\n",
       " 'cha de alegria',\n",
       " 'várzea branca',\n",
       " 'maiauata',\n",
       " 'lajes pintadas',\n",
       " 'apuí',\n",
       " 'luzerna',\n",
       " 'nova ubirata',\n",
       " 'são miguel do tapuio',\n",
       " 'barreiras do piaui',\n",
       " 'monte verde',\n",
       " 'mongaguá',\n",
       " 'brodowski',\n",
       " 'ribeirao do largo',\n",
       " 'são joaquim da barra',\n",
       " 'montanhas',\n",
       " 'matupa',\n",
       " 'formosa do oeste',\n",
       " 'candiota',\n",
       " 'tamboril do piaui',\n",
       " 'vila langaro',\n",
       " 'ribeira',\n",
       " 'mucurici',\n",
       " 'boqueirao do leao',\n",
       " 'sao goncalo do piaui',\n",
       " 'uberlândia',\n",
       " 'cambara do sul',\n",
       " 'mamonas',\n",
       " 'boninal',\n",
       " 'timon',\n",
       " 'bujaru',\n",
       " 'nova fátima',\n",
       " 'itaruma',\n",
       " 'minaçu',\n",
       " 'pindaí',\n",
       " 'sao joao evangelista',\n",
       " 'tambaú',\n",
       " 'nossa senhora das graças',\n",
       " 'taquarana',\n",
       " 'xambrê',\n",
       " 'touros',\n",
       " 'ipiacu',\n",
       " 'francisco alves',\n",
       " 'agronômica',\n",
       " 'parnaíba',\n",
       " 'saudade do iguaçu',\n",
       " 'sao domingos do azeitao',\n",
       " 'junco do seridó',\n",
       " 'nova gloria',\n",
       " 'tocantins',\n",
       " 'vila nova dos martírios',\n",
       " 'raposos',\n",
       " 'faxinalzinho',\n",
       " 'teresópolis',\n",
       " 'riacho dos cavalos',\n",
       " 'currais novos',\n",
       " 'rio casca',\n",
       " 'nova aliança',\n",
       " 'echapora',\n",
       " 'aracoiaba',\n",
       " 'porteiras',\n",
       " 'itambé do mato dentro',\n",
       " 'umbauba',\n",
       " 'mâncio lima',\n",
       " 'presidente lucena',\n",
       " 'cunha porã',\n",
       " 'rio de janeiro, rio de janeiro, brasil',\n",
       " 'cianorte',\n",
       " 'carapicuíba',\n",
       " 'parelhas',\n",
       " 'agronomica',\n",
       " 'peruibe',\n",
       " 'são joão do oriente',\n",
       " 'valenca',\n",
       " 'itapaje',\n",
       " 'coelho neto',\n",
       " 'tuneiras do oeste',\n",
       " 'ipiranga de goias',\n",
       " 'remigio',\n",
       " 'davinópolis',\n",
       " 'vila bela da santssima trindade',\n",
       " 'lagoa nova',\n",
       " 'sao joao do itaperiu',\n",
       " 'lajeado novo',\n",
       " 'condeúba',\n",
       " 'veranópolis',\n",
       " 'uauá',\n",
       " 'jequitiba',\n",
       " 'alcinópolis',\n",
       " 'vespasiano correa',\n",
       " 'dores de guanhaes',\n",
       " 'varzelandia',\n",
       " 'verê',\n",
       " 'guaraíta',\n",
       " 'catiguá',\n",
       " 'marilândia do sul',\n",
       " 'salto do jacui',\n",
       " 'agua doce do norte',\n",
       " 'brejinho',\n",
       " 'areia de baraunas',\n",
       " 'guaipora',\n",
       " 'reserva do iguacu',\n",
       " 'dom pedro de alcantara',\n",
       " 'são luís de montes belos',\n",
       " \"figueirópolis d'oeste\",\n",
       " 'são fidélis',\n",
       " 'pacoti',\n",
       " 'rincão',\n",
       " 'patis',\n",
       " 'jacupiranga',\n",
       " 'canapolis',\n",
       " 'irai',\n",
       " 'sengés',\n",
       " 'inhapim',\n",
       " 'barracão',\n",
       " 'rubiacea',\n",
       " 'bocaina',\n",
       " 'são francisco do oeste',\n",
       " 'pilar',\n",
       " 'chaval',\n",
       " 'alcobaça',\n",
       " 'lagoa do mato',\n",
       " 'dois irmãos',\n",
       " 'ipe',\n",
       " 'piratininga',\n",
       " 'piloezinhos',\n",
       " 'santa cruz das palmeiras',\n",
       " 'pariquera-açu',\n",
       " 'sao valerio da natividade',\n",
       " 'campo grande',\n",
       " 'são geraldo',\n",
       " 'tres irmaos',\n",
       " 'guaxima',\n",
       " 'exu',\n",
       " 'joacaba',\n",
       " 'conceição das pedras',\n",
       " 'concórdia do pará',\n",
       " 'ibiporã',\n",
       " 'figueira',\n",
       " 'maraã',\n",
       " '* cidade',\n",
       " 'caicara',\n",
       " 'monte alegre de goiás',\n",
       " 'seabra',\n",
       " 'divisópolis',\n",
       " 'nova esperanca do sul',\n",
       " 'primavera do leste',\n",
       " 'ji-parana',\n",
       " 'dona inês',\n",
       " 'caconde',\n",
       " 'sao fernando',\n",
       " 'agricolândia',\n",
       " 'porto de moz',\n",
       " 'lamim',\n",
       " 'cassilandia',\n",
       " 'pitanga',\n",
       " 'silvanópolis',\n",
       " 'delfim moreira',\n",
       " 'sao mateus',\n",
       " 'santo antonio do monte',\n",
       " 'bayeux',\n",
       " 'getulândia',\n",
       " 'guamaré',\n",
       " 'urutaí',\n",
       " 'sao pedro do butia',\n",
       " 'turiacu',\n",
       " 'mariano moro',\n",
       " 'buique',\n",
       " 'santo antonio do leite',\n",
       " 'ipueira',\n",
       " 'barra longa',\n",
       " 'coaraci',\n",
       " 'ladário',\n",
       " 'itambaracá',\n",
       " 'onca de pitangui',\n",
       " 'são miguel da baixa grande',\n",
       " 'padre fialho',\n",
       " 'são francisco xavier',\n",
       " 'senador canedo',\n",
       " 'jaragua',\n",
       " 'pontal do parana',\n",
       " 'charqueada',\n",
       " 'pocoes',\n",
       " 'buri',\n",
       " 'alcantara',\n",
       " 'valparaíso de goiás',\n",
       " 'piranguinho',\n",
       " 'novo aripuana',\n",
       " 'carabuçu',\n",
       " 'pai pedro',\n",
       " 'lagoa da confusão',\n",
       " 'santa fe de minas',\n",
       " 'limoeiro do norte',\n",
       " 'praia norte',\n",
       " 'lagoa salgada',\n",
       " 'curiuva',\n",
       " 'são josé da boa vista',\n",
       " 'florida',\n",
       " 'tapuirama',\n",
       " 'sao sebastiao de campos',\n",
       " 'imarui',\n",
       " 'cocalzinho de goias',\n",
       " 'santana do são francisco',\n",
       " 'francisco badaro',\n",
       " 'oliveira fortes',\n",
       " 'monsenhor hipolito',\n",
       " 'dois vizinhos',\n",
       " 'porto vera cruz',\n",
       " 'taquara',\n",
       " 'cachoeira dos indios',\n",
       " 'campos sales',\n",
       " 'sao luis',\n",
       " 'pirenopolis',\n",
       " 'matão',\n",
       " 'costa machado',\n",
       " 'ibitiranga',\n",
       " 'andradas',\n",
       " 'quitandinha',\n",
       " 'varzelândia',\n",
       " 'afua',\n",
       " 'missal',\n",
       " 'altonia',\n",
       " 'alcantil',\n",
       " 'piquerobi',\n",
       " 'marmeleiro',\n",
       " 'buritizeiro',\n",
       " 'maracai',\n",
       " 'angélica',\n",
       " 'aparecida de minas',\n",
       " 'são félix de minas',\n",
       " 'pindobacu',\n",
       " 'conceicao do coite',\n",
       " 'sao jose da lagoa tapada',\n",
       " 'santa luzia',\n",
       " 'parana',\n",
       " 'perolandia',\n",
       " 'sao pedro do sul',\n",
       " 'são luís',\n",
       " 'paula freitas',\n",
       " 'nova timboteua',\n",
       " 'tietê',\n",
       " 'correntinho',\n",
       " 'antonio pereira',\n",
       " 'jaragua do sul',\n",
       " 'perdões',\n",
       " 'jaboticaba',\n",
       " 'sebastião laranjeiras',\n",
       " 'barra de são joão',\n",
       " 'barbalha',\n",
       " 'boca do acre',\n",
       " 'cachoeira do piria',\n",
       " 'américo brasiliense',\n",
       " 'piracanjuba',\n",
       " 'agudos do sul',\n",
       " 'mineirolândia',\n",
       " 'santa barbara do tugurio',\n",
       " 'agrestina',\n",
       " 'travessao',\n",
       " 'itanhomi',\n",
       " 'nova belem',\n",
       " 'wagner',\n",
       " 'iguai',\n",
       " 'santa cecilia do pavao',\n",
       " 'itaocara',\n",
       " 'mairipotaba',\n",
       " 'sao lourenco do sul',\n",
       " 'são josé da coroa grande',\n",
       " 'quaraí',\n",
       " 'lupionopolis',\n",
       " 'itaguara',\n",
       " 'mamanguape',\n",
       " 'apui',\n",
       " 'serra dos aimorés',\n",
       " 'cidreira',\n",
       " 'varzedo',\n",
       " 'riversul',\n",
       " 'chácara',\n",
       " 'macuco de minas',\n",
       " 'chapada gaúcha',\n",
       " 'rio paranaíba',\n",
       " 'serra alta',\n",
       " 'ouro verde de goias',\n",
       " 'tacaratu',\n",
       " 'santo antonio',\n",
       " 'barreiro branco',\n",
       " 'sanharó',\n",
       " 'sao francisco do maranhao',\n",
       " 'sete quedas',\n",
       " 'cajamar',\n",
       " 'luiz alves',\n",
       " 'santo antonio de padua',\n",
       " 'barra do garcas',\n",
       " 'icapui',\n",
       " 'diamante do norte',\n",
       " 'torneiros',\n",
       " 'cotiporã',\n",
       " 'tejupá',\n",
       " 'lagoa bonita do sul',\n",
       " 'angustura',\n",
       " 'jaraguá do sul',\n",
       " 'piuma',\n",
       " 'pedro avelino',\n",
       " 'olimpio noronha',\n",
       " 'tracunhaém',\n",
       " 'sao joao do triunfo',\n",
       " 'marilena',\n",
       " 'maracaja',\n",
       " 'guacui',\n",
       " 'adhemar de barros',\n",
       " 'dionisio',\n",
       " 'eldorado do sul',\n",
       " 'santa tereza de goiás',\n",
       " 'nova soure',\n",
       " 'santiago do sul',\n",
       " 'chorozinho',\n",
       " 'barra do quarai',\n",
       " 'gameleiras',\n",
       " 'abare',\n",
       " 'jundiai do sul',\n",
       " 'santo antonio do rio abaixo',\n",
       " 'juvenília',\n",
       " 'perola',\n",
       " 'quilombo',\n",
       " 'riacho fundo 2',\n",
       " 'viradouro',\n",
       " 'barra de guabiraba',\n",
       " 'remanso',\n",
       " 'pirassununga',\n",
       " 'são leopoldo',\n",
       " 'marechal deodoro',\n",
       " 'porto real',\n",
       " 'bh',\n",
       " 'doutor severiano',\n",
       " 'zortea',\n",
       " 'ocaucu',\n",
       " 'estrela dalva',\n",
       " 'esperantinopolis',\n",
       " 'marabá',\n",
       " 'victor graeff',\n",
       " 'jacareacanga',\n",
       " 'barro alto',\n",
       " 'bonfinópolis de minas',\n",
       " 'santo antonio do retiro',\n",
       " 'pouso alegre',\n",
       " 'são joão da mata',\n",
       " 'guaramiranga',\n",
       " 'congonhas',\n",
       " 'senador amaral',\n",
       " 'divisopolis',\n",
       " 'fortaleza dos nogueiras',\n",
       " 'eugenio de castro',\n",
       " 'cajuru',\n",
       " 'bom jardim de minas',\n",
       " 'presidente castelo branco',\n",
       " 'botuvera',\n",
       " 'siriri',\n",
       " 'lagoa de dentro',\n",
       " 'são miguel do gostoso',\n",
       " 'ribeirão',\n",
       " 'caraibas',\n",
       " 'inconfidentes',\n",
       " 'benfica',\n",
       " 'boa vista das missoes',\n",
       " 'santo antônio do aracanguá',\n",
       " 'brasópolis',\n",
       " 'avaré',\n",
       " 'cantagalo',\n",
       " 'riacho da cruz',\n",
       " 'funilandia',\n",
       " 'curionopolis',\n",
       " 'sao jose',\n",
       " 'ibicaraí',\n",
       " 'são miguel do guaporé',\n",
       " 'arantina',\n",
       " 'venturosa',\n",
       " 'monte santo de minas',\n",
       " 'coromandel',\n",
       " 'brasilândia de minas',\n",
       " 'tapiramuta',\n",
       " 'castelo dos sonhos',\n",
       " 'taquarucu do sul',\n",
       " 'tomar do geru',\n",
       " 'são sebastião da vala',\n",
       " 'iraporanga',\n",
       " 'são josé do jacuípe',\n",
       " 'aroeiras',\n",
       " 'livramento de nossa senhora',\n",
       " 'joão dourado',\n",
       " 'são domingos do araguaia',\n",
       " 'teixeirópolis',\n",
       " 'itambé',\n",
       " 'cocalinho',\n",
       " 'presidente nereu',\n",
       " 'nova rosalandia',\n",
       " 'boraceia',\n",
       " 'sertania',\n",
       " 'belford roxo',\n",
       " 'boca da mata',\n",
       " 'nova araçá',\n",
       " 'selbach',\n",
       " 'volta redonda',\n",
       " 'sério',\n",
       " 'rio brilhante',\n",
       " 'figueirópolis doeste',\n",
       " 'xaxim',\n",
       " 'urucânia',\n",
       " 'palmares do sul',\n",
       " 'sao jose do egito',\n",
       " 'capão do cipó',\n",
       " 'mato queimado',\n",
       " 'cristianópolis',\n",
       " 'solidao',\n",
       " 'boa vista do tupim',\n",
       " 'tubarão',\n",
       " 'pirajuí',\n",
       " ...]"
      ]
     },
     "execution_count": 99,
     "metadata": {},
     "output_type": "execute_result"
    }
   ],
   "source": [
    "geolocation['geolocation_city'].unique().to_numpy().tolist()"
   ]
  }
 ],
 "metadata": {
  "kernelspec": {
   "display_name": "Python 3",
   "language": "python",
   "name": "python3"
  },
  "language_info": {
   "codemirror_mode": {
    "name": "ipython",
    "version": 3
   },
   "file_extension": ".py",
   "mimetype": "text/x-python",
   "name": "python",
   "nbconvert_exporter": "python",
   "pygments_lexer": "ipython3",
   "version": "3.12.7"
  }
 },
 "nbformat": 4,
 "nbformat_minor": 2
}
