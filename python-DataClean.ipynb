{
 "cells": [
  {
   "cell_type": "markdown",
   "metadata": {},
   "source": [
    "#### Sobre o Conjunto de Dados\n",
    "Este é um conjunto de dados público de pedidos do e-commerce brasileiro feitos na loja Olist. O conjunto de dados contém informações de 100 mil pedidos de 2016 a 2018 feitos em diversos marketplaces no Brasil.\n",
    "Esses são dados comerciais reais, que foram anonimizados, e as referências às empresas e parceiros nos textos de avaliação foram substituídas pelos nomes das grandes casas de Game of Thrones.\n",
    "\n",
    "\n",
    "#### Contexto\n",
    "Este conjunto de dados foi generosamente fornecido pela Olist, a maior loja de departamentos dos marketplaces brasileiros. A Olist conecta pequenos negócios de todo o Brasil a canais de vendas, sem complicações e com um único contrato. Esses comerciantes conseguem vender seus produtos através da Olist Store e enviá-los diretamente aos clientes utilizando os parceiros logísticos da Olist. \n",
    "\n",
    "Após o cliente comprar um produto na Olist Store, o vendedor é notificado para atender a esse pedido. Uma vez que o cliente recebe o produto, ou que a data estimada de entrega expire, o cliente recebe uma pesquisa de satisfação por e-mail, onde pode dar uma nota para a experiência de compra e escrever alguns comentários.\n",
    "\n"
   ]
  },
  {
   "cell_type": "markdown",
   "metadata": {},
   "source": [
    "<img src='https://i.imgur.com/HRhd2Y0.png' height=400px/>"
   ]
  },
  {
   "cell_type": "code",
   "execution_count": 17,
   "metadata": {},
   "outputs": [
    {
     "ename": "AttributeError",
     "evalue": "partially initialized module 'pandas' has no attribute '_pandas_parser_CAPI' (most likely due to a circular import)",
     "output_type": "error",
     "traceback": [
      "\u001b[1;31m---------------------------------------------------------------------------\u001b[0m",
      "\u001b[1;31mAttributeError\u001b[0m                            Traceback (most recent call last)",
      "Cell \u001b[1;32mIn[17], line 2\u001b[0m\n\u001b[0;32m      1\u001b[0m \u001b[38;5;28;01mimport\u001b[39;00m \u001b[38;5;21;01mpolars\u001b[39;00m \u001b[38;5;28;01mas\u001b[39;00m \u001b[38;5;21;01mpl\u001b[39;00m\n\u001b[1;32m----> 2\u001b[0m \u001b[38;5;28;01mimport\u001b[39;00m \u001b[38;5;21;01mpandas\u001b[39;00m \u001b[38;5;28;01mas\u001b[39;00m \u001b[38;5;21;01mpd\u001b[39;00m\n",
      "File \u001b[1;32mc:\\Users\\mateu\\AppData\\Local\\Programs\\Python\\Python312\\Lib\\site-packages\\pandas\\__init__.py:151\u001b[0m\n\u001b[0;32m    132\u001b[0m \u001b[38;5;28;01mfrom\u001b[39;00m \u001b[38;5;21;01mpandas\u001b[39;00m\u001b[38;5;21;01m.\u001b[39;00m\u001b[38;5;21;01mcore\u001b[39;00m\u001b[38;5;21;01m.\u001b[39;00m\u001b[38;5;21;01mcomputation\u001b[39;00m\u001b[38;5;21;01m.\u001b[39;00m\u001b[38;5;21;01mapi\u001b[39;00m \u001b[38;5;28;01mimport\u001b[39;00m \u001b[38;5;28meval\u001b[39m\n\u001b[0;32m    134\u001b[0m \u001b[38;5;28;01mfrom\u001b[39;00m \u001b[38;5;21;01mpandas\u001b[39;00m\u001b[38;5;21;01m.\u001b[39;00m\u001b[38;5;21;01mcore\u001b[39;00m\u001b[38;5;21;01m.\u001b[39;00m\u001b[38;5;21;01mreshape\u001b[39;00m\u001b[38;5;21;01m.\u001b[39;00m\u001b[38;5;21;01mapi\u001b[39;00m \u001b[38;5;28;01mimport\u001b[39;00m (\n\u001b[0;32m    135\u001b[0m     concat,\n\u001b[0;32m    136\u001b[0m     lreshape,\n\u001b[1;32m   (...)\u001b[0m\n\u001b[0;32m    148\u001b[0m     qcut,\n\u001b[0;32m    149\u001b[0m )\n\u001b[1;32m--> 151\u001b[0m \u001b[38;5;28;01mfrom\u001b[39;00m \u001b[38;5;21;01mpandas\u001b[39;00m \u001b[38;5;28;01mimport\u001b[39;00m api, arrays, errors, io, plotting, tseries\n\u001b[0;32m    152\u001b[0m \u001b[38;5;28;01mfrom\u001b[39;00m \u001b[38;5;21;01mpandas\u001b[39;00m \u001b[38;5;28;01mimport\u001b[39;00m testing\n\u001b[0;32m    153\u001b[0m \u001b[38;5;28;01mfrom\u001b[39;00m \u001b[38;5;21;01mpandas\u001b[39;00m\u001b[38;5;21;01m.\u001b[39;00m\u001b[38;5;21;01mutil\u001b[39;00m\u001b[38;5;21;01m.\u001b[39;00m\u001b[38;5;21;01m_print_versions\u001b[39;00m \u001b[38;5;28;01mimport\u001b[39;00m show_versions\n",
      "File \u001b[1;32mc:\\Users\\mateu\\AppData\\Local\\Programs\\Python\\Python312\\Lib\\site-packages\\pandas\\api\\__init__.py:2\u001b[0m\n\u001b[0;32m      1\u001b[0m \u001b[38;5;124;03m\"\"\" public toolkit API \"\"\"\u001b[39;00m\n\u001b[1;32m----> 2\u001b[0m \u001b[38;5;28;01mfrom\u001b[39;00m \u001b[38;5;21;01mpandas\u001b[39;00m\u001b[38;5;21;01m.\u001b[39;00m\u001b[38;5;21;01mapi\u001b[39;00m \u001b[38;5;28;01mimport\u001b[39;00m (\n\u001b[0;32m      3\u001b[0m     extensions,\n\u001b[0;32m      4\u001b[0m     indexers,\n\u001b[0;32m      5\u001b[0m     interchange,\n\u001b[0;32m      6\u001b[0m     types,\n\u001b[0;32m      7\u001b[0m     typing,\n\u001b[0;32m      8\u001b[0m )\n\u001b[0;32m     10\u001b[0m __all__ \u001b[38;5;241m=\u001b[39m [\n\u001b[0;32m     11\u001b[0m     \u001b[38;5;124m\"\u001b[39m\u001b[38;5;124minterchange\u001b[39m\u001b[38;5;124m\"\u001b[39m,\n\u001b[0;32m     12\u001b[0m     \u001b[38;5;124m\"\u001b[39m\u001b[38;5;124mextensions\u001b[39m\u001b[38;5;124m\"\u001b[39m,\n\u001b[1;32m   (...)\u001b[0m\n\u001b[0;32m     15\u001b[0m     \u001b[38;5;124m\"\u001b[39m\u001b[38;5;124mtyping\u001b[39m\u001b[38;5;124m\"\u001b[39m,\n\u001b[0;32m     16\u001b[0m ]\n",
      "File \u001b[1;32mc:\\Users\\mateu\\AppData\\Local\\Programs\\Python\\Python312\\Lib\\site-packages\\pandas\\api\\typing\\__init__.py:31\u001b[0m\n\u001b[0;32m     19\u001b[0m \u001b[38;5;28;01mfrom\u001b[39;00m \u001b[38;5;21;01mpandas\u001b[39;00m\u001b[38;5;21;01m.\u001b[39;00m\u001b[38;5;21;01mcore\u001b[39;00m\u001b[38;5;21;01m.\u001b[39;00m\u001b[38;5;21;01mwindow\u001b[39;00m \u001b[38;5;28;01mimport\u001b[39;00m (\n\u001b[0;32m     20\u001b[0m     Expanding,\n\u001b[0;32m     21\u001b[0m     ExpandingGroupby,\n\u001b[1;32m   (...)\u001b[0m\n\u001b[0;32m     26\u001b[0m     Window,\n\u001b[0;32m     27\u001b[0m )\n\u001b[0;32m     29\u001b[0m \u001b[38;5;66;03m# TODO: Can't import Styler without importing jinja2\u001b[39;00m\n\u001b[0;32m     30\u001b[0m \u001b[38;5;66;03m# from pandas.io.formats.style import Styler\u001b[39;00m\n\u001b[1;32m---> 31\u001b[0m \u001b[38;5;28;01mfrom\u001b[39;00m \u001b[38;5;21;01mpandas\u001b[39;00m\u001b[38;5;21;01m.\u001b[39;00m\u001b[38;5;21;01mio\u001b[39;00m\u001b[38;5;21;01m.\u001b[39;00m\u001b[38;5;21;01mjson\u001b[39;00m\u001b[38;5;21;01m.\u001b[39;00m\u001b[38;5;21;01m_json\u001b[39;00m \u001b[38;5;28;01mimport\u001b[39;00m JsonReader\n\u001b[0;32m     32\u001b[0m \u001b[38;5;28;01mfrom\u001b[39;00m \u001b[38;5;21;01mpandas\u001b[39;00m\u001b[38;5;21;01m.\u001b[39;00m\u001b[38;5;21;01mio\u001b[39;00m\u001b[38;5;21;01m.\u001b[39;00m\u001b[38;5;21;01mstata\u001b[39;00m \u001b[38;5;28;01mimport\u001b[39;00m StataReader\n\u001b[0;32m     34\u001b[0m __all__ \u001b[38;5;241m=\u001b[39m [\n\u001b[0;32m     35\u001b[0m     \u001b[38;5;124m\"\u001b[39m\u001b[38;5;124mDataFrameGroupBy\u001b[39m\u001b[38;5;124m\"\u001b[39m,\n\u001b[0;32m     36\u001b[0m     \u001b[38;5;124m\"\u001b[39m\u001b[38;5;124mDatetimeIndexResamplerGroupby\u001b[39m\u001b[38;5;124m\"\u001b[39m,\n\u001b[1;32m   (...)\u001b[0m\n\u001b[0;32m     54\u001b[0m     \u001b[38;5;124m\"\u001b[39m\u001b[38;5;124mWindow\u001b[39m\u001b[38;5;124m\"\u001b[39m,\n\u001b[0;32m     55\u001b[0m ]\n",
      "File \u001b[1;32mc:\\Users\\mateu\\AppData\\Local\\Programs\\Python\\Python312\\Lib\\site-packages\\pandas\\io\\json\\__init__.py:1\u001b[0m\n\u001b[1;32m----> 1\u001b[0m \u001b[38;5;28;01mfrom\u001b[39;00m \u001b[38;5;21;01mpandas\u001b[39;00m\u001b[38;5;21;01m.\u001b[39;00m\u001b[38;5;21;01mio\u001b[39;00m\u001b[38;5;21;01m.\u001b[39;00m\u001b[38;5;21;01mjson\u001b[39;00m\u001b[38;5;21;01m.\u001b[39;00m\u001b[38;5;21;01m_json\u001b[39;00m \u001b[38;5;28;01mimport\u001b[39;00m (\n\u001b[0;32m      2\u001b[0m     read_json,\n\u001b[0;32m      3\u001b[0m     to_json,\n\u001b[0;32m      4\u001b[0m     ujson_dumps,\n\u001b[0;32m      5\u001b[0m     ujson_loads,\n\u001b[0;32m      6\u001b[0m )\n\u001b[0;32m      7\u001b[0m \u001b[38;5;28;01mfrom\u001b[39;00m \u001b[38;5;21;01mpandas\u001b[39;00m\u001b[38;5;21;01m.\u001b[39;00m\u001b[38;5;21;01mio\u001b[39;00m\u001b[38;5;21;01m.\u001b[39;00m\u001b[38;5;21;01mjson\u001b[39;00m\u001b[38;5;21;01m.\u001b[39;00m\u001b[38;5;21;01m_table_schema\u001b[39;00m \u001b[38;5;28;01mimport\u001b[39;00m build_table_schema\n\u001b[0;32m      9\u001b[0m __all__ \u001b[38;5;241m=\u001b[39m [\n\u001b[0;32m     10\u001b[0m     \u001b[38;5;124m\"\u001b[39m\u001b[38;5;124mujson_dumps\u001b[39m\u001b[38;5;124m\"\u001b[39m,\n\u001b[0;32m     11\u001b[0m     \u001b[38;5;124m\"\u001b[39m\u001b[38;5;124mujson_loads\u001b[39m\u001b[38;5;124m\"\u001b[39m,\n\u001b[1;32m   (...)\u001b[0m\n\u001b[0;32m     14\u001b[0m     \u001b[38;5;124m\"\u001b[39m\u001b[38;5;124mbuild_table_schema\u001b[39m\u001b[38;5;124m\"\u001b[39m,\n\u001b[0;32m     15\u001b[0m ]\n",
      "File \u001b[1;32mc:\\Users\\mateu\\AppData\\Local\\Programs\\Python\\Python312\\Lib\\site-packages\\pandas\\io\\json\\_json.py:71\u001b[0m\n\u001b[0;32m     66\u001b[0m \u001b[38;5;28;01mfrom\u001b[39;00m \u001b[38;5;21;01mpandas\u001b[39;00m\u001b[38;5;21;01m.\u001b[39;00m\u001b[38;5;21;01mio\u001b[39;00m\u001b[38;5;21;01m.\u001b[39;00m\u001b[38;5;21;01mjson\u001b[39;00m\u001b[38;5;21;01m.\u001b[39;00m\u001b[38;5;21;01m_normalize\u001b[39;00m \u001b[38;5;28;01mimport\u001b[39;00m convert_to_line_delimits\n\u001b[0;32m     67\u001b[0m \u001b[38;5;28;01mfrom\u001b[39;00m \u001b[38;5;21;01mpandas\u001b[39;00m\u001b[38;5;21;01m.\u001b[39;00m\u001b[38;5;21;01mio\u001b[39;00m\u001b[38;5;21;01m.\u001b[39;00m\u001b[38;5;21;01mjson\u001b[39;00m\u001b[38;5;21;01m.\u001b[39;00m\u001b[38;5;21;01m_table_schema\u001b[39;00m \u001b[38;5;28;01mimport\u001b[39;00m (\n\u001b[0;32m     68\u001b[0m     build_table_schema,\n\u001b[0;32m     69\u001b[0m     parse_table_schema,\n\u001b[0;32m     70\u001b[0m )\n\u001b[1;32m---> 71\u001b[0m \u001b[38;5;28;01mfrom\u001b[39;00m \u001b[38;5;21;01mpandas\u001b[39;00m\u001b[38;5;21;01m.\u001b[39;00m\u001b[38;5;21;01mio\u001b[39;00m\u001b[38;5;21;01m.\u001b[39;00m\u001b[38;5;21;01mparsers\u001b[39;00m\u001b[38;5;21;01m.\u001b[39;00m\u001b[38;5;21;01mreaders\u001b[39;00m \u001b[38;5;28;01mimport\u001b[39;00m validate_integer\n\u001b[0;32m     73\u001b[0m \u001b[38;5;28;01mif\u001b[39;00m TYPE_CHECKING:\n\u001b[0;32m     74\u001b[0m     \u001b[38;5;28;01mfrom\u001b[39;00m \u001b[38;5;21;01mcollections\u001b[39;00m\u001b[38;5;21;01m.\u001b[39;00m\u001b[38;5;21;01mabc\u001b[39;00m \u001b[38;5;28;01mimport\u001b[39;00m (\n\u001b[0;32m     75\u001b[0m         Hashable,\n\u001b[0;32m     76\u001b[0m         Mapping,\n\u001b[0;32m     77\u001b[0m     )\n",
      "File \u001b[1;32mc:\\Users\\mateu\\AppData\\Local\\Programs\\Python\\Python312\\Lib\\site-packages\\pandas\\io\\parsers\\__init__.py:1\u001b[0m\n\u001b[1;32m----> 1\u001b[0m \u001b[38;5;28;01mfrom\u001b[39;00m \u001b[38;5;21;01mpandas\u001b[39;00m\u001b[38;5;21;01m.\u001b[39;00m\u001b[38;5;21;01mio\u001b[39;00m\u001b[38;5;21;01m.\u001b[39;00m\u001b[38;5;21;01mparsers\u001b[39;00m\u001b[38;5;21;01m.\u001b[39;00m\u001b[38;5;21;01mreaders\u001b[39;00m \u001b[38;5;28;01mimport\u001b[39;00m (\n\u001b[0;32m      2\u001b[0m     TextFileReader,\n\u001b[0;32m      3\u001b[0m     TextParser,\n\u001b[0;32m      4\u001b[0m     read_csv,\n\u001b[0;32m      5\u001b[0m     read_fwf,\n\u001b[0;32m      6\u001b[0m     read_table,\n\u001b[0;32m      7\u001b[0m )\n\u001b[0;32m      9\u001b[0m __all__ \u001b[38;5;241m=\u001b[39m [\u001b[38;5;124m\"\u001b[39m\u001b[38;5;124mTextFileReader\u001b[39m\u001b[38;5;124m\"\u001b[39m, \u001b[38;5;124m\"\u001b[39m\u001b[38;5;124mTextParser\u001b[39m\u001b[38;5;124m\"\u001b[39m, \u001b[38;5;124m\"\u001b[39m\u001b[38;5;124mread_csv\u001b[39m\u001b[38;5;124m\"\u001b[39m, \u001b[38;5;124m\"\u001b[39m\u001b[38;5;124mread_fwf\u001b[39m\u001b[38;5;124m\"\u001b[39m, \u001b[38;5;124m\"\u001b[39m\u001b[38;5;124mread_table\u001b[39m\u001b[38;5;124m\"\u001b[39m]\n",
      "File \u001b[1;32mc:\\Users\\mateu\\AppData\\Local\\Programs\\Python\\Python312\\Lib\\site-packages\\pandas\\io\\parsers\\readers.py:32\u001b[0m\n\u001b[0;32m     29\u001b[0m \u001b[38;5;28;01mfrom\u001b[39;00m \u001b[38;5;21;01mpandas\u001b[39;00m\u001b[38;5;21;01m.\u001b[39;00m\u001b[38;5;21;01m_config\u001b[39;00m \u001b[38;5;28;01mimport\u001b[39;00m using_copy_on_write\n\u001b[0;32m     31\u001b[0m \u001b[38;5;28;01mfrom\u001b[39;00m \u001b[38;5;21;01mpandas\u001b[39;00m\u001b[38;5;21;01m.\u001b[39;00m\u001b[38;5;21;01m_libs\u001b[39;00m \u001b[38;5;28;01mimport\u001b[39;00m lib\n\u001b[1;32m---> 32\u001b[0m \u001b[38;5;28;01mfrom\u001b[39;00m \u001b[38;5;21;01mpandas\u001b[39;00m\u001b[38;5;21;01m.\u001b[39;00m\u001b[38;5;21;01m_libs\u001b[39;00m\u001b[38;5;21;01m.\u001b[39;00m\u001b[38;5;21;01mparsers\u001b[39;00m \u001b[38;5;28;01mimport\u001b[39;00m STR_NA_VALUES\n\u001b[0;32m     33\u001b[0m \u001b[38;5;28;01mfrom\u001b[39;00m \u001b[38;5;21;01mpandas\u001b[39;00m\u001b[38;5;21;01m.\u001b[39;00m\u001b[38;5;21;01merrors\u001b[39;00m \u001b[38;5;28;01mimport\u001b[39;00m (\n\u001b[0;32m     34\u001b[0m     AbstractMethodError,\n\u001b[0;32m     35\u001b[0m     ParserWarning,\n\u001b[0;32m     36\u001b[0m )\n\u001b[0;32m     37\u001b[0m \u001b[38;5;28;01mfrom\u001b[39;00m \u001b[38;5;21;01mpandas\u001b[39;00m\u001b[38;5;21;01m.\u001b[39;00m\u001b[38;5;21;01mutil\u001b[39;00m\u001b[38;5;21;01m.\u001b[39;00m\u001b[38;5;21;01m_decorators\u001b[39;00m \u001b[38;5;28;01mimport\u001b[39;00m Appender\n",
      "File \u001b[1;32mparsers.pyx:1418\u001b[0m, in \u001b[0;36minit pandas._libs.parsers\u001b[1;34m()\u001b[0m\n",
      "\u001b[1;31mAttributeError\u001b[0m: partially initialized module 'pandas' has no attribute '_pandas_parser_CAPI' (most likely due to a circular import)"
     ]
    }
   ],
   "source": [
    "import polars as pl\n",
    "import pandas as pd"
   ]
  },
  {
   "cell_type": "markdown",
   "metadata": {},
   "source": [
    "#### Informações adcionais\n",
    "----------\n",
    "\n",
    "##### Conjunto de Dados de Clientes(olist_customer)\n",
    "> Este conjunto de dados contém informações sobre o cliente e sua localização. Utilize-o para identificar clientes únicos no conjunto de dados de pedidos e para encontrar a localização de entrega dos pedidos.\n",
    ">\n",
    "> Em nosso sistema, cada pedido é atribuído a um customer_id exclusivo. Isso significa que o mesmo cliente terá diferentes ids para pedidos distintos. O propósito de ter um customer_unique_id no conjunto de dados é permitir que você identifique clientes que fizeram novas compras na loja. Caso contrário, você descobriria que cada pedido estaria associado a um cliente diferente.\n",
    "--------\n",
    "\n",
    "##### Conjunto de Dados de Geolocalização (geolocation)\n",
    "> Este conjunto de dados contém informações sobre os códigos postais brasileiros e suas coordenadas de latitude/longitude. Utilize-o para plotar mapas e calcular distâncias entre vendedores e clientes\n",
    "\n",
    "--------\n",
    "\n",
    "##### Conjunto de Dados de Itens de Pedidos (order_items)\n",
    "> Este conjunto de dados inclui informações sobre os itens comprados em cada pedido.\n",
    "\n",
    "> Exemplo:\n",
    "> O order_id = 00143d0f86d6fbd9f9b38ab440ac16f5 possui 3 itens (mesmo produto). Cada item tem o frete calculado de acordo com suas medidas e peso. Para obter o valor total do frete de cada pedido, basta somar.\n",
    "\n",
    "\n",
    "-------\n",
    "##### Payments Dataset\n",
    "> This dataset includes data about the orders payment options.\n",
    "\n",
    "-------\n",
    "##### Conjunto de Dados de Avaliações de Pedidos (reviews dataset) \n",
    "> Este conjunto de dados inclui informações sobre as avaliações feitas pelos clientes.\n",
    "> Após o cliente comprar um produto na Olist Store, o vendedor é notificado para atender a esse pedido. Quando o cliente recebe o produto, ou quando a data estimada de entrega se expira, o cliente recebe uma pesquisa de satisfação por e-mail, onde pode dar uma nota para a experiência de compra e escrever alguns comentários."
   ]
  },
  {
   "cell_type": "markdown",
   "metadata": {},
   "source": [
    "&nbsp;"
   ]
  },
  {
   "cell_type": "markdown",
   "metadata": {},
   "source": [
    "### Limpeza de dados"
   ]
  },
  {
   "cell_type": "markdown",
   "metadata": {},
   "source": [
    "#### Limpeza para os Dados de Clientes(olist_customer)"
   ]
  },
  {
   "cell_type": "code",
   "execution_count": 3,
   "metadata": {},
   "outputs": [],
   "source": [
    "customer = pl.read_csv(\n",
    "    source='dataset/olist_customers_dataset.csv', infer_schema=False\n",
    ")"
   ]
  },
  {
   "cell_type": "code",
   "execution_count": null,
   "metadata": {},
   "outputs": [
    {
     "data": {
      "text/html": [
       "<div><style>\n",
       ".dataframe > thead > tr,\n",
       ".dataframe > tbody > tr {\n",
       "  text-align: right;\n",
       "  white-space: pre-wrap;\n",
       "}\n",
       "</style>\n",
       "<small>shape: (2, 5)</small><table border=\"1\" class=\"dataframe\"><thead><tr><th>customer_id</th><th>customer_unique_id</th><th>customer_zip_code_prefix</th><th>customer_city</th><th>customer_state</th></tr><tr><td>str</td><td>str</td><td>str</td><td>str</td><td>str</td></tr></thead><tbody><tr><td>&quot;06b8999e2fba1a1fbc88172c00ba8b…</td><td>&quot;861eff4711a542e4b93843c6dd7feb…</td><td>&quot;14409&quot;</td><td>&quot;franca&quot;</td><td>&quot;SP&quot;</td></tr><tr><td>&quot;18955e83d337fd6b2def6b18a428ac…</td><td>&quot;290c77bc529b7ac935b93aa66c333d…</td><td>&quot;09790&quot;</td><td>&quot;sao bernardo do campo&quot;</td><td>&quot;SP&quot;</td></tr></tbody></table></div>"
      ],
      "text/plain": [
       "shape: (2, 5)\n",
       "┌────────────────────┬────────────────────┬───────────────────┬───────────────────┬────────────────┐\n",
       "│ customer_id        ┆ customer_unique_id ┆ customer_zip_code ┆ customer_city     ┆ customer_state │\n",
       "│ ---                ┆ ---                ┆ _prefix           ┆ ---               ┆ ---            │\n",
       "│ str                ┆ str                ┆ ---               ┆ str               ┆ str            │\n",
       "│                    ┆                    ┆ str               ┆                   ┆                │\n",
       "╞════════════════════╪════════════════════╪═══════════════════╪═══════════════════╪════════════════╡\n",
       "│ 06b8999e2fba1a1fbc ┆ 861eff4711a542e4b9 ┆ 14409             ┆ franca            ┆ SP             │\n",
       "│ 88172c00ba8b…      ┆ 3843c6dd7feb…      ┆                   ┆                   ┆                │\n",
       "│ 18955e83d337fd6b2d ┆ 290c77bc529b7ac935 ┆ 09790             ┆ sao bernardo do   ┆ SP             │\n",
       "│ ef6b18a428ac…      ┆ b93aa66c333d…      ┆                   ┆ campo             ┆                │\n",
       "└────────────────────┴────────────────────┴───────────────────┴───────────────────┴────────────────┘"
      ]
     },
     "execution_count": 4,
     "metadata": {},
     "output_type": "execute_result"
    }
   ],
   "source": [
    "customer.head(2)"
   ]
  },
  {
   "cell_type": "code",
   "execution_count": 5,
   "metadata": {},
   "outputs": [
    {
     "data": {
      "text/plain": [
       "(99441, 5)"
      ]
     },
     "execution_count": 5,
     "metadata": {},
     "output_type": "execute_result"
    }
   ],
   "source": [
    "customer.shape"
   ]
  },
  {
   "cell_type": "markdown",
   "metadata": {},
   "source": [
    "Verificando a quantidade de valores únicos de cada coluna"
   ]
  },
  {
   "cell_type": "code",
   "execution_count": null,
   "metadata": {},
   "outputs": [
    {
     "data": {
      "text/html": [
       "<div>\n",
       "<style scoped>\n",
       "    .dataframe tbody tr th:only-of-type {\n",
       "        vertical-align: middle;\n",
       "    }\n",
       "\n",
       "    .dataframe tbody tr th {\n",
       "        vertical-align: top;\n",
       "    }\n",
       "\n",
       "    .dataframe thead th {\n",
       "        text-align: right;\n",
       "    }\n",
       "</style>\n",
       "<table border=\"1\" class=\"dataframe\">\n",
       "  <thead>\n",
       "    <tr style=\"text-align: right;\">\n",
       "      <th></th>\n",
       "      <th>Quantidade de valores únicos</th>\n",
       "    </tr>\n",
       "  </thead>\n",
       "  <tbody>\n",
       "    <tr>\n",
       "      <th>customer_id</th>\n",
       "      <td>99441</td>\n",
       "    </tr>\n",
       "    <tr>\n",
       "      <th>customer_unique_id</th>\n",
       "      <td>96096</td>\n",
       "    </tr>\n",
       "    <tr>\n",
       "      <th>customer_zip_code_prefix</th>\n",
       "      <td>14994</td>\n",
       "    </tr>\n",
       "    <tr>\n",
       "      <th>customer_city</th>\n",
       "      <td>4119</td>\n",
       "    </tr>\n",
       "    <tr>\n",
       "      <th>customer_state</th>\n",
       "      <td>27</td>\n",
       "    </tr>\n",
       "  </tbody>\n",
       "</table>\n",
       "</div>"
      ],
      "text/plain": [
       "                          Quantidade de valores únicos\n",
       "customer_id                                      99441\n",
       "customer_unique_id                               96096\n",
       "customer_zip_code_prefix                         14994\n",
       "customer_city                                     4119\n",
       "customer_state                                      27"
      ]
     },
     "execution_count": 6,
     "metadata": {},
     "output_type": "execute_result"
    }
   ],
   "source": [
    "pd.DataFrame({\n",
    "    col : customer.select(pl.col(col)).n_unique() \\\n",
    "    for col in customer.columns\n",
    "}, index=['Quantidade de valores únicos']).T"
   ]
  },
  {
   "cell_type": "markdown",
   "metadata": {},
   "source": [
    "> `customer_id` é uma chave primaria\n",
    ">\n",
    "> `customer_zip_code_prefix` é uma chave estrangeira"
   ]
  },
  {
   "cell_type": "markdown",
   "metadata": {},
   "source": [
    "Chave primaria e chave estrangeira não necessitam de tratamento, somente, se houver valores nulos nesse conj. dados. Mais abaixo irei verificar a quantidade de valores nulos por colunas"
   ]
  },
  {
   "cell_type": "code",
   "execution_count": 7,
   "metadata": {},
   "outputs": [
    {
     "data": {
      "text/plain": [
       "0"
      ]
     },
     "execution_count": 7,
     "metadata": {},
     "output_type": "execute_result"
    }
   ],
   "source": [
    "customer.select(pl.col('customer_id').null_count()).item()"
   ]
  },
  {
   "cell_type": "code",
   "execution_count": null,
   "metadata": {},
   "outputs": [
    {
     "data": {
      "text/html": [
       "<div>\n",
       "<style scoped>\n",
       "    .dataframe tbody tr th:only-of-type {\n",
       "        vertical-align: middle;\n",
       "    }\n",
       "\n",
       "    .dataframe tbody tr th {\n",
       "        vertical-align: top;\n",
       "    }\n",
       "\n",
       "    .dataframe thead th {\n",
       "        text-align: right;\n",
       "    }\n",
       "</style>\n",
       "<table border=\"1\" class=\"dataframe\">\n",
       "  <thead>\n",
       "    <tr style=\"text-align: right;\">\n",
       "      <th></th>\n",
       "      <th>colunas</th>\n",
       "      <th>Quantidade de valores nulos</th>\n",
       "    </tr>\n",
       "  </thead>\n",
       "  <tbody>\n",
       "    <tr>\n",
       "      <th>0</th>\n",
       "      <td>customer_id</td>\n",
       "      <td>0</td>\n",
       "    </tr>\n",
       "    <tr>\n",
       "      <th>1</th>\n",
       "      <td>customer_unique_id</td>\n",
       "      <td>0</td>\n",
       "    </tr>\n",
       "    <tr>\n",
       "      <th>2</th>\n",
       "      <td>customer_zip_code_prefix</td>\n",
       "      <td>0</td>\n",
       "    </tr>\n",
       "    <tr>\n",
       "      <th>3</th>\n",
       "      <td>customer_city</td>\n",
       "      <td>0</td>\n",
       "    </tr>\n",
       "    <tr>\n",
       "      <th>4</th>\n",
       "      <td>customer_state</td>\n",
       "      <td>0</td>\n",
       "    </tr>\n",
       "  </tbody>\n",
       "</table>\n",
       "</div>"
      ],
      "text/plain": [
       "                    colunas  Quantidade de valores nulos\n",
       "0               customer_id                            0\n",
       "1        customer_unique_id                            0\n",
       "2  customer_zip_code_prefix                            0\n",
       "3             customer_city                            0\n",
       "4            customer_state                            0"
      ]
     },
     "execution_count": 8,
     "metadata": {},
     "output_type": "execute_result"
    }
   ],
   "source": [
    "customer\\\n",
    "    .null_count()\\\n",
    "    .transpose(\n",
    "        include_header=True,\n",
    "        header_name   ='colunas',\n",
    "        column_names  =['Quantidade de valores nulos']\n",
    ").to_pandas()"
   ]
  },
  {
   "cell_type": "markdown",
   "metadata": {},
   "source": [
    "> Não há valores nulos nas colunas acima"
   ]
  },
  {
   "cell_type": "markdown",
   "metadata": {},
   "source": [
    "fazendo uma analise nas colunas `customer_city` e `customer_state`"
   ]
  },
  {
   "cell_type": "code",
   "execution_count": 9,
   "metadata": {},
   "outputs": [
    {
     "data": {
      "text/html": [
       "<div><style>\n",
       ".dataframe > thead > tr,\n",
       ".dataframe > tbody > tr {\n",
       "  text-align: right;\n",
       "  white-space: pre-wrap;\n",
       "}\n",
       "</style>\n",
       "<small>shape: (3, 1)</small><table border=\"1\" class=\"dataframe\"><thead><tr><th>customer_city</th></tr><tr><td>str</td></tr></thead><tbody><tr><td>&quot;franca&quot;</td></tr><tr><td>&quot;sao bernardo do campo&quot;</td></tr><tr><td>&quot;sao paulo&quot;</td></tr></tbody></table></div>"
      ],
      "text/plain": [
       "shape: (3, 1)\n",
       "┌───────────────────────┐\n",
       "│ customer_city         │\n",
       "│ ---                   │\n",
       "│ str                   │\n",
       "╞═══════════════════════╡\n",
       "│ franca                │\n",
       "│ sao bernardo do campo │\n",
       "│ sao paulo             │\n",
       "└───────────────────────┘"
      ]
     },
     "execution_count": 9,
     "metadata": {},
     "output_type": "execute_result"
    }
   ],
   "source": [
    "customer.select(pl.col('customer_city')).head(3)"
   ]
  },
  {
   "cell_type": "markdown",
   "metadata": {},
   "source": [
    "> vou deixar no formato de titulo o texto para melhor visualização para futura analises"
   ]
  },
  {
   "cell_type": "code",
   "execution_count": 10,
   "metadata": {},
   "outputs": [],
   "source": [
    "customer = customer.with_columns(\n",
    "    pl.col('customer_city').cast(pl.String).str.to_titlecase()\n",
    ")"
   ]
  },
  {
   "cell_type": "code",
   "execution_count": 11,
   "metadata": {},
   "outputs": [
    {
     "data": {
      "text/html": [
       "<div><style>\n",
       ".dataframe > thead > tr,\n",
       ".dataframe > tbody > tr {\n",
       "  text-align: right;\n",
       "  white-space: pre-wrap;\n",
       "}\n",
       "</style>\n",
       "<small>shape: (10, 1)</small><table border=\"1\" class=\"dataframe\"><thead><tr><th>customer_city</th></tr><tr><td>str</td></tr></thead><tbody><tr><td>&quot;Franca&quot;</td></tr><tr><td>&quot;Sao Bernardo Do Campo&quot;</td></tr><tr><td>&quot;Sao Paulo&quot;</td></tr><tr><td>&quot;Mogi Das Cruzes&quot;</td></tr><tr><td>&quot;Campinas&quot;</td></tr><tr><td>&quot;Jaragua Do Sul&quot;</td></tr><tr><td>&quot;Sao Paulo&quot;</td></tr><tr><td>&quot;Timoteo&quot;</td></tr><tr><td>&quot;Curitiba&quot;</td></tr><tr><td>&quot;Belo Horizonte&quot;</td></tr></tbody></table></div>"
      ],
      "text/plain": [
       "shape: (10, 1)\n",
       "┌───────────────────────┐\n",
       "│ customer_city         │\n",
       "│ ---                   │\n",
       "│ str                   │\n",
       "╞═══════════════════════╡\n",
       "│ Franca                │\n",
       "│ Sao Bernardo Do Campo │\n",
       "│ Sao Paulo             │\n",
       "│ Mogi Das Cruzes       │\n",
       "│ Campinas              │\n",
       "│ Jaragua Do Sul        │\n",
       "│ Sao Paulo             │\n",
       "│ Timoteo               │\n",
       "│ Curitiba              │\n",
       "│ Belo Horizonte        │\n",
       "└───────────────────────┘"
      ]
     },
     "execution_count": 11,
     "metadata": {},
     "output_type": "execute_result"
    }
   ],
   "source": [
    "customer.select(pl.col('customer_city')).head(10)"
   ]
  },
  {
   "cell_type": "code",
   "execution_count": 12,
   "metadata": {},
   "outputs": [],
   "source": [
    "# Escrevendo dados\n",
    "customer.write_csv(file='dataset_limpo_para_analise/olist_customers.csv')"
   ]
  },
  {
   "cell_type": "markdown",
   "metadata": {},
   "source": [
    "&nbsp;"
   ]
  },
  {
   "cell_type": "markdown",
   "metadata": {},
   "source": [
    "#### Limpeza para os Dados de Clientes(olist_customer)"
   ]
  },
  {
   "cell_type": "code",
   "execution_count": null,
   "metadata": {},
   "outputs": [
    {
     "data": {
      "text/html": [
       "<div><style>\n",
       ".dataframe > thead > tr,\n",
       ".dataframe > tbody > tr {\n",
       "  text-align: right;\n",
       "  white-space: pre-wrap;\n",
       "}\n",
       "</style>\n",
       "<small>shape: (3, 8)</small><table border=\"1\" class=\"dataframe\"><thead><tr><th>order_id</th><th>customer_id</th><th>order_status</th><th>order_purchase_timestamp</th><th>order_approved_at</th><th>order_delivered_carrier_date</th><th>order_delivered_customer_date</th><th>order_estimated_delivery_date</th></tr><tr><td>str</td><td>str</td><td>str</td><td>str</td><td>str</td><td>str</td><td>str</td><td>str</td></tr></thead><tbody><tr><td>&quot;e481f51cbdc54678b7cc49136f2d6a…</td><td>&quot;9ef432eb6251297304e76186b10a92…</td><td>&quot;delivered&quot;</td><td>&quot;2017-10-02 10:56:33&quot;</td><td>&quot;2017-10-02 11:07:15&quot;</td><td>&quot;2017-10-04 19:55:00&quot;</td><td>&quot;2017-10-10 21:25:13&quot;</td><td>&quot;2017-10-18 00:00:00&quot;</td></tr><tr><td>&quot;53cdb2fc8bc7dce0b6741e21502734…</td><td>&quot;b0830fb4747a6c6d20dea0b8c802d7…</td><td>&quot;delivered&quot;</td><td>&quot;2018-07-24 20:41:37&quot;</td><td>&quot;2018-07-26 03:24:27&quot;</td><td>&quot;2018-07-26 14:31:00&quot;</td><td>&quot;2018-08-07 15:27:45&quot;</td><td>&quot;2018-08-13 00:00:00&quot;</td></tr><tr><td>&quot;47770eb9100c2d0c44946d9cf07ec6…</td><td>&quot;41ce2a54c0b03bf3443c3d931a3670…</td><td>&quot;delivered&quot;</td><td>&quot;2018-08-08 08:38:49&quot;</td><td>&quot;2018-08-08 08:55:23&quot;</td><td>&quot;2018-08-08 13:50:00&quot;</td><td>&quot;2018-08-17 18:06:29&quot;</td><td>&quot;2018-09-04 00:00:00&quot;</td></tr></tbody></table></div>"
      ],
      "text/plain": [
       "shape: (3, 8)\n",
       "┌────────────┬────────────┬────────────┬───────────┬───────────┬───────────┬───────────┬───────────┐\n",
       "│ order_id   ┆ customer_i ┆ order_stat ┆ order_pur ┆ order_app ┆ order_del ┆ order_del ┆ order_est │\n",
       "│ ---        ┆ d          ┆ us         ┆ chase_tim ┆ roved_at  ┆ ivered_ca ┆ ivered_cu ┆ imated_de │\n",
       "│ str        ┆ ---        ┆ ---        ┆ estamp    ┆ ---       ┆ rrier_dat ┆ stomer_da ┆ livery_da │\n",
       "│            ┆ str        ┆ str        ┆ ---       ┆ str       ┆ e         ┆ te        ┆ te        │\n",
       "│            ┆            ┆            ┆ str       ┆           ┆ ---       ┆ ---       ┆ ---       │\n",
       "│            ┆            ┆            ┆           ┆           ┆ str       ┆ str       ┆ str       │\n",
       "╞════════════╪════════════╪════════════╪═══════════╪═══════════╪═══════════╪═══════════╪═══════════╡\n",
       "│ e481f51cbd ┆ 9ef432eb62 ┆ delivered  ┆ 2017-10-0 ┆ 2017-10-0 ┆ 2017-10-0 ┆ 2017-10-1 ┆ 2017-10-1 │\n",
       "│ c54678b7cc ┆ 51297304e7 ┆            ┆ 2         ┆ 2         ┆ 4         ┆ 0         ┆ 8         │\n",
       "│ 49136f2d6a ┆ 6186b10a92 ┆            ┆ 10:56:33  ┆ 11:07:15  ┆ 19:55:00  ┆ 21:25:13  ┆ 00:00:00  │\n",
       "│ …          ┆ …          ┆            ┆           ┆           ┆           ┆           ┆           │\n",
       "│ 53cdb2fc8b ┆ b0830fb474 ┆ delivered  ┆ 2018-07-2 ┆ 2018-07-2 ┆ 2018-07-2 ┆ 2018-08-0 ┆ 2018-08-1 │\n",
       "│ c7dce0b674 ┆ 7a6c6d20de ┆            ┆ 4         ┆ 6         ┆ 6         ┆ 7         ┆ 3         │\n",
       "│ 1e21502734 ┆ a0b8c802d7 ┆            ┆ 20:41:37  ┆ 03:24:27  ┆ 14:31:00  ┆ 15:27:45  ┆ 00:00:00  │\n",
       "│ …          ┆ …          ┆            ┆           ┆           ┆           ┆           ┆           │\n",
       "│ 47770eb910 ┆ 41ce2a54c0 ┆ delivered  ┆ 2018-08-0 ┆ 2018-08-0 ┆ 2018-08-0 ┆ 2018-08-1 ┆ 2018-09-0 │\n",
       "│ 0c2d0c4494 ┆ b03bf3443c ┆            ┆ 8         ┆ 8         ┆ 8         ┆ 7         ┆ 4         │\n",
       "│ 6d9cf07ec6 ┆ 3d931a3670 ┆            ┆ 08:38:49  ┆ 08:55:23  ┆ 13:50:00  ┆ 18:06:29  ┆ 00:00:00  │\n",
       "│ …          ┆ …          ┆            ┆           ┆           ┆           ┆           ┆           │\n",
       "└────────────┴────────────┴────────────┴───────────┴───────────┴───────────┴───────────┴───────────┘"
      ]
     },
     "execution_count": 2,
     "metadata": {},
     "output_type": "execute_result"
    }
   ],
   "source": [
    "order = pl.read_csv('dataset/olist_orders_dataset.csv', infer_schema=False)\n",
    "order.head(3)"
   ]
  },
  {
   "cell_type": "code",
   "execution_count": null,
   "metadata": {},
   "outputs": [
    {
     "data": {
      "text/html": [
       "<div><style>\n",
       ".dataframe > thead > tr,\n",
       ".dataframe > tbody > tr {\n",
       "  text-align: right;\n",
       "  white-space: pre-wrap;\n",
       "}\n",
       "</style>\n",
       "<small>shape: (8,)</small><table border=\"1\" class=\"dataframe\"><thead><tr><th>order_status</th></tr><tr><td>str</td></tr></thead><tbody><tr><td>&quot;unavailable&quot;</td></tr><tr><td>&quot;delivered&quot;</td></tr><tr><td>&quot;canceled&quot;</td></tr><tr><td>&quot;processing&quot;</td></tr><tr><td>&quot;created&quot;</td></tr><tr><td>&quot;invoiced&quot;</td></tr><tr><td>&quot;approved&quot;</td></tr><tr><td>&quot;shipped&quot;</td></tr></tbody></table></div>"
      ],
      "text/plain": [
       "shape: (8,)\n",
       "Series: 'order_status' [str]\n",
       "[\n",
       "\t\"unavailable\"\n",
       "\t\"delivered\"\n",
       "\t\"canceled\"\n",
       "\t\"processing\"\n",
       "\t\"created\"\n",
       "\t\"invoiced\"\n",
       "\t\"approved\"\n",
       "\t\"shipped\"\n",
       "]"
      ]
     },
     "execution_count": 3,
     "metadata": {},
     "output_type": "execute_result"
    }
   ],
   "source": [
    "order['order_status'].unique()"
   ]
  },
  {
   "cell_type": "code",
   "execution_count": 4,
   "metadata": {},
   "outputs": [],
   "source": [
    "status_map = {\n",
    "    \"delivered\": \"entregue\",\n",
    "    \"invoiced\": \"faturado\",\n",
    "    \"shipped\": \"enviado\",\n",
    "    \"created\": \"criado\",\n",
    "    \"approved\": \"aprovado\",\n",
    "    \"processing\": \"processando\",\n",
    "    'canceled' :'cancelado',\n",
    "    'unavailable': 'indisponível'\n",
    "}"
   ]
  },
  {
   "cell_type": "code",
   "execution_count": 5,
   "metadata": {},
   "outputs": [],
   "source": [
    "order = order.with_columns(\n",
    "    pl.col(\"order_status\").replace(status_map)\n",
    ")"
   ]
  },
  {
   "cell_type": "code",
   "execution_count": 6,
   "metadata": {},
   "outputs": [
    {
     "data": {
      "text/html": [
       "<div><style>\n",
       ".dataframe > thead > tr,\n",
       ".dataframe > tbody > tr {\n",
       "  text-align: right;\n",
       "  white-space: pre-wrap;\n",
       "}\n",
       "</style>\n",
       "<small>shape: (8,)</small><table border=\"1\" class=\"dataframe\"><thead><tr><th>order_status</th></tr><tr><td>str</td></tr></thead><tbody><tr><td>&quot;indisponível&quot;</td></tr><tr><td>&quot;entregue&quot;</td></tr><tr><td>&quot;enviado&quot;</td></tr><tr><td>&quot;processando&quot;</td></tr><tr><td>&quot;criado&quot;</td></tr><tr><td>&quot;cancelado&quot;</td></tr><tr><td>&quot;faturado&quot;</td></tr><tr><td>&quot;aprovado&quot;</td></tr></tbody></table></div>"
      ],
      "text/plain": [
       "shape: (8,)\n",
       "Series: 'order_status' [str]\n",
       "[\n",
       "\t\"indisponível\"\n",
       "\t\"entregue\"\n",
       "\t\"enviado\"\n",
       "\t\"processando\"\n",
       "\t\"criado\"\n",
       "\t\"cancelado\"\n",
       "\t\"faturado\"\n",
       "\t\"aprovado\"\n",
       "]"
      ]
     },
     "execution_count": 6,
     "metadata": {},
     "output_type": "execute_result"
    }
   ],
   "source": [
    "order['order_status'].unique()"
   ]
  },
  {
   "cell_type": "markdown",
   "metadata": {},
   "source": [
    "- \"enviado\", 'entrege','aprovado, 'entregue', 'faturado' = 'ok'\n",
    "- 'cancelado', 'indisponivel' = no\n",
    "- 'processado'  = 'em processo'"
   ]
  },
  {
   "cell_type": "code",
   "execution_count": null,
   "metadata": {},
   "outputs": [
    {
     "data": {
      "text/html": [
       "<div><style>\n",
       ".dataframe > thead > tr,\n",
       ".dataframe > tbody > tr {\n",
       "  text-align: right;\n",
       "  white-space: pre-wrap;\n",
       "}\n",
       "</style>\n",
       "<small>shape: (99_441, 9)</small><table border=\"1\" class=\"dataframe\"><thead><tr><th>order_id</th><th>customer_id</th><th>order_status</th><th>order_purchase_timestamp</th><th>order_approved_at</th><th>order_delivered_carrier_date</th><th>order_delivered_customer_date</th><th>order_estimated_delivery_date</th><th>status_</th></tr><tr><td>str</td><td>str</td><td>str</td><td>str</td><td>str</td><td>str</td><td>str</td><td>str</td><td>str</td></tr></thead><tbody><tr><td>&quot;e481f51cbdc54678b7cc49136f2d6a…</td><td>&quot;9ef432eb6251297304e76186b10a92…</td><td>&quot;entregue&quot;</td><td>&quot;2017-10-02 10:56:33&quot;</td><td>&quot;2017-10-02 11:07:15&quot;</td><td>&quot;2017-10-04 19:55:00&quot;</td><td>&quot;2017-10-10 21:25:13&quot;</td><td>&quot;2017-10-18 00:00:00&quot;</td><td>&quot;ok&quot;</td></tr><tr><td>&quot;53cdb2fc8bc7dce0b6741e21502734…</td><td>&quot;b0830fb4747a6c6d20dea0b8c802d7…</td><td>&quot;entregue&quot;</td><td>&quot;2018-07-24 20:41:37&quot;</td><td>&quot;2018-07-26 03:24:27&quot;</td><td>&quot;2018-07-26 14:31:00&quot;</td><td>&quot;2018-08-07 15:27:45&quot;</td><td>&quot;2018-08-13 00:00:00&quot;</td><td>&quot;ok&quot;</td></tr><tr><td>&quot;47770eb9100c2d0c44946d9cf07ec6…</td><td>&quot;41ce2a54c0b03bf3443c3d931a3670…</td><td>&quot;entregue&quot;</td><td>&quot;2018-08-08 08:38:49&quot;</td><td>&quot;2018-08-08 08:55:23&quot;</td><td>&quot;2018-08-08 13:50:00&quot;</td><td>&quot;2018-08-17 18:06:29&quot;</td><td>&quot;2018-09-04 00:00:00&quot;</td><td>&quot;ok&quot;</td></tr><tr><td>&quot;949d5b44dbf5de918fe9c16f97b45f…</td><td>&quot;f88197465ea7920adcdbec7375364d…</td><td>&quot;entregue&quot;</td><td>&quot;2017-11-18 19:28:06&quot;</td><td>&quot;2017-11-18 19:45:59&quot;</td><td>&quot;2017-11-22 13:39:59&quot;</td><td>&quot;2017-12-02 00:28:42&quot;</td><td>&quot;2017-12-15 00:00:00&quot;</td><td>&quot;ok&quot;</td></tr><tr><td>&quot;ad21c59c0840e6cb83a9ceb5573f81…</td><td>&quot;8ab97904e6daea8866dbdbc4fb7aad…</td><td>&quot;entregue&quot;</td><td>&quot;2018-02-13 21:18:39&quot;</td><td>&quot;2018-02-13 22:20:29&quot;</td><td>&quot;2018-02-14 19:46:34&quot;</td><td>&quot;2018-02-16 18:17:02&quot;</td><td>&quot;2018-02-26 00:00:00&quot;</td><td>&quot;ok&quot;</td></tr><tr><td>&hellip;</td><td>&hellip;</td><td>&hellip;</td><td>&hellip;</td><td>&hellip;</td><td>&hellip;</td><td>&hellip;</td><td>&hellip;</td><td>&hellip;</td></tr><tr><td>&quot;9c5dedf39a927c1b2549525ed64a05…</td><td>&quot;39bd1228ee8140590ac3aca26f2dfe…</td><td>&quot;entregue&quot;</td><td>&quot;2017-03-09 09:54:05&quot;</td><td>&quot;2017-03-09 09:54:05&quot;</td><td>&quot;2017-03-10 11:18:03&quot;</td><td>&quot;2017-03-17 15:08:01&quot;</td><td>&quot;2017-03-28 00:00:00&quot;</td><td>&quot;ok&quot;</td></tr><tr><td>&quot;63943bddc261676b46f01ca7ac2f7b…</td><td>&quot;1fca14ff2861355f6e5f14306ff977…</td><td>&quot;entregue&quot;</td><td>&quot;2018-02-06 12:58:58&quot;</td><td>&quot;2018-02-06 13:10:37&quot;</td><td>&quot;2018-02-07 23:22:42&quot;</td><td>&quot;2018-02-28 17:37:56&quot;</td><td>&quot;2018-03-02 00:00:00&quot;</td><td>&quot;ok&quot;</td></tr><tr><td>&quot;83c1379a015df1e13d02aae0204711…</td><td>&quot;1aa71eb042121263aafbe80c1b562c…</td><td>&quot;entregue&quot;</td><td>&quot;2017-08-27 14:46:43&quot;</td><td>&quot;2017-08-27 15:04:16&quot;</td><td>&quot;2017-08-28 20:52:26&quot;</td><td>&quot;2017-09-21 11:24:17&quot;</td><td>&quot;2017-09-27 00:00:00&quot;</td><td>&quot;ok&quot;</td></tr><tr><td>&quot;11c177c8e97725db2631073c19f07b…</td><td>&quot;b331b74b18dc79bcdf6532d51e1637…</td><td>&quot;entregue&quot;</td><td>&quot;2018-01-08 21:28:27&quot;</td><td>&quot;2018-01-08 21:36:21&quot;</td><td>&quot;2018-01-12 15:35:03&quot;</td><td>&quot;2018-01-25 23:32:54&quot;</td><td>&quot;2018-02-15 00:00:00&quot;</td><td>&quot;ok&quot;</td></tr><tr><td>&quot;66dea50a8b16d9b4dee7af250b4be1…</td><td>&quot;edb027a75a1449115f6b43211ae02a…</td><td>&quot;entregue&quot;</td><td>&quot;2018-03-08 20:57:30&quot;</td><td>&quot;2018-03-09 11:20:28&quot;</td><td>&quot;2018-03-09 22:11:59&quot;</td><td>&quot;2018-03-16 13:08:30&quot;</td><td>&quot;2018-04-03 00:00:00&quot;</td><td>&quot;ok&quot;</td></tr></tbody></table></div>"
      ],
      "text/plain": [
       "shape: (99_441, 9)\n",
       "┌────────────┬───────────┬───────────┬───────────┬───┬───────────┬───────────┬───────────┬─────────┐\n",
       "│ order_id   ┆ customer_ ┆ order_sta ┆ order_pur ┆ … ┆ order_del ┆ order_del ┆ order_est ┆ status_ │\n",
       "│ ---        ┆ id        ┆ tus       ┆ chase_tim ┆   ┆ ivered_ca ┆ ivered_cu ┆ imated_de ┆ ---     │\n",
       "│ str        ┆ ---       ┆ ---       ┆ estamp    ┆   ┆ rrier_dat ┆ stomer_da ┆ livery_da ┆ str     │\n",
       "│            ┆ str       ┆ str       ┆ ---       ┆   ┆ e         ┆ te        ┆ te        ┆         │\n",
       "│            ┆           ┆           ┆ str       ┆   ┆ ---       ┆ ---       ┆ ---       ┆         │\n",
       "│            ┆           ┆           ┆           ┆   ┆ str       ┆ str       ┆ str       ┆         │\n",
       "╞════════════╪═══════════╪═══════════╪═══════════╪═══╪═══════════╪═══════════╪═══════════╪═════════╡\n",
       "│ e481f51cbd ┆ 9ef432eb6 ┆ entregue  ┆ 2017-10-0 ┆ … ┆ 2017-10-0 ┆ 2017-10-1 ┆ 2017-10-1 ┆ ok      │\n",
       "│ c54678b7cc ┆ 251297304 ┆           ┆ 2         ┆   ┆ 4         ┆ 0         ┆ 8         ┆         │\n",
       "│ 49136f2d6a ┆ e76186b10 ┆           ┆ 10:56:33  ┆   ┆ 19:55:00  ┆ 21:25:13  ┆ 00:00:00  ┆         │\n",
       "│ …          ┆ a92…      ┆           ┆           ┆   ┆           ┆           ┆           ┆         │\n",
       "│ 53cdb2fc8b ┆ b0830fb47 ┆ entregue  ┆ 2018-07-2 ┆ … ┆ 2018-07-2 ┆ 2018-08-0 ┆ 2018-08-1 ┆ ok      │\n",
       "│ c7dce0b674 ┆ 47a6c6d20 ┆           ┆ 4         ┆   ┆ 6         ┆ 7         ┆ 3         ┆         │\n",
       "│ 1e21502734 ┆ dea0b8c80 ┆           ┆ 20:41:37  ┆   ┆ 14:31:00  ┆ 15:27:45  ┆ 00:00:00  ┆         │\n",
       "│ …          ┆ 2d7…      ┆           ┆           ┆   ┆           ┆           ┆           ┆         │\n",
       "│ 47770eb910 ┆ 41ce2a54c ┆ entregue  ┆ 2018-08-0 ┆ … ┆ 2018-08-0 ┆ 2018-08-1 ┆ 2018-09-0 ┆ ok      │\n",
       "│ 0c2d0c4494 ┆ 0b03bf344 ┆           ┆ 8         ┆   ┆ 8         ┆ 7         ┆ 4         ┆         │\n",
       "│ 6d9cf07ec6 ┆ 3c3d931a3 ┆           ┆ 08:38:49  ┆   ┆ 13:50:00  ┆ 18:06:29  ┆ 00:00:00  ┆         │\n",
       "│ …          ┆ 670…      ┆           ┆           ┆   ┆           ┆           ┆           ┆         │\n",
       "│ 949d5b44db ┆ f88197465 ┆ entregue  ┆ 2017-11-1 ┆ … ┆ 2017-11-2 ┆ 2017-12-0 ┆ 2017-12-1 ┆ ok      │\n",
       "│ f5de918fe9 ┆ ea7920adc ┆           ┆ 8         ┆   ┆ 2         ┆ 2         ┆ 5         ┆         │\n",
       "│ c16f97b45f ┆ dbec73753 ┆           ┆ 19:28:06  ┆   ┆ 13:39:59  ┆ 00:28:42  ┆ 00:00:00  ┆         │\n",
       "│ …          ┆ 64d…      ┆           ┆           ┆   ┆           ┆           ┆           ┆         │\n",
       "│ ad21c59c08 ┆ 8ab97904e ┆ entregue  ┆ 2018-02-1 ┆ … ┆ 2018-02-1 ┆ 2018-02-1 ┆ 2018-02-2 ┆ ok      │\n",
       "│ 40e6cb83a9 ┆ 6daea8866 ┆           ┆ 3         ┆   ┆ 4         ┆ 6         ┆ 6         ┆         │\n",
       "│ ceb5573f81 ┆ dbdbc4fb7 ┆           ┆ 21:18:39  ┆   ┆ 19:46:34  ┆ 18:17:02  ┆ 00:00:00  ┆         │\n",
       "│ …          ┆ aad…      ┆           ┆           ┆   ┆           ┆           ┆           ┆         │\n",
       "│ …          ┆ …         ┆ …         ┆ …         ┆ … ┆ …         ┆ …         ┆ …         ┆ …       │\n",
       "│ 9c5dedf39a ┆ 39bd1228e ┆ entregue  ┆ 2017-03-0 ┆ … ┆ 2017-03-1 ┆ 2017-03-1 ┆ 2017-03-2 ┆ ok      │\n",
       "│ 927c1b2549 ┆ e8140590a ┆           ┆ 9         ┆   ┆ 0         ┆ 7         ┆ 8         ┆         │\n",
       "│ 525ed64a05 ┆ c3aca26f2 ┆           ┆ 09:54:05  ┆   ┆ 11:18:03  ┆ 15:08:01  ┆ 00:00:00  ┆         │\n",
       "│ …          ┆ dfe…      ┆           ┆           ┆   ┆           ┆           ┆           ┆         │\n",
       "│ 63943bddc2 ┆ 1fca14ff2 ┆ entregue  ┆ 2018-02-0 ┆ … ┆ 2018-02-0 ┆ 2018-02-2 ┆ 2018-03-0 ┆ ok      │\n",
       "│ 61676b46f0 ┆ 861355f6e ┆           ┆ 6         ┆   ┆ 7         ┆ 8         ┆ 2         ┆         │\n",
       "│ 1ca7ac2f7b ┆ 5f14306ff ┆           ┆ 12:58:58  ┆   ┆ 23:22:42  ┆ 17:37:56  ┆ 00:00:00  ┆         │\n",
       "│ …          ┆ 977…      ┆           ┆           ┆   ┆           ┆           ┆           ┆         │\n",
       "│ 83c1379a01 ┆ 1aa71eb04 ┆ entregue  ┆ 2017-08-2 ┆ … ┆ 2017-08-2 ┆ 2017-09-2 ┆ 2017-09-2 ┆ ok      │\n",
       "│ 5df1e13d02 ┆ 2121263aa ┆           ┆ 7         ┆   ┆ 8         ┆ 1         ┆ 7         ┆         │\n",
       "│ aae0204711 ┆ fbe80c1b5 ┆           ┆ 14:46:43  ┆   ┆ 20:52:26  ┆ 11:24:17  ┆ 00:00:00  ┆         │\n",
       "│ …          ┆ 62c…      ┆           ┆           ┆   ┆           ┆           ┆           ┆         │\n",
       "│ 11c177c8e9 ┆ b331b74b1 ┆ entregue  ┆ 2018-01-0 ┆ … ┆ 2018-01-1 ┆ 2018-01-2 ┆ 2018-02-1 ┆ ok      │\n",
       "│ 7725db2631 ┆ 8dc79bcdf ┆           ┆ 8         ┆   ┆ 2         ┆ 5         ┆ 5         ┆         │\n",
       "│ 073c19f07b ┆ 6532d51e1 ┆           ┆ 21:28:27  ┆   ┆ 15:35:03  ┆ 23:32:54  ┆ 00:00:00  ┆         │\n",
       "│ …          ┆ 637…      ┆           ┆           ┆   ┆           ┆           ┆           ┆         │\n",
       "│ 66dea50a8b ┆ edb027a75 ┆ entregue  ┆ 2018-03-0 ┆ … ┆ 2018-03-0 ┆ 2018-03-1 ┆ 2018-04-0 ┆ ok      │\n",
       "│ 16d9b4dee7 ┆ a1449115f ┆           ┆ 8         ┆   ┆ 9         ┆ 6         ┆ 3         ┆         │\n",
       "│ af250b4be1 ┆ 6b43211ae ┆           ┆ 20:57:30  ┆   ┆ 22:11:59  ┆ 13:08:30  ┆ 00:00:00  ┆         │\n",
       "│ …          ┆ 02a…      ┆           ┆           ┆   ┆           ┆           ┆           ┆         │\n",
       "└────────────┴───────────┴───────────┴───────────┴───┴───────────┴───────────┴───────────┴─────────┘"
      ]
     },
     "execution_count": 12,
     "metadata": {},
     "output_type": "execute_result"
    }
   ],
   "source": [
    "ok = ['enviado', 'entrege','aprovado', 'entregue', 'faturado']\n",
    "no = ['cancelado', 'indisponível']\n",
    "in_ = ['processando']\n",
    "\n",
    "order.with_columns(\n",
    "    status_ = pl.when(pl.col('order_status').is_in(ok))\\\n",
    "                .then(pl.lit('ok'))\\\n",
    "                .when(pl.col('order_status').is_in(no))\\\n",
    "                .then(pl.lit('no'))\n",
    "                .otherwise(pl.lit('in_'))\n",
    ")"
   ]
  },
  {
   "cell_type": "code",
   "execution_count": 16,
   "metadata": {},
   "outputs": [
    {
     "data": {
      "text/html": [
       "<div><style>\n",
       ".dataframe > thead > tr,\n",
       ".dataframe > tbody > tr {\n",
       "  text-align: right;\n",
       "  white-space: pre-wrap;\n",
       "}\n",
       "</style>\n",
       "<small>shape: (8, 2)</small><table border=\"1\" class=\"dataframe\"><thead><tr><th>colunas</th><th>Quantidade de valores nulos</th></tr><tr><td>str</td><td>u32</td></tr></thead><tbody><tr><td>&quot;order_id&quot;</td><td>0</td></tr><tr><td>&quot;customer_id&quot;</td><td>0</td></tr><tr><td>&quot;order_status&quot;</td><td>0</td></tr><tr><td>&quot;order_purchase_timestamp&quot;</td><td>0</td></tr><tr><td>&quot;order_approved_at&quot;</td><td>160</td></tr><tr><td>&quot;order_delivered_carrier_date&quot;</td><td>1783</td></tr><tr><td>&quot;order_delivered_customer_date&quot;</td><td>2965</td></tr><tr><td>&quot;order_estimated_delivery_date&quot;</td><td>0</td></tr></tbody></table></div>"
      ],
      "text/plain": [
       "shape: (8, 2)\n",
       "┌───────────────────────────────┬─────────────────────────────┐\n",
       "│ colunas                       ┆ Quantidade de valores nulos │\n",
       "│ ---                           ┆ ---                         │\n",
       "│ str                           ┆ u32                         │\n",
       "╞═══════════════════════════════╪═════════════════════════════╡\n",
       "│ order_id                      ┆ 0                           │\n",
       "│ customer_id                   ┆ 0                           │\n",
       "│ order_status                  ┆ 0                           │\n",
       "│ order_purchase_timestamp      ┆ 0                           │\n",
       "│ order_approved_at             ┆ 160                         │\n",
       "│ order_delivered_carrier_date  ┆ 1783                        │\n",
       "│ order_delivered_customer_date ┆ 2965                        │\n",
       "│ order_estimated_delivery_date ┆ 0                           │\n",
       "└───────────────────────────────┴─────────────────────────────┘"
      ]
     },
     "execution_count": 16,
     "metadata": {},
     "output_type": "execute_result"
    }
   ],
   "source": [
    "order\\\n",
    "    .null_count()\\\n",
    "    .transpose(\n",
    "        include_header=True,\n",
    "        header_name   ='colunas',\n",
    "        column_names  =['Quantidade de valores nulos']\n",
    ")"
   ]
  },
  {
   "cell_type": "markdown",
   "metadata": {},
   "source": [
    "> Os valores nan serão removidas"
   ]
  },
  {
   "cell_type": "code",
   "execution_count": 19,
   "metadata": {},
   "outputs": [],
   "source": [
    "order = order.to_pandas()"
   ]
  },
  {
   "cell_type": "code",
   "execution_count": 75,
   "metadata": {},
   "outputs": [],
   "source": [
    "order.write_csv(\n",
    "    'dataset_limpo_para_analise\\\\olist_order.csv'\n",
    ")"
   ]
  },
  {
   "cell_type": "markdown",
   "metadata": {},
   "source": [
    "#### limpeza para Itens de Pedidos (order_items)"
   ]
  },
  {
   "cell_type": "code",
   "execution_count": 14,
   "metadata": {},
   "outputs": [],
   "source": [
    "pedidos = pl.read_csv(\n",
    "    source='dataset/olist_order_items_dataset.csv',\n",
    "    infer_schema=False\n",
    "    )"
   ]
  },
  {
   "cell_type": "code",
   "execution_count": 15,
   "metadata": {},
   "outputs": [
    {
     "data": {
      "text/plain": [
       "['order_id',\n",
       " 'order_item_id',\n",
       " 'product_id',\n",
       " 'seller_id',\n",
       " 'shipping_limit_date',\n",
       " 'price',\n",
       " 'freight_value']"
      ]
     },
     "execution_count": 15,
     "metadata": {},
     "output_type": "execute_result"
    }
   ],
   "source": [
    "pedidos.columns"
   ]
  },
  {
   "cell_type": "code",
   "execution_count": 16,
   "metadata": {},
   "outputs": [
    {
     "data": {
      "text/html": [
       "<div><style>\n",
       ".dataframe > thead > tr,\n",
       ".dataframe > tbody > tr {\n",
       "  text-align: right;\n",
       "  white-space: pre-wrap;\n",
       "}\n",
       "</style>\n",
       "<small>shape: (3, 7)</small><table border=\"1\" class=\"dataframe\"><thead><tr><th>order_id</th><th>order_item_id</th><th>product_id</th><th>seller_id</th><th>shipping_limit_date</th><th>price</th><th>freight_value</th></tr><tr><td>str</td><td>str</td><td>str</td><td>str</td><td>str</td><td>str</td><td>str</td></tr></thead><tbody><tr><td>&quot;00010242fe8c5a6d1ba2dd792cb162…</td><td>&quot;1&quot;</td><td>&quot;4244733e06e7ecb4970a6e2683c13e…</td><td>&quot;48436dade18ac8b2bce089ec2a0412…</td><td>&quot;2017-09-19 09:45:35&quot;</td><td>&quot;58.90&quot;</td><td>&quot;13.29&quot;</td></tr><tr><td>&quot;00018f77f2f0320c557190d7a144bd…</td><td>&quot;1&quot;</td><td>&quot;e5f2d52b802189ee658865ca93d83a…</td><td>&quot;dd7ddc04e1b6c2c614352b383efe2d…</td><td>&quot;2017-05-03 11:05:13&quot;</td><td>&quot;239.90&quot;</td><td>&quot;19.93&quot;</td></tr><tr><td>&quot;000229ec398224ef6ca0657da4fc70…</td><td>&quot;1&quot;</td><td>&quot;c777355d18b72b67abbeef9df44fd0…</td><td>&quot;5b51032eddd242adc84c38acab88f2…</td><td>&quot;2018-01-18 14:48:30&quot;</td><td>&quot;199.00&quot;</td><td>&quot;17.87&quot;</td></tr></tbody></table></div>"
      ],
      "text/plain": [
       "shape: (3, 7)\n",
       "┌──────────────┬──────────────┬──────────────┬──────────────┬──────────────┬────────┬──────────────┐\n",
       "│ order_id     ┆ order_item_i ┆ product_id   ┆ seller_id    ┆ shipping_lim ┆ price  ┆ freight_valu │\n",
       "│ ---          ┆ d            ┆ ---          ┆ ---          ┆ it_date      ┆ ---    ┆ e            │\n",
       "│ str          ┆ ---          ┆ str          ┆ str          ┆ ---          ┆ str    ┆ ---          │\n",
       "│              ┆ str          ┆              ┆              ┆ str          ┆        ┆ str          │\n",
       "╞══════════════╪══════════════╪══════════════╪══════════════╪══════════════╪════════╪══════════════╡\n",
       "│ 00010242fe8c ┆ 1            ┆ 4244733e06e7 ┆ 48436dade18a ┆ 2017-09-19   ┆ 58.90  ┆ 13.29        │\n",
       "│ 5a6d1ba2dd79 ┆              ┆ ecb4970a6e26 ┆ c8b2bce089ec ┆ 09:45:35     ┆        ┆              │\n",
       "│ 2cb162…      ┆              ┆ 83c13e…      ┆ 2a0412…      ┆              ┆        ┆              │\n",
       "│ 00018f77f2f0 ┆ 1            ┆ e5f2d52b8021 ┆ dd7ddc04e1b6 ┆ 2017-05-03   ┆ 239.90 ┆ 19.93        │\n",
       "│ 320c557190d7 ┆              ┆ 89ee658865ca ┆ c2c614352b38 ┆ 11:05:13     ┆        ┆              │\n",
       "│ a144bd…      ┆              ┆ 93d83a…      ┆ 3efe2d…      ┆              ┆        ┆              │\n",
       "│ 000229ec3982 ┆ 1            ┆ c777355d18b7 ┆ 5b51032eddd2 ┆ 2018-01-18   ┆ 199.00 ┆ 17.87        │\n",
       "│ 24ef6ca0657d ┆              ┆ 2b67abbeef9d ┆ 42adc84c38ac ┆ 14:48:30     ┆        ┆              │\n",
       "│ a4fc70…      ┆              ┆ f44fd0…      ┆ ab88f2…      ┆              ┆        ┆              │\n",
       "└──────────────┴──────────────┴──────────────┴──────────────┴──────────────┴────────┴──────────────┘"
      ]
     },
     "execution_count": 16,
     "metadata": {},
     "output_type": "execute_result"
    }
   ],
   "source": [
    "pedidos.head(3)"
   ]
  },
  {
   "cell_type": "code",
   "execution_count": 17,
   "metadata": {},
   "outputs": [
    {
     "data": {
      "text/html": [
       "<div><style>\n",
       ".dataframe > thead > tr,\n",
       ".dataframe > tbody > tr {\n",
       "  text-align: right;\n",
       "  white-space: pre-wrap;\n",
       "}\n",
       "</style>\n",
       "<small>shape: (7, 2)</small><table border=\"1\" class=\"dataframe\"><thead><tr><th>colunas</th><th>Valores Únicos</th></tr><tr><td>str</td><td>u32</td></tr></thead><tbody><tr><td>&quot;order_id&quot;</td><td>98666</td></tr><tr><td>&quot;order_item_id&quot;</td><td>21</td></tr><tr><td>&quot;product_id&quot;</td><td>32951</td></tr><tr><td>&quot;seller_id&quot;</td><td>3095</td></tr><tr><td>&quot;shipping_limit_date&quot;</td><td>93318</td></tr><tr><td>&quot;price&quot;</td><td>5968</td></tr><tr><td>&quot;freight_value&quot;</td><td>6999</td></tr></tbody></table></div>"
      ],
      "text/plain": [
       "shape: (7, 2)\n",
       "┌─────────────────────┬────────────────┐\n",
       "│ colunas             ┆ Valores Únicos │\n",
       "│ ---                 ┆ ---            │\n",
       "│ str                 ┆ u32            │\n",
       "╞═════════════════════╪════════════════╡\n",
       "│ order_id            ┆ 98666          │\n",
       "│ order_item_id       ┆ 21             │\n",
       "│ product_id          ┆ 32951          │\n",
       "│ seller_id           ┆ 3095           │\n",
       "│ shipping_limit_date ┆ 93318          │\n",
       "│ price               ┆ 5968           │\n",
       "│ freight_value       ┆ 6999           │\n",
       "└─────────────────────┴────────────────┘"
      ]
     },
     "execution_count": 17,
     "metadata": {},
     "output_type": "execute_result"
    }
   ],
   "source": [
    "pedidos\\\n",
    "    .select(pl.all().n_unique())\\\n",
    "    .transpose(\n",
    "        include_header=True,\n",
    "        header_name='colunas',\n",
    "        column_names=['Valores Únicos']\n",
    "    )"
   ]
  },
  {
   "cell_type": "code",
   "execution_count": 18,
   "metadata": {},
   "outputs": [
    {
     "data": {
      "text/html": [
       "<div><style>\n",
       ".dataframe > thead > tr,\n",
       ".dataframe > tbody > tr {\n",
       "  text-align: right;\n",
       "  white-space: pre-wrap;\n",
       "}\n",
       "</style>\n",
       "<small>shape: (7, 2)</small><table border=\"1\" class=\"dataframe\"><thead><tr><th>colunas</th><th>Quantidade de valores nulos</th></tr><tr><td>str</td><td>u32</td></tr></thead><tbody><tr><td>&quot;order_id&quot;</td><td>0</td></tr><tr><td>&quot;order_item_id&quot;</td><td>0</td></tr><tr><td>&quot;product_id&quot;</td><td>0</td></tr><tr><td>&quot;seller_id&quot;</td><td>0</td></tr><tr><td>&quot;shipping_limit_date&quot;</td><td>0</td></tr><tr><td>&quot;price&quot;</td><td>0</td></tr><tr><td>&quot;freight_value&quot;</td><td>0</td></tr></tbody></table></div>"
      ],
      "text/plain": [
       "shape: (7, 2)\n",
       "┌─────────────────────┬─────────────────────────────┐\n",
       "│ colunas             ┆ Quantidade de valores nulos │\n",
       "│ ---                 ┆ ---                         │\n",
       "│ str                 ┆ u32                         │\n",
       "╞═════════════════════╪═════════════════════════════╡\n",
       "│ order_id            ┆ 0                           │\n",
       "│ order_item_id       ┆ 0                           │\n",
       "│ product_id          ┆ 0                           │\n",
       "│ seller_id           ┆ 0                           │\n",
       "│ shipping_limit_date ┆ 0                           │\n",
       "│ price               ┆ 0                           │\n",
       "│ freight_value       ┆ 0                           │\n",
       "└─────────────────────┴─────────────────────────────┘"
      ]
     },
     "execution_count": 18,
     "metadata": {},
     "output_type": "execute_result"
    }
   ],
   "source": [
    "pedidos.select(\n",
    "    pl.all().null_count()\n",
    ").transpose(\n",
    "    include_header=True,\n",
    "    header_name ='colunas',\n",
    "    column_names=['Quantidade de valores nulos']\n",
    ")"
   ]
  },
  {
   "cell_type": "markdown",
   "metadata": {},
   "source": [
    "> Não há valores nulos nesse conjunto de dados"
   ]
  },
  {
   "cell_type": "markdown",
   "metadata": {},
   "source": [
    "Conventendo valores numericos que estão no formato string, e conventendo para o padrão brasileiro a data"
   ]
  },
  {
   "cell_type": "code",
   "execution_count": 19,
   "metadata": {},
   "outputs": [],
   "source": [
    "pedidos = pedidos.with_columns(\n",
    "        pl.col('shipping_limit_date')\\\n",
    "            .str.strptime(pl.Datetime(time_zone='UTC'))\\\n",
    "            .dt.strftime(format=\"%d-%m-%Y %H:%M:%S\"), # Convertendo data\n",
    "\n",
    "        pl.col('price').str.to_decimal(),         # Convertendo para float\n",
    "        pl.col('freight_value').str.to_decimal(), # Convertendo para float\n",
    "    )"
   ]
  },
  {
   "cell_type": "code",
   "execution_count": 20,
   "metadata": {},
   "outputs": [
    {
     "data": {
      "text/plain": [
       "[String,\n",
       " String,\n",
       " String,\n",
       " String,\n",
       " String,\n",
       " Decimal(precision=None, scale=2),\n",
       " Decimal(precision=None, scale=2)]"
      ]
     },
     "execution_count": 20,
     "metadata": {},
     "output_type": "execute_result"
    }
   ],
   "source": [
    "pedidos.dtypes"
   ]
  },
  {
   "cell_type": "code",
   "execution_count": 21,
   "metadata": {},
   "outputs": [],
   "source": [
    "# Escrevendo dados\n",
    "pedidos.write_csv(file='dataset_limpo_para_analise/olist_order_items.csv')"
   ]
  },
  {
   "cell_type": "markdown",
   "metadata": {},
   "source": [
    "&nbsp;"
   ]
  },
  {
   "cell_type": "markdown",
   "metadata": {},
   "source": [
    "#### limpeza Payments Dataset(olist_payments)"
   ]
  },
  {
   "cell_type": "code",
   "execution_count": 22,
   "metadata": {},
   "outputs": [],
   "source": [
    "payments = pl.read_csv(\n",
    "    'dataset/olist_order_payments_dataset.csv',\n",
    "    infer_schema=False\n",
    ")"
   ]
  },
  {
   "cell_type": "code",
   "execution_count": 23,
   "metadata": {},
   "outputs": [
    {
     "data": {
      "text/html": [
       "<div><style>\n",
       ".dataframe > thead > tr,\n",
       ".dataframe > tbody > tr {\n",
       "  text-align: right;\n",
       "  white-space: pre-wrap;\n",
       "}\n",
       "</style>\n",
       "<small>shape: (2, 5)</small><table border=\"1\" class=\"dataframe\"><thead><tr><th>order_id</th><th>payment_sequential</th><th>payment_type</th><th>payment_installments</th><th>payment_value</th></tr><tr><td>str</td><td>str</td><td>str</td><td>str</td><td>str</td></tr></thead><tbody><tr><td>&quot;b81ef226f3fe1789b1e8b2acac839d…</td><td>&quot;1&quot;</td><td>&quot;credit_card&quot;</td><td>&quot;8&quot;</td><td>&quot;99.33&quot;</td></tr><tr><td>&quot;a9810da82917af2d9aefd1278f1dcf…</td><td>&quot;1&quot;</td><td>&quot;credit_card&quot;</td><td>&quot;1&quot;</td><td>&quot;24.39&quot;</td></tr></tbody></table></div>"
      ],
      "text/plain": [
       "shape: (2, 5)\n",
       "┌───────────────────────┬────────────────────┬──────────────┬──────────────────────┬───────────────┐\n",
       "│ order_id              ┆ payment_sequential ┆ payment_type ┆ payment_installments ┆ payment_value │\n",
       "│ ---                   ┆ ---                ┆ ---          ┆ ---                  ┆ ---           │\n",
       "│ str                   ┆ str                ┆ str          ┆ str                  ┆ str           │\n",
       "╞═══════════════════════╪════════════════════╪══════════════╪══════════════════════╪═══════════════╡\n",
       "│ b81ef226f3fe1789b1e8b ┆ 1                  ┆ credit_card  ┆ 8                    ┆ 99.33         │\n",
       "│ 2acac839d…            ┆                    ┆              ┆                      ┆               │\n",
       "│ a9810da82917af2d9aefd ┆ 1                  ┆ credit_card  ┆ 1                    ┆ 24.39         │\n",
       "│ 1278f1dcf…            ┆                    ┆              ┆                      ┆               │\n",
       "└───────────────────────┴────────────────────┴──────────────┴──────────────────────┴───────────────┘"
      ]
     },
     "execution_count": 23,
     "metadata": {},
     "output_type": "execute_result"
    }
   ],
   "source": [
    "payments.head(2)"
   ]
  },
  {
   "cell_type": "code",
   "execution_count": 24,
   "metadata": {},
   "outputs": [
    {
     "data": {
      "text/html": [
       "<div><style>\n",
       ".dataframe > thead > tr,\n",
       ".dataframe > tbody > tr {\n",
       "  text-align: right;\n",
       "  white-space: pre-wrap;\n",
       "}\n",
       "</style>\n",
       "<small>shape: (5, 2)</small><table border=\"1\" class=\"dataframe\"><thead><tr><th>colunas</th><th>Quantidade de valores nulos</th></tr><tr><td>str</td><td>u32</td></tr></thead><tbody><tr><td>&quot;order_id&quot;</td><td>0</td></tr><tr><td>&quot;payment_sequential&quot;</td><td>0</td></tr><tr><td>&quot;payment_type&quot;</td><td>0</td></tr><tr><td>&quot;payment_installments&quot;</td><td>0</td></tr><tr><td>&quot;payment_value&quot;</td><td>0</td></tr></tbody></table></div>"
      ],
      "text/plain": [
       "shape: (5, 2)\n",
       "┌──────────────────────┬─────────────────────────────┐\n",
       "│ colunas              ┆ Quantidade de valores nulos │\n",
       "│ ---                  ┆ ---                         │\n",
       "│ str                  ┆ u32                         │\n",
       "╞══════════════════════╪═════════════════════════════╡\n",
       "│ order_id             ┆ 0                           │\n",
       "│ payment_sequential   ┆ 0                           │\n",
       "│ payment_type         ┆ 0                           │\n",
       "│ payment_installments ┆ 0                           │\n",
       "│ payment_value        ┆ 0                           │\n",
       "└──────────────────────┴─────────────────────────────┘"
      ]
     },
     "execution_count": 24,
     "metadata": {},
     "output_type": "execute_result"
    }
   ],
   "source": [
    "payments.select(\n",
    "    pl.all().null_count()\n",
    ").transpose(\n",
    "    include_header=True,\n",
    "    header_name ='colunas',\n",
    "    column_names=['Quantidade de valores nulos']\n",
    ")"
   ]
  },
  {
   "cell_type": "code",
   "execution_count": 25,
   "metadata": {},
   "outputs": [
    {
     "data": {
      "text/html": [
       "<div><style>\n",
       ".dataframe > thead > tr,\n",
       ".dataframe > tbody > tr {\n",
       "  text-align: right;\n",
       "  white-space: pre-wrap;\n",
       "}\n",
       "</style>\n",
       "<small>shape: (5, 2)</small><table border=\"1\" class=\"dataframe\"><thead><tr><th>colunas</th><th>Valores Únicos</th></tr><tr><td>str</td><td>u32</td></tr></thead><tbody><tr><td>&quot;order_id&quot;</td><td>99440</td></tr><tr><td>&quot;payment_sequential&quot;</td><td>29</td></tr><tr><td>&quot;payment_type&quot;</td><td>5</td></tr><tr><td>&quot;payment_installments&quot;</td><td>24</td></tr><tr><td>&quot;payment_value&quot;</td><td>29077</td></tr></tbody></table></div>"
      ],
      "text/plain": [
       "shape: (5, 2)\n",
       "┌──────────────────────┬────────────────┐\n",
       "│ colunas              ┆ Valores Únicos │\n",
       "│ ---                  ┆ ---            │\n",
       "│ str                  ┆ u32            │\n",
       "╞══════════════════════╪════════════════╡\n",
       "│ order_id             ┆ 99440          │\n",
       "│ payment_sequential   ┆ 29             │\n",
       "│ payment_type         ┆ 5              │\n",
       "│ payment_installments ┆ 24             │\n",
       "│ payment_value        ┆ 29077          │\n",
       "└──────────────────────┴────────────────┘"
      ]
     },
     "execution_count": 25,
     "metadata": {},
     "output_type": "execute_result"
    }
   ],
   "source": [
    "payments\\\n",
    "    .select(pl.all().n_unique())\\\n",
    "    .transpose(\n",
    "        include_header=True,\n",
    "        header_name='colunas',\n",
    "        column_names=['Valores Únicos']\n",
    "    )"
   ]
  },
  {
   "cell_type": "code",
   "execution_count": 26,
   "metadata": {},
   "outputs": [
    {
     "data": {
      "text/html": [
       "<div><style>\n",
       ".dataframe > thead > tr,\n",
       ".dataframe > tbody > tr {\n",
       "  text-align: right;\n",
       "  white-space: pre-wrap;\n",
       "}\n",
       "</style>\n",
       "<small>shape: (5, 2)</small><table border=\"1\" class=\"dataframe\"><thead><tr><th>by</th><th>len</th></tr><tr><td>str</td><td>u32</td></tr></thead><tbody><tr><td>&quot;not_defined&quot;</td><td>3</td></tr><tr><td>&quot;debit_card&quot;</td><td>1529</td></tr><tr><td>&quot;voucher&quot;</td><td>5775</td></tr><tr><td>&quot;boleto&quot;</td><td>19784</td></tr><tr><td>&quot;credit_card&quot;</td><td>76795</td></tr></tbody></table></div>"
      ],
      "text/plain": [
       "shape: (5, 2)\n",
       "┌─────────────┬───────┐\n",
       "│ by          ┆ len   │\n",
       "│ ---         ┆ ---   │\n",
       "│ str         ┆ u32   │\n",
       "╞═════════════╪═══════╡\n",
       "│ not_defined ┆ 3     │\n",
       "│ debit_card  ┆ 1529  │\n",
       "│ voucher     ┆ 5775  │\n",
       "│ boleto      ┆ 19784 │\n",
       "│ credit_card ┆ 76795 │\n",
       "└─────────────┴───────┘"
      ]
     },
     "execution_count": 26,
     "metadata": {},
     "output_type": "execute_result"
    }
   ],
   "source": [
    "payments\\\n",
    "    .select(pl.col('payment_type'))\\\n",
    "    .group_by(by=pl.col('payment_type'))\\\n",
    "    .len()\\\n",
    "    .sort(by=pl.col('len'))"
   ]
  },
  {
   "cell_type": "markdown",
   "metadata": {},
   "source": [
    "> Não definido será transformando para nada e removido"
   ]
  },
  {
   "cell_type": "code",
   "execution_count": 27,
   "metadata": {},
   "outputs": [],
   "source": [
    "payments = payments\\\n",
    "    .with_columns(\n",
    "        pl.when(pl.col('payment_type')=='not_defined')\\\n",
    "          .then(pl.lit(None))\\\n",
    "          .otherwise(pl.col('payment_type')).alias(name='payment_type')\n",
    "    )"
   ]
  },
  {
   "cell_type": "code",
   "execution_count": 28,
   "metadata": {},
   "outputs": [
    {
     "data": {
      "text/html": [
       "<div><style>\n",
       ".dataframe > thead > tr,\n",
       ".dataframe > tbody > tr {\n",
       "  text-align: right;\n",
       "  white-space: pre-wrap;\n",
       "}\n",
       "</style>\n",
       "<small>shape: (5, 2)</small><table border=\"1\" class=\"dataframe\"><thead><tr><th>colunas</th><th>Quantidade de valores nulos</th></tr><tr><td>str</td><td>u32</td></tr></thead><tbody><tr><td>&quot;order_id&quot;</td><td>0</td></tr><tr><td>&quot;payment_sequential&quot;</td><td>0</td></tr><tr><td>&quot;payment_type&quot;</td><td>3</td></tr><tr><td>&quot;payment_installments&quot;</td><td>0</td></tr><tr><td>&quot;payment_value&quot;</td><td>0</td></tr></tbody></table></div>"
      ],
      "text/plain": [
       "shape: (5, 2)\n",
       "┌──────────────────────┬─────────────────────────────┐\n",
       "│ colunas              ┆ Quantidade de valores nulos │\n",
       "│ ---                  ┆ ---                         │\n",
       "│ str                  ┆ u32                         │\n",
       "╞══════════════════════╪═════════════════════════════╡\n",
       "│ order_id             ┆ 0                           │\n",
       "│ payment_sequential   ┆ 0                           │\n",
       "│ payment_type         ┆ 3                           │\n",
       "│ payment_installments ┆ 0                           │\n",
       "│ payment_value        ┆ 0                           │\n",
       "└──────────────────────┴─────────────────────────────┘"
      ]
     },
     "execution_count": 28,
     "metadata": {},
     "output_type": "execute_result"
    }
   ],
   "source": [
    "payments.select(\n",
    "    pl.all().null_count()\n",
    ").transpose(\n",
    "    include_header=True,\n",
    "    header_name ='colunas',\n",
    "    column_names=['Quantidade de valores nulos']\n",
    ")"
   ]
  },
  {
   "cell_type": "code",
   "execution_count": 29,
   "metadata": {},
   "outputs": [
    {
     "data": {
      "text/html": [
       "<div><style>\n",
       ".dataframe > thead > tr,\n",
       ".dataframe > tbody > tr {\n",
       "  text-align: right;\n",
       "  white-space: pre-wrap;\n",
       "}\n",
       "</style>\n",
       "<small>shape: (3, 5)</small><table border=\"1\" class=\"dataframe\"><thead><tr><th>order_id</th><th>payment_sequential</th><th>payment_type</th><th>payment_installments</th><th>payment_value</th></tr><tr><td>str</td><td>str</td><td>str</td><td>str</td><td>str</td></tr></thead><tbody><tr><td>&quot;b81ef226f3fe1789b1e8b2acac839d…</td><td>&quot;1&quot;</td><td>&quot;credit_card&quot;</td><td>&quot;8&quot;</td><td>&quot;99.33&quot;</td></tr><tr><td>&quot;a9810da82917af2d9aefd1278f1dcf…</td><td>&quot;1&quot;</td><td>&quot;credit_card&quot;</td><td>&quot;1&quot;</td><td>&quot;24.39&quot;</td></tr><tr><td>&quot;25e8ea4e93396b6fa0d3dd708e76c1…</td><td>&quot;1&quot;</td><td>&quot;credit_card&quot;</td><td>&quot;1&quot;</td><td>&quot;65.71&quot;</td></tr></tbody></table></div>"
      ],
      "text/plain": [
       "shape: (3, 5)\n",
       "┌───────────────────────┬────────────────────┬──────────────┬──────────────────────┬───────────────┐\n",
       "│ order_id              ┆ payment_sequential ┆ payment_type ┆ payment_installments ┆ payment_value │\n",
       "│ ---                   ┆ ---                ┆ ---          ┆ ---                  ┆ ---           │\n",
       "│ str                   ┆ str                ┆ str          ┆ str                  ┆ str           │\n",
       "╞═══════════════════════╪════════════════════╪══════════════╪══════════════════════╪═══════════════╡\n",
       "│ b81ef226f3fe1789b1e8b ┆ 1                  ┆ credit_card  ┆ 8                    ┆ 99.33         │\n",
       "│ 2acac839d…            ┆                    ┆              ┆                      ┆               │\n",
       "│ a9810da82917af2d9aefd ┆ 1                  ┆ credit_card  ┆ 1                    ┆ 24.39         │\n",
       "│ 1278f1dcf…            ┆                    ┆              ┆                      ┆               │\n",
       "│ 25e8ea4e93396b6fa0d3d ┆ 1                  ┆ credit_card  ┆ 1                    ┆ 65.71         │\n",
       "│ d708e76c1…            ┆                    ┆              ┆                      ┆               │\n",
       "└───────────────────────┴────────────────────┴──────────────┴──────────────────────┴───────────────┘"
      ]
     },
     "execution_count": 29,
     "metadata": {},
     "output_type": "execute_result"
    }
   ],
   "source": [
    "payments.head(3)"
   ]
  },
  {
   "cell_type": "code",
   "execution_count": 30,
   "metadata": {},
   "outputs": [],
   "source": [
    "payments = payments.with_columns(\n",
    "    pl.when(pl.col('payment_type') == 'credit_card')\\\n",
    "        .then(pl.lit('Cartão de Crédito'))\\\n",
    "        .when(pl.col('payment_type') == 'boleto')\\\n",
    "        .then(pl.lit('Boleto'))\\\n",
    "        .when(pl.col('payment_type')=='debit_card')\\\n",
    "        .then(pl.lit('Cartão de debito'))\\\n",
    "        .otherwise(pl.col('payment_type'))\\\n",
    "        .alias('payment_type')\n",
    ")"
   ]
  },
  {
   "cell_type": "code",
   "execution_count": 31,
   "metadata": {},
   "outputs": [
    {
     "data": {
      "text/html": [
       "<div><style>\n",
       ".dataframe > thead > tr,\n",
       ".dataframe > tbody > tr {\n",
       "  text-align: right;\n",
       "  white-space: pre-wrap;\n",
       "}\n",
       "</style>\n",
       "<small>shape: (5, 2)</small><table border=\"1\" class=\"dataframe\"><thead><tr><th>by</th><th>len</th></tr><tr><td>str</td><td>u32</td></tr></thead><tbody><tr><td>null</td><td>3</td></tr><tr><td>&quot;Cartão de debito&quot;</td><td>1529</td></tr><tr><td>&quot;voucher&quot;</td><td>5775</td></tr><tr><td>&quot;Boleto&quot;</td><td>19784</td></tr><tr><td>&quot;Cartão de Crédito&quot;</td><td>76795</td></tr></tbody></table></div>"
      ],
      "text/plain": [
       "shape: (5, 2)\n",
       "┌───────────────────┬───────┐\n",
       "│ by                ┆ len   │\n",
       "│ ---               ┆ ---   │\n",
       "│ str               ┆ u32   │\n",
       "╞═══════════════════╪═══════╡\n",
       "│ null              ┆ 3     │\n",
       "│ Cartão de debito  ┆ 1529  │\n",
       "│ voucher           ┆ 5775  │\n",
       "│ Boleto            ┆ 19784 │\n",
       "│ Cartão de Crédito ┆ 76795 │\n",
       "└───────────────────┴───────┘"
      ]
     },
     "execution_count": 31,
     "metadata": {},
     "output_type": "execute_result"
    }
   ],
   "source": [
    "payments\\\n",
    "    .select(pl.col('payment_type'))\\\n",
    "    .group_by(by=pl.col('payment_type'))\\\n",
    "    .len()\\\n",
    "    .sort(by=pl.col('len'))"
   ]
  },
  {
   "cell_type": "code",
   "execution_count": 32,
   "metadata": {},
   "outputs": [],
   "source": [
    "payments.to_pandas().dropna().to_csv('dataset_limpo_para_analise/olist_order_payments.csv', index=False)"
   ]
  },
  {
   "cell_type": "markdown",
   "metadata": {},
   "source": [
    "&nbsp;"
   ]
  },
  {
   "cell_type": "markdown",
   "metadata": {},
   "source": [
    "#### limpeza para Reviews(olist_Reviews)"
   ]
  },
  {
   "cell_type": "code",
   "execution_count": 33,
   "metadata": {},
   "outputs": [],
   "source": [
    "reviews = pl.read_csv(\n",
    "    source='dataset/olist_order_reviews_dataset.csv', infer_schema=False\n",
    ")"
   ]
  },
  {
   "cell_type": "code",
   "execution_count": 34,
   "metadata": {},
   "outputs": [
    {
     "data": {
      "text/html": [
       "<div><style>\n",
       ".dataframe > thead > tr,\n",
       ".dataframe > tbody > tr {\n",
       "  text-align: right;\n",
       "  white-space: pre-wrap;\n",
       "}\n",
       "</style>\n",
       "<small>shape: (7, 2)</small><table border=\"1\" class=\"dataframe\"><thead><tr><th>colunas</th><th>Quantidade de valores nulos</th></tr><tr><td>str</td><td>u32</td></tr></thead><tbody><tr><td>&quot;review_id&quot;</td><td>0</td></tr><tr><td>&quot;order_id&quot;</td><td>0</td></tr><tr><td>&quot;review_score&quot;</td><td>0</td></tr><tr><td>&quot;review_comment_title&quot;</td><td>87656</td></tr><tr><td>&quot;review_comment_message&quot;</td><td>58247</td></tr><tr><td>&quot;review_creation_date&quot;</td><td>0</td></tr><tr><td>&quot;review_answer_timestamp&quot;</td><td>0</td></tr></tbody></table></div>"
      ],
      "text/plain": [
       "shape: (7, 2)\n",
       "┌─────────────────────────┬─────────────────────────────┐\n",
       "│ colunas                 ┆ Quantidade de valores nulos │\n",
       "│ ---                     ┆ ---                         │\n",
       "│ str                     ┆ u32                         │\n",
       "╞═════════════════════════╪═════════════════════════════╡\n",
       "│ review_id               ┆ 0                           │\n",
       "│ order_id                ┆ 0                           │\n",
       "│ review_score            ┆ 0                           │\n",
       "│ review_comment_title    ┆ 87656                       │\n",
       "│ review_comment_message  ┆ 58247                       │\n",
       "│ review_creation_date    ┆ 0                           │\n",
       "│ review_answer_timestamp ┆ 0                           │\n",
       "└─────────────────────────┴─────────────────────────────┘"
      ]
     },
     "execution_count": 34,
     "metadata": {},
     "output_type": "execute_result"
    }
   ],
   "source": [
    "reviews\\\n",
    "    .select(\n",
    "        pl.all().null_count()\n",
    "        )\\\n",
    "    .transpose(\n",
    "        include_header=True,\n",
    "        header_name ='colunas',\n",
    "        column_names=['Quantidade de valores nulos']\n",
    "    )"
   ]
  },
  {
   "cell_type": "code",
   "execution_count": 35,
   "metadata": {},
   "outputs": [
    {
     "data": {
      "text/plain": [
       "['review_id',\n",
       " 'order_id',\n",
       " 'review_score',\n",
       " 'review_comment_title',\n",
       " 'review_comment_message',\n",
       " 'review_creation_date',\n",
       " 'review_answer_timestamp']"
      ]
     },
     "execution_count": 35,
     "metadata": {},
     "output_type": "execute_result"
    }
   ],
   "source": [
    "reviews.columns"
   ]
  },
  {
   "cell_type": "code",
   "execution_count": 36,
   "metadata": {},
   "outputs": [],
   "source": [
    "reviews = reviews.with_columns(\n",
    "    pl.col('review_comment_title').fill_null(\"Não colocou titulo\")\n",
    ")"
   ]
  },
  {
   "cell_type": "code",
   "execution_count": 37,
   "metadata": {},
   "outputs": [],
   "source": [
    "reviews = reviews.with_columns(\n",
    "    pl.col('review_comment_message').fill_null(\"Não comentou\")\n",
    ")"
   ]
  },
  {
   "cell_type": "code",
   "execution_count": 38,
   "metadata": {},
   "outputs": [
    {
     "data": {
      "text/html": [
       "<div><style>\n",
       ".dataframe > thead > tr,\n",
       ".dataframe > tbody > tr {\n",
       "  text-align: right;\n",
       "  white-space: pre-wrap;\n",
       "}\n",
       "</style>\n",
       "<small>shape: (7, 2)</small><table border=\"1\" class=\"dataframe\"><thead><tr><th>colunas</th><th>Quantidade de valores nulos</th></tr><tr><td>str</td><td>u32</td></tr></thead><tbody><tr><td>&quot;review_id&quot;</td><td>0</td></tr><tr><td>&quot;order_id&quot;</td><td>0</td></tr><tr><td>&quot;review_score&quot;</td><td>0</td></tr><tr><td>&quot;review_comment_title&quot;</td><td>0</td></tr><tr><td>&quot;review_comment_message&quot;</td><td>0</td></tr><tr><td>&quot;review_creation_date&quot;</td><td>0</td></tr><tr><td>&quot;review_answer_timestamp&quot;</td><td>0</td></tr></tbody></table></div>"
      ],
      "text/plain": [
       "shape: (7, 2)\n",
       "┌─────────────────────────┬─────────────────────────────┐\n",
       "│ colunas                 ┆ Quantidade de valores nulos │\n",
       "│ ---                     ┆ ---                         │\n",
       "│ str                     ┆ u32                         │\n",
       "╞═════════════════════════╪═════════════════════════════╡\n",
       "│ review_id               ┆ 0                           │\n",
       "│ order_id                ┆ 0                           │\n",
       "│ review_score            ┆ 0                           │\n",
       "│ review_comment_title    ┆ 0                           │\n",
       "│ review_comment_message  ┆ 0                           │\n",
       "│ review_creation_date    ┆ 0                           │\n",
       "│ review_answer_timestamp ┆ 0                           │\n",
       "└─────────────────────────┴─────────────────────────────┘"
      ]
     },
     "execution_count": 38,
     "metadata": {},
     "output_type": "execute_result"
    }
   ],
   "source": [
    "reviews\\\n",
    "    .select(\n",
    "        pl.all().null_count()\n",
    "        )\\\n",
    "    .transpose(\n",
    "        include_header=True,\n",
    "        header_name ='colunas',\n",
    "        column_names=['Quantidade de valores nulos']\n",
    "    )"
   ]
  },
  {
   "cell_type": "code",
   "execution_count": 39,
   "metadata": {},
   "outputs": [],
   "source": [
    "reviews.write_csv(\"dataset_limpo_para_analise/olist_order_review.csv\")"
   ]
  },
  {
   "cell_type": "markdown",
   "metadata": {},
   "source": [
    "&nbsp;"
   ]
  },
  {
   "cell_type": "markdown",
   "metadata": {},
   "source": [
    "#### Limpeza para sellers(olist_sellers)"
   ]
  },
  {
   "cell_type": "code",
   "execution_count": 40,
   "metadata": {},
   "outputs": [
    {
     "data": {
      "text/html": [
       "<div><style>\n",
       ".dataframe > thead > tr,\n",
       ".dataframe > tbody > tr {\n",
       "  text-align: right;\n",
       "  white-space: pre-wrap;\n",
       "}\n",
       "</style>\n",
       "<small>shape: (2, 4)</small><table border=\"1\" class=\"dataframe\"><thead><tr><th>seller_id</th><th>seller_zip_code_prefix</th><th>seller_city</th><th>seller_state</th></tr><tr><td>str</td><td>str</td><td>str</td><td>str</td></tr></thead><tbody><tr><td>&quot;3442f8959a84dea7ee197c632cb2df…</td><td>&quot;13023&quot;</td><td>&quot;campinas&quot;</td><td>&quot;SP&quot;</td></tr><tr><td>&quot;d1b65fc7debc3361ea86b5f14c68d2…</td><td>&quot;13844&quot;</td><td>&quot;mogi guacu&quot;</td><td>&quot;SP&quot;</td></tr></tbody></table></div>"
      ],
      "text/plain": [
       "shape: (2, 4)\n",
       "┌─────────────────────────────────┬────────────────────────┬─────────────┬──────────────┐\n",
       "│ seller_id                       ┆ seller_zip_code_prefix ┆ seller_city ┆ seller_state │\n",
       "│ ---                             ┆ ---                    ┆ ---         ┆ ---          │\n",
       "│ str                             ┆ str                    ┆ str         ┆ str          │\n",
       "╞═════════════════════════════════╪════════════════════════╪═════════════╪══════════════╡\n",
       "│ 3442f8959a84dea7ee197c632cb2df… ┆ 13023                  ┆ campinas    ┆ SP           │\n",
       "│ d1b65fc7debc3361ea86b5f14c68d2… ┆ 13844                  ┆ mogi guacu  ┆ SP           │\n",
       "└─────────────────────────────────┴────────────────────────┴─────────────┴──────────────┘"
      ]
     },
     "execution_count": 40,
     "metadata": {},
     "output_type": "execute_result"
    }
   ],
   "source": [
    "sellers = pl.read_csv(\n",
    "    \"dataset/olist_sellers_dataset.csv\", infer_schema=False\n",
    ")\n",
    "sellers.head(2)"
   ]
  },
  {
   "cell_type": "code",
   "execution_count": 41,
   "metadata": {},
   "outputs": [
    {
     "data": {
      "text/html": [
       "<div><style>\n",
       ".dataframe > thead > tr,\n",
       ".dataframe > tbody > tr {\n",
       "  text-align: right;\n",
       "  white-space: pre-wrap;\n",
       "}\n",
       "</style>\n",
       "<small>shape: (4, 2)</small><table border=\"1\" class=\"dataframe\"><thead><tr><th>Colunas</th><th>Quantidade de valores nulos</th></tr><tr><td>str</td><td>u32</td></tr></thead><tbody><tr><td>&quot;seller_id&quot;</td><td>0</td></tr><tr><td>&quot;seller_zip_code_prefix&quot;</td><td>0</td></tr><tr><td>&quot;seller_city&quot;</td><td>0</td></tr><tr><td>&quot;seller_state&quot;</td><td>0</td></tr></tbody></table></div>"
      ],
      "text/plain": [
       "shape: (4, 2)\n",
       "┌────────────────────────┬─────────────────────────────┐\n",
       "│ Colunas                ┆ Quantidade de valores nulos │\n",
       "│ ---                    ┆ ---                         │\n",
       "│ str                    ┆ u32                         │\n",
       "╞════════════════════════╪═════════════════════════════╡\n",
       "│ seller_id              ┆ 0                           │\n",
       "│ seller_zip_code_prefix ┆ 0                           │\n",
       "│ seller_city            ┆ 0                           │\n",
       "│ seller_state           ┆ 0                           │\n",
       "└────────────────────────┴─────────────────────────────┘"
      ]
     },
     "execution_count": 41,
     "metadata": {},
     "output_type": "execute_result"
    }
   ],
   "source": [
    "sellers.select(\n",
    "    pl.all().null_count()\n",
    ").transpose(include_header=True, \n",
    "            header_name=\"Colunas\", \n",
    "            column_names=[\"Quantidade de valores nulos\"])"
   ]
  },
  {
   "cell_type": "markdown",
   "metadata": {},
   "source": [
    "> Não há valores nulos no conjunto de dos"
   ]
  },
  {
   "cell_type": "code",
   "execution_count": 42,
   "metadata": {},
   "outputs": [
    {
     "data": {
      "text/html": [
       "<div><style>\n",
       ".dataframe > thead > tr,\n",
       ".dataframe > tbody > tr {\n",
       "  text-align: right;\n",
       "  white-space: pre-wrap;\n",
       "}\n",
       "</style>\n",
       "<small>shape: (2, 4)</small><table border=\"1\" class=\"dataframe\"><thead><tr><th>seller_id</th><th>seller_zip_code_prefix</th><th>seller_city</th><th>seller_state</th></tr><tr><td>str</td><td>str</td><td>str</td><td>str</td></tr></thead><tbody><tr><td>&quot;3442f8959a84dea7ee197c632cb2df…</td><td>&quot;13023&quot;</td><td>&quot;Campinas&quot;</td><td>&quot;SP&quot;</td></tr><tr><td>&quot;d1b65fc7debc3361ea86b5f14c68d2…</td><td>&quot;13844&quot;</td><td>&quot;Mogi Guacu&quot;</td><td>&quot;SP&quot;</td></tr></tbody></table></div>"
      ],
      "text/plain": [
       "shape: (2, 4)\n",
       "┌─────────────────────────────────┬────────────────────────┬─────────────┬──────────────┐\n",
       "│ seller_id                       ┆ seller_zip_code_prefix ┆ seller_city ┆ seller_state │\n",
       "│ ---                             ┆ ---                    ┆ ---         ┆ ---          │\n",
       "│ str                             ┆ str                    ┆ str         ┆ str          │\n",
       "╞═════════════════════════════════╪════════════════════════╪═════════════╪══════════════╡\n",
       "│ 3442f8959a84dea7ee197c632cb2df… ┆ 13023                  ┆ Campinas    ┆ SP           │\n",
       "│ d1b65fc7debc3361ea86b5f14c68d2… ┆ 13844                  ┆ Mogi Guacu  ┆ SP           │\n",
       "└─────────────────────────────────┴────────────────────────┴─────────────┴──────────────┘"
      ]
     },
     "execution_count": 42,
     "metadata": {},
     "output_type": "execute_result"
    }
   ],
   "source": [
    "# Modificando o nome das cidades para o tipo de titulo\n",
    "sellers = sellers.with_columns(\n",
    "    pl.col(\"seller_city\").str.to_titlecase()\n",
    ")\n",
    "sellers.head(2)"
   ]
  },
  {
   "cell_type": "code",
   "execution_count": 43,
   "metadata": {},
   "outputs": [],
   "source": [
    "sellers.write_csv(\n",
    "    \"dataset_limpo_para_analise/olist_sellers.csv\"\n",
    ")"
   ]
  },
  {
   "cell_type": "markdown",
   "metadata": {},
   "source": [
    "&nbsp;"
   ]
  },
  {
   "cell_type": "markdown",
   "metadata": {},
   "source": [
    "#### limpeza para products(olist_product)"
   ]
  },
  {
   "cell_type": "code",
   "execution_count": 44,
   "metadata": {},
   "outputs": [
    {
     "data": {
      "text/html": [
       "<div><style>\n",
       ".dataframe > thead > tr,\n",
       ".dataframe > tbody > tr {\n",
       "  text-align: right;\n",
       "  white-space: pre-wrap;\n",
       "}\n",
       "</style>\n",
       "<small>shape: (2, 9)</small><table border=\"1\" class=\"dataframe\"><thead><tr><th>product_id</th><th>product_category_name</th><th>product_name_lenght</th><th>product_description_lenght</th><th>product_photos_qty</th><th>product_weight_g</th><th>product_length_cm</th><th>product_height_cm</th><th>product_width_cm</th></tr><tr><td>str</td><td>str</td><td>i64</td><td>i64</td><td>i64</td><td>i64</td><td>i64</td><td>i64</td><td>i64</td></tr></thead><tbody><tr><td>&quot;1e9e8ef04dbcff4541ed26657ea517…</td><td>&quot;perfumaria&quot;</td><td>40</td><td>287</td><td>1</td><td>225</td><td>16</td><td>10</td><td>14</td></tr><tr><td>&quot;3aa071139cb16b67ca9e5dea641aaa…</td><td>&quot;artes&quot;</td><td>44</td><td>276</td><td>1</td><td>1000</td><td>30</td><td>18</td><td>20</td></tr></tbody></table></div>"
      ],
      "text/plain": [
       "shape: (2, 9)\n",
       "┌───────────┬───────────┬───────────┬───────────┬───┬───────────┬───────────┬───────────┬──────────┐\n",
       "│ product_i ┆ product_c ┆ product_n ┆ product_d ┆ … ┆ product_w ┆ product_l ┆ product_h ┆ product_ │\n",
       "│ d         ┆ ategory_n ┆ ame_lengh ┆ escriptio ┆   ┆ eight_g   ┆ ength_cm  ┆ eight_cm  ┆ width_cm │\n",
       "│ ---       ┆ ame       ┆ t         ┆ n_lenght  ┆   ┆ ---       ┆ ---       ┆ ---       ┆ ---      │\n",
       "│ str       ┆ ---       ┆ ---       ┆ ---       ┆   ┆ i64       ┆ i64       ┆ i64       ┆ i64      │\n",
       "│           ┆ str       ┆ i64       ┆ i64       ┆   ┆           ┆           ┆           ┆          │\n",
       "╞═══════════╪═══════════╪═══════════╪═══════════╪═══╪═══════════╪═══════════╪═══════════╪══════════╡\n",
       "│ 1e9e8ef04 ┆ perfumari ┆ 40        ┆ 287       ┆ … ┆ 225       ┆ 16        ┆ 10        ┆ 14       │\n",
       "│ dbcff4541 ┆ a         ┆           ┆           ┆   ┆           ┆           ┆           ┆          │\n",
       "│ ed26657ea ┆           ┆           ┆           ┆   ┆           ┆           ┆           ┆          │\n",
       "│ 517…      ┆           ┆           ┆           ┆   ┆           ┆           ┆           ┆          │\n",
       "│ 3aa071139 ┆ artes     ┆ 44        ┆ 276       ┆ … ┆ 1000      ┆ 30        ┆ 18        ┆ 20       │\n",
       "│ cb16b67ca ┆           ┆           ┆           ┆   ┆           ┆           ┆           ┆          │\n",
       "│ 9e5dea641 ┆           ┆           ┆           ┆   ┆           ┆           ┆           ┆          │\n",
       "│ aaa…      ┆           ┆           ┆           ┆   ┆           ┆           ┆           ┆          │\n",
       "└───────────┴───────────┴───────────┴───────────┴───┴───────────┴───────────┴───────────┴──────────┘"
      ]
     },
     "execution_count": 44,
     "metadata": {},
     "output_type": "execute_result"
    }
   ],
   "source": [
    "product = pl.read_csv(\n",
    "    source = \"dataset/olist_products_dataset.csv\"\n",
    ")\n",
    "product.head(2)"
   ]
  },
  {
   "cell_type": "code",
   "execution_count": 45,
   "metadata": {},
   "outputs": [
    {
     "data": {
      "text/html": [
       "<div><style>\n",
       ".dataframe > thead > tr,\n",
       ".dataframe > tbody > tr {\n",
       "  text-align: right;\n",
       "  white-space: pre-wrap;\n",
       "}\n",
       "</style>\n",
       "<small>shape: (9, 2)</small><table border=\"1\" class=\"dataframe\"><thead><tr><th>column</th><th>column_0</th></tr><tr><td>str</td><td>u32</td></tr></thead><tbody><tr><td>&quot;product_id&quot;</td><td>0</td></tr><tr><td>&quot;product_category_name&quot;</td><td>610</td></tr><tr><td>&quot;product_name_lenght&quot;</td><td>610</td></tr><tr><td>&quot;product_description_lenght&quot;</td><td>610</td></tr><tr><td>&quot;product_photos_qty&quot;</td><td>610</td></tr><tr><td>&quot;product_weight_g&quot;</td><td>2</td></tr><tr><td>&quot;product_length_cm&quot;</td><td>2</td></tr><tr><td>&quot;product_height_cm&quot;</td><td>2</td></tr><tr><td>&quot;product_width_cm&quot;</td><td>2</td></tr></tbody></table></div>"
      ],
      "text/plain": [
       "shape: (9, 2)\n",
       "┌────────────────────────────┬──────────┐\n",
       "│ column                     ┆ column_0 │\n",
       "│ ---                        ┆ ---      │\n",
       "│ str                        ┆ u32      │\n",
       "╞════════════════════════════╪══════════╡\n",
       "│ product_id                 ┆ 0        │\n",
       "│ product_category_name      ┆ 610      │\n",
       "│ product_name_lenght        ┆ 610      │\n",
       "│ product_description_lenght ┆ 610      │\n",
       "│ product_photos_qty         ┆ 610      │\n",
       "│ product_weight_g           ┆ 2        │\n",
       "│ product_length_cm          ┆ 2        │\n",
       "│ product_height_cm          ┆ 2        │\n",
       "│ product_width_cm           ┆ 2        │\n",
       "└────────────────────────────┴──────────┘"
      ]
     },
     "execution_count": 45,
     "metadata": {},
     "output_type": "execute_result"
    }
   ],
   "source": [
    "product.select(\n",
    "    pl.all().null_count()\n",
    ").transpose(include_header=True)"
   ]
  },
  {
   "cell_type": "code",
   "execution_count": 46,
   "metadata": {},
   "outputs": [
    {
     "data": {
      "text/html": [
       "<div><style>\n",
       ".dataframe > thead > tr,\n",
       ".dataframe > tbody > tr {\n",
       "  text-align: right;\n",
       "  white-space: pre-wrap;\n",
       "}\n",
       "</style>\n",
       "<small>shape: (2, 2)</small><table border=\"1\" class=\"dataframe\"><thead><tr><th>product_category_name</th><th>product_category_name_english</th></tr><tr><td>str</td><td>str</td></tr></thead><tbody><tr><td>&quot;beleza_saude&quot;</td><td>&quot;health_beauty&quot;</td></tr><tr><td>&quot;informatica_acessorios&quot;</td><td>&quot;computers_accessories&quot;</td></tr></tbody></table></div>"
      ],
      "text/plain": [
       "shape: (2, 2)\n",
       "┌────────────────────────┬───────────────────────────────┐\n",
       "│ product_category_name  ┆ product_category_name_english │\n",
       "│ ---                    ┆ ---                           │\n",
       "│ str                    ┆ str                           │\n",
       "╞════════════════════════╪═══════════════════════════════╡\n",
       "│ beleza_saude           ┆ health_beauty                 │\n",
       "│ informatica_acessorios ┆ computers_accessories         │\n",
       "└────────────────────────┴───────────────────────────────┘"
      ]
     },
     "execution_count": 46,
     "metadata": {},
     "output_type": "execute_result"
    }
   ],
   "source": [
    "product_name = pl.read_csv(\n",
    "    source = \"dataset/product_category_name_translation.csv\"\n",
    ")\n",
    "product_name.head(2)"
   ]
  },
  {
   "cell_type": "code",
   "execution_count": 47,
   "metadata": {},
   "outputs": [],
   "source": [
    "product_name = product_name.with_columns(\n",
    "    pl.col(\"product_category_name\")\\\n",
    "        .str.replace_all('_',' ')\\\n",
    "        .str.to_titlecase()\n",
    ")"
   ]
  },
  {
   "cell_type": "code",
   "execution_count": 48,
   "metadata": {},
   "outputs": [],
   "source": [
    "product_name.write_csv(\n",
    "    \"dataset_limpo_para_analise/olist_products_name.csv\" \n",
    ")"
   ]
  },
  {
   "cell_type": "markdown",
   "metadata": {},
   "source": [
    "#### "
   ]
  },
  {
   "cell_type": "markdown",
   "metadata": {},
   "source": [
    "#### limpeza para location(olist_geolocatoin)"
   ]
  },
  {
   "cell_type": "code",
   "execution_count": 49,
   "metadata": {},
   "outputs": [],
   "source": [
    "geolocation = pl.read_csv(\n",
    "    source = \"dataset/olist_geolocation_dataset.csv\",\n",
    "    infer_schema=False\n",
    ")"
   ]
  },
  {
   "cell_type": "code",
   "execution_count": 50,
   "metadata": {},
   "outputs": [
    {
     "data": {
      "text/plain": [
       "['santa barbara do leste',\n",
       " 'lauro de freitas',\n",
       " 'mariapolis',\n",
       " 'brejinho de nazare',\n",
       " 'brasopolis',\n",
       " 'santa cruz do xingu',\n",
       " 'piloezinhos',\n",
       " 'araçoiaba',\n",
       " 'tangará da serra',\n",
       " 'baixa grande do ribeiro',\n",
       " 'itaipulândia',\n",
       " 'campinas do piauí',\n",
       " 'taubate',\n",
       " 'sao jose do campestre',\n",
       " 'águas vermelhas',\n",
       " 'sucupira do norte',\n",
       " 'são raimundo das mangabeiras',\n",
       " 'sao sebastiao do uatuma',\n",
       " 'sao jose do ivai',\n",
       " 'canarana',\n",
       " 'guaruja do sul',\n",
       " 'registro',\n",
       " 'guapirama',\n",
       " 'rio do prado',\n",
       " 'cambira',\n",
       " 'são miguel do passa quatro',\n",
       " 'contendas do sincora',\n",
       " 'canapi',\n",
       " 'miguel alves',\n",
       " 'amatura',\n",
       " 'sete de setembro',\n",
       " 'rurópolis',\n",
       " 'paranapoema',\n",
       " 'braganca paulista',\n",
       " 'dom inocencio',\n",
       " 'banabuiu',\n",
       " 'palmeiras de goiás',\n",
       " 'juvenilia',\n",
       " 'orizânia',\n",
       " 'nova esperanca do piria',\n",
       " 'sao francisco da praia',\n",
       " 'conceição do coité',\n",
       " 'avai',\n",
       " 'sinop',\n",
       " 'pereiras',\n",
       " 'passagem dos teixeiras',\n",
       " 'joão neiva',\n",
       " 'baião',\n",
       " 'vieiras',\n",
       " 'medeiros',\n",
       " 'governador dix-sept rosado',\n",
       " 'franca sp',\n",
       " 'boqueirão do piauí',\n",
       " 'manoel emídio',\n",
       " 'paraiso',\n",
       " 'normandia',\n",
       " 'poxoréu',\n",
       " 'renascença',\n",
       " 'guarujá do sul',\n",
       " 'angicos',\n",
       " 'jaguariuna',\n",
       " 'santo antonio',\n",
       " 'ortigueira',\n",
       " 'veredinha',\n",
       " 'cristais',\n",
       " 'marzagao',\n",
       " 'guaicara',\n",
       " 'piquet carneiro',\n",
       " 'quatis',\n",
       " 'nova santa luzia',\n",
       " 'aguiarnópolis',\n",
       " 'barra do ariranha',\n",
       " 'severínia',\n",
       " 'icém',\n",
       " 'sao joaquim do monte',\n",
       " 'mata roma',\n",
       " 'parauna',\n",
       " 'apicum-acu',\n",
       " 'marilândia do sul',\n",
       " 'lajedao',\n",
       " 'santana do piaui',\n",
       " 'muana',\n",
       " 'barao de monte alto',\n",
       " 'turmalina',\n",
       " 'guarai',\n",
       " 'mineiros do tietê',\n",
       " 'gouvelândia',\n",
       " 'itaguaru',\n",
       " 'dois irmãos das missões',\n",
       " 'moreira sales',\n",
       " 'senador jose bento',\n",
       " 'são geraldo do araguaia',\n",
       " 'monte alegre de sergipe',\n",
       " 'fonseca',\n",
       " 'manoel ribas',\n",
       " 'ibiá',\n",
       " 'barrolândia',\n",
       " 'ipuiúna',\n",
       " 'gurinhem',\n",
       " 'seringueiras',\n",
       " 'são tiago',\n",
       " 'cachoeira do arari',\n",
       " 'itacare',\n",
       " 'mirador',\n",
       " 'urupes',\n",
       " 'avaí',\n",
       " 'messias',\n",
       " 'lucrécia',\n",
       " 'barreira',\n",
       " 'alianca do tocantins',\n",
       " 'bequimão',\n",
       " 'inhacora',\n",
       " 'igaraí',\n",
       " 'roberto',\n",
       " 'arroio do meio',\n",
       " 'sete quedas',\n",
       " 'são bernardo do campo',\n",
       " 'monte do carmo',\n",
       " 'carnauba dos dantas',\n",
       " 'santa terezinha do tocantins',\n",
       " 'guaporanga',\n",
       " 'porto vitória',\n",
       " 'paraí',\n",
       " 'cubatao',\n",
       " 'jarinu',\n",
       " 'campo limpo paulista',\n",
       " 'santa maria de jetiba',\n",
       " 'godofredo viana',\n",
       " 'simonesia',\n",
       " 'dores do indaiá',\n",
       " 'nova lacerda',\n",
       " 'congonhas do norte',\n",
       " 'ipora do oeste',\n",
       " 'vitória',\n",
       " 'mirim doce',\n",
       " 'aguas frias',\n",
       " 'macedonia',\n",
       " 'vitorino freire',\n",
       " 'guaraci',\n",
       " 'sao joao d alianca',\n",
       " 'jucas',\n",
       " 'mantenopolis',\n",
       " 'japaraíba',\n",
       " 'joaíma',\n",
       " 'coremas',\n",
       " 'barra do rio azul',\n",
       " 'araçoiaba da serra',\n",
       " 'sao francisco de assis',\n",
       " 'agua doce',\n",
       " 'bertópolis',\n",
       " 'carvalhos',\n",
       " 'ourem',\n",
       " 'manoel urbano',\n",
       " 'perdizes',\n",
       " 'umarizal',\n",
       " 'sao miguel do oeste',\n",
       " 'coronel macedo',\n",
       " 'josé raydan',\n",
       " 'itaú',\n",
       " 'aiuaba',\n",
       " 'nova cantu',\n",
       " 'santana',\n",
       " 'alto garcas',\n",
       " 'coari',\n",
       " 'exu',\n",
       " 'espirito santo do turvo',\n",
       " 'santo estêvão',\n",
       " 'vila nova do piaui',\n",
       " 'caaporã',\n",
       " 'união da serra',\n",
       " 'limoeiro',\n",
       " 'gramado',\n",
       " 'quatá',\n",
       " 'linhares',\n",
       " 'vau-acu',\n",
       " 'cosmopolis',\n",
       " 'diamante do norte',\n",
       " 'bandeirantes do tocantins',\n",
       " 'candido de abreu',\n",
       " 'palmares do sul',\n",
       " 'portalegre',\n",
       " 'santa cruz de monte castelo',\n",
       " 'espinosa',\n",
       " 'balneário barra do sul',\n",
       " 'sao francisco de assis do piaui',\n",
       " 'maristela',\n",
       " 'canaa',\n",
       " 'cotegipe',\n",
       " 'luizlandia do oeste',\n",
       " 'manhuaçu',\n",
       " 'rosario do pontal',\n",
       " 'sao pedro de alcantara',\n",
       " 'nazario',\n",
       " 'santo antonio do amparo',\n",
       " 'sao jose do jacuipe',\n",
       " 'santa bárbara d`oeste',\n",
       " 'correntes',\n",
       " 'santa luzia do cariri',\n",
       " 'deputado irapuan pinheiro',\n",
       " 'candido mota',\n",
       " 'ipupiara',\n",
       " 'sao luiz',\n",
       " 'sao joao do manteninha',\n",
       " 'urucânia',\n",
       " 'chalé',\n",
       " 'guia lopes da laguna',\n",
       " 'serro',\n",
       " 'nova casa verde',\n",
       " 'ipê',\n",
       " 'porteirao',\n",
       " 'canaa dos carajas',\n",
       " 'cachoeira de goiás',\n",
       " 'vila pereira',\n",
       " 'sao leopoldo',\n",
       " 'bom principio',\n",
       " 'alto paraguai',\n",
       " 'flor da serra do sul',\n",
       " 'sao jeronimo da serra',\n",
       " 'mágda',\n",
       " 'santana do jacare',\n",
       " 'almirante tamandare do sul',\n",
       " 'coqueiro baixo',\n",
       " 'cosmorama',\n",
       " 'cajamar',\n",
       " 'lagoa branca',\n",
       " 'sertão santana',\n",
       " 'centenário do sul',\n",
       " 'uniao da serra',\n",
       " 'balneário piçarras',\n",
       " 'morro da garca',\n",
       " 'anapurus',\n",
       " 'ribeirão do pinhal',\n",
       " 'são miguel',\n",
       " 'pirapemas',\n",
       " 'jequie',\n",
       " 'aguas de lindoia',\n",
       " 'altonia',\n",
       " 'são josé do cedro',\n",
       " 'antonio dias',\n",
       " 'porto murtinho',\n",
       " 'são gabriel',\n",
       " 'salvador',\n",
       " 'delfim moreira',\n",
       " 'adelandia',\n",
       " 'gabriel monteiro',\n",
       " 'pompéia',\n",
       " 'una',\n",
       " 'bela cruz',\n",
       " 'palhoça',\n",
       " 'trindade do sul',\n",
       " 'rafael fernandes',\n",
       " 'estrela',\n",
       " 'luís antônio',\n",
       " 'maraba paulista',\n",
       " 'santa rita do ibitipoca',\n",
       " 'pains',\n",
       " 'sao geraldo do baixio',\n",
       " 'fronteira dos vales',\n",
       " 'coelho neto',\n",
       " 'lacerdopolis',\n",
       " 'alvaraes',\n",
       " 'santana do capivari',\n",
       " 'cachoeira do campo',\n",
       " 'santa elvira',\n",
       " 'figueiropolis',\n",
       " 'pontes gestal',\n",
       " 'são joão evangelista',\n",
       " 'campo ere',\n",
       " 'carambei',\n",
       " 'nova america',\n",
       " 'conceicao dos ouros',\n",
       " 'iguaí',\n",
       " 'campo alegre de lourdes, bahia, brasil',\n",
       " 'jandaíra',\n",
       " 'mariana',\n",
       " 'são luís do quitunde',\n",
       " 'igarape grande',\n",
       " 'serrolandia',\n",
       " 'tremedal',\n",
       " 'guaratinga',\n",
       " 'brazlandia',\n",
       " 'jacupiranga',\n",
       " 'sao goncalo do rio preto',\n",
       " 'manari',\n",
       " 'jenipapo de minas',\n",
       " 'campina da lagoa',\n",
       " 'nova veneza',\n",
       " 'timbo',\n",
       " 'guarizinho',\n",
       " 'canguaretama',\n",
       " 'baiao',\n",
       " 'sao domingos',\n",
       " 'são roberto',\n",
       " 'propria',\n",
       " 'joao dourado',\n",
       " 'ipiranga do norte',\n",
       " 'santa cruz do sul',\n",
       " 'marilia',\n",
       " 'california da barra',\n",
       " 'bom sucesso do sul',\n",
       " 'jambeiro',\n",
       " 'nipoa',\n",
       " 'aparecida doeste',\n",
       " 'teofilandia',\n",
       " 'nova itaberaba',\n",
       " 'campo grande',\n",
       " 'capitao andrade',\n",
       " 'maripa de minas',\n",
       " 'niquelandia',\n",
       " 'fortuna de minas',\n",
       " 'natuba',\n",
       " 'luiziania',\n",
       " 'votorantim',\n",
       " 'bambui',\n",
       " 'itatiba',\n",
       " 'caraguatatuba',\n",
       " 'sao sebastiao de campos',\n",
       " 'nova colinas',\n",
       " 'sao jose do rio claro',\n",
       " 'jaguaruna',\n",
       " 'piedade de ponte nova',\n",
       " 'urucuia',\n",
       " 'três corações',\n",
       " 'corumbataí',\n",
       " 'lizarda',\n",
       " 'joaquim gomes',\n",
       " 'pomerode',\n",
       " 'elisiario',\n",
       " 'itaju',\n",
       " 'brasilândia de minas',\n",
       " 'paruru',\n",
       " 'montes claros',\n",
       " 'jacobina do piaui',\n",
       " 'sao sebastiao dos pocoes',\n",
       " 'beneditinos',\n",
       " 'matureia',\n",
       " 'amarante',\n",
       " 'conceição de jacareí',\n",
       " 'lídice',\n",
       " 'taiobeiras',\n",
       " 'ilicinea',\n",
       " 'araras',\n",
       " 'toritama',\n",
       " 'sao miguel do aleixo',\n",
       " 'entre rios de minas',\n",
       " 'açu',\n",
       " 'jardim',\n",
       " 'sao felix do piaui',\n",
       " 'quirinopolis',\n",
       " 'corumbá',\n",
       " 'são roque do canaã',\n",
       " 'pacatuba',\n",
       " 'caicara',\n",
       " 'santa maria do oeste',\n",
       " 'treze tílias',\n",
       " 'cidade gaucha',\n",
       " 'cidelandia',\n",
       " 'ariquemes',\n",
       " 'maracana',\n",
       " 'anitapolis',\n",
       " 'prados',\n",
       " 'camocim de sao felix',\n",
       " 'posse',\n",
       " 'pedras altas',\n",
       " 'jeriquara',\n",
       " 'canelinha',\n",
       " 'maniacu',\n",
       " 'franca',\n",
       " 'santa maria de itabira',\n",
       " 'sao felix de balsas',\n",
       " 'guiratinga',\n",
       " 'dez de maio',\n",
       " 'sapezal',\n",
       " 'eusebio',\n",
       " 'arapeí',\n",
       " 'boa vista do incra',\n",
       " 'vitoria brasil',\n",
       " 'igaporã',\n",
       " 'treze tilias',\n",
       " 'quata',\n",
       " 'sao luis gonzaga do maranhao',\n",
       " 'heliodora',\n",
       " 'ibitira',\n",
       " 'venturosa',\n",
       " 'piritiba',\n",
       " 'bom jesus do sul',\n",
       " 'guariba',\n",
       " 'planaltina do parana',\n",
       " 'armazem',\n",
       " 'santo ângelo',\n",
       " 'ipiranga do sul',\n",
       " 'paqueta',\n",
       " 'são josé das palmeiras',\n",
       " 'aparecida d oeste',\n",
       " 'araruna',\n",
       " 'inhapi',\n",
       " 'guadalupe',\n",
       " 'hidrolândia',\n",
       " 'parecis',\n",
       " 'alto parana',\n",
       " 'rio preto',\n",
       " 'colonia vitoria',\n",
       " 'lagoa do ouro',\n",
       " 'novo alegre',\n",
       " 'laguna',\n",
       " 'biritiba mirim',\n",
       " 'pimenta bueno',\n",
       " 'iguaracu',\n",
       " 'pontão',\n",
       " 'ubauna',\n",
       " 'gama',\n",
       " 'miraguai',\n",
       " 'algodão de jandaíra',\n",
       " 'são josé do jacuri',\n",
       " 'doutor pedrinho',\n",
       " \"santa rita d'oeste\",\n",
       " 'lebon regis',\n",
       " 'união do oeste',\n",
       " 'cambuí',\n",
       " 'areia branca',\n",
       " 'itambe do mato dentro',\n",
       " 'são joão do soter',\n",
       " 'barra do piraí',\n",
       " 'esperanca nova',\n",
       " 'progresso',\n",
       " 'indiapora',\n",
       " 'ibiam',\n",
       " 'axixa',\n",
       " 'monte siao',\n",
       " 'maravilha',\n",
       " 'chã de alegria',\n",
       " 'tauá',\n",
       " 'campinapolis',\n",
       " 'piranguinho',\n",
       " 'maximiliano de almeida',\n",
       " 'pescador',\n",
       " 'santo antonio da barra',\n",
       " 'mococa',\n",
       " 'planalto',\n",
       " 'ipuacu',\n",
       " 'azambuja',\n",
       " 'babaculandia',\n",
       " 'brumadinho',\n",
       " 'nova america da colina',\n",
       " 'montauri',\n",
       " 'guaiçara',\n",
       " 'santa cruz das palmeiras',\n",
       " 'guacui',\n",
       " 'francinópolis',\n",
       " 'cachoeira dos índios',\n",
       " 'cabaceiras do paraguaçu',\n",
       " 'solânea',\n",
       " 'varzea',\n",
       " 'tapera',\n",
       " 'iramaia',\n",
       " 'armação dos búzios',\n",
       " 'cabaceiras do paraguacu',\n",
       " 'sao marcos',\n",
       " 'pires do rio',\n",
       " 'sarzedo',\n",
       " 'fortaleza do tabocao',\n",
       " 'guaiba',\n",
       " 'pocos de caldas',\n",
       " 'senhora do porto',\n",
       " 'crixas do tocantins',\n",
       " 'são joão do sul',\n",
       " 'santiago do sul',\n",
       " 'potiretama',\n",
       " 'descoberto',\n",
       " 'castelandia',\n",
       " 'trajano de morais',\n",
       " 'taiaçu',\n",
       " 'paraguaçu paulista',\n",
       " 'avaí do jacinto',\n",
       " 'caetano mendes',\n",
       " 'óleo',\n",
       " 'boqueirao',\n",
       " 'nova boa vista',\n",
       " 'ipiranga do piaui',\n",
       " 'cavalcante',\n",
       " 'barretos',\n",
       " 'porto do mangue',\n",
       " 'nova londrina',\n",
       " 'frei inocencio',\n",
       " 'cujubim',\n",
       " 'olimpio noronha',\n",
       " 'timbiras',\n",
       " 'aurora do iguacu',\n",
       " 'santa margarida do sul',\n",
       " 'lagoa dos tres cantos',\n",
       " 'carapicuiba',\n",
       " 'são sebastião da boa vista',\n",
       " 'santa bárbara',\n",
       " 'mimoso do sul',\n",
       " 'alcântara',\n",
       " \"sant'ana do livramento\",\n",
       " 'campanário',\n",
       " 'remígio',\n",
       " 'indiaroba',\n",
       " 'santa rita da floresta',\n",
       " 'propriá',\n",
       " 'sigefredo pacheco',\n",
       " 'igaratinga',\n",
       " 'novo triunfo',\n",
       " 'governador newton bello',\n",
       " 'faina',\n",
       " 'santa rita do trivelato',\n",
       " 'machadinho',\n",
       " 'gaucha do norte',\n",
       " 'itatiba do sul',\n",
       " 'cachoeira de piria',\n",
       " 'bom jardim do sul',\n",
       " 'lajeado',\n",
       " 'são roque',\n",
       " 'cacarema',\n",
       " 'parana',\n",
       " 'ipora',\n",
       " 'iporã',\n",
       " 'urania',\n",
       " 'capao alto',\n",
       " 'pardinho',\n",
       " 'lajes',\n",
       " 'camocim',\n",
       " 'penha do capim',\n",
       " 'cordeirópolis',\n",
       " 'campo alegre de lourdes',\n",
       " 'santo hipólito',\n",
       " 'guapimirim',\n",
       " 'água boa',\n",
       " \"mae d'agua\",\n",
       " 'ouro velho',\n",
       " 'abadiânia',\n",
       " 'nossa senhora das dores',\n",
       " 'sao joao do pau dalho',\n",
       " 'são domingos das dores',\n",
       " 'general maynard',\n",
       " 'sao francisco do sul',\n",
       " 'sitio do mato',\n",
       " 'ilhota',\n",
       " 'sao jose dos pinhais',\n",
       " 'braco do trombudo',\n",
       " 'ipoema',\n",
       " 'são josé dos ramos',\n",
       " 'sinimbu',\n",
       " 'santana do seridó',\n",
       " 'monte gordo',\n",
       " 'buri',\n",
       " 'palmeira dos indios',\n",
       " 'ferraz de vasconcelos',\n",
       " 'paco do lumiar',\n",
       " 'água doce do maranhão',\n",
       " 'sapucaia do sul',\n",
       " 'ibitiura de minas',\n",
       " 'tailandia',\n",
       " 'restinga',\n",
       " 'leopoldo de bulhoes',\n",
       " 'altamira do paraná',\n",
       " 'anhumas',\n",
       " 'vista serrana',\n",
       " 'rio das pedras',\n",
       " 'antônio prado de minas',\n",
       " 'pinhalzinho',\n",
       " 'tapiraí',\n",
       " 'são joão do cariri',\n",
       " 'california',\n",
       " 'niterói',\n",
       " 'altônia',\n",
       " 'julio de castilhos',\n",
       " 'santa cruz da baixa verde',\n",
       " 'caiabu',\n",
       " 'itueta',\n",
       " 'santa lucia',\n",
       " 'doutor ulysses',\n",
       " 'brasilândia do sul',\n",
       " 'nova erechim',\n",
       " 'tocantinopolis',\n",
       " 'balneário rincão',\n",
       " 'sertão',\n",
       " 'retirolândia',\n",
       " 'iconha',\n",
       " 'sao miguel dos milagres',\n",
       " 'nova era',\n",
       " 'puxinana',\n",
       " 'piracanjuba',\n",
       " 'cacapava',\n",
       " 'jau',\n",
       " 'granito',\n",
       " 'riachao',\n",
       " 'macaúbas',\n",
       " 'augusto pestana',\n",
       " 'ipirá',\n",
       " 'honorio serpa',\n",
       " 'medina',\n",
       " 'armacao de buzios',\n",
       " 'pedra do indaiá',\n",
       " 'humaitá',\n",
       " 'ervália',\n",
       " 'frecheirinha',\n",
       " 'gouvelandia',\n",
       " 'quintao',\n",
       " 'colônia',\n",
       " 'silveira martins',\n",
       " 'tutoia',\n",
       " 'novo diamantino',\n",
       " 'anaurilândia',\n",
       " 'sao jose do turvo',\n",
       " 'andrequice',\n",
       " 'garopaba',\n",
       " 'serra preta',\n",
       " 'severiano de almeida',\n",
       " 'maracás',\n",
       " 'diadema',\n",
       " 'quilombo',\n",
       " 'alto parnaíba',\n",
       " 'são geraldo',\n",
       " 'adrianopolis',\n",
       " 'cachoeiro de itapemirim',\n",
       " 'arraial',\n",
       " 'iporanga',\n",
       " 'diamante do sul',\n",
       " 'estrela de jordânia',\n",
       " 'caridade do piaui',\n",
       " 'foz do iguacu',\n",
       " 'sede nova',\n",
       " 'arapei',\n",
       " 'general sampaio',\n",
       " 'são josé do divino',\n",
       " 'são gonçalo do sapucaí',\n",
       " 'jiquirica',\n",
       " 'poté',\n",
       " 'aracatu',\n",
       " 'nova petropolis',\n",
       " 'não-me-toque',\n",
       " 'vertentes',\n",
       " 'floresta',\n",
       " 'santa rita d oeste',\n",
       " 'goiatins',\n",
       " 'sao lourenco do piaui',\n",
       " 'plácido de castro',\n",
       " 'boa esperanca do sul',\n",
       " 'mormaco',\n",
       " 'osasco',\n",
       " 'taquarussu',\n",
       " 'santo antonio do manhuacu',\n",
       " 'são josé do rio preto',\n",
       " 'florestópolis',\n",
       " 'bady bassitt',\n",
       " 'monte alegre de goias',\n",
       " 'garruchos',\n",
       " 'inconfidentes',\n",
       " 'nova olímpia',\n",
       " 'mata',\n",
       " 'aratuipe',\n",
       " 'ceará-mirim',\n",
       " 'redencao',\n",
       " 'penha',\n",
       " 'princesa',\n",
       " 'santa cruz da vitoria',\n",
       " 'camaqua',\n",
       " 'taiuva',\n",
       " 'são vicente do sul',\n",
       " 'analandia',\n",
       " 'vespasiano correa',\n",
       " 'prudentópolis',\n",
       " 'sao joaquim da barra',\n",
       " 'corumba de goias',\n",
       " 'guaiuba',\n",
       " 'poranga',\n",
       " 'platina',\n",
       " 'porto rico',\n",
       " 'eldorado do sul',\n",
       " 'itubera',\n",
       " 'conservatória',\n",
       " 'paraiba do sul',\n",
       " 'casa grande',\n",
       " 'ribeirao vermelho',\n",
       " 'santo estevão',\n",
       " 'são josé das missões',\n",
       " 'tuntum',\n",
       " 'buzios',\n",
       " 'cabeceira grande',\n",
       " 'arandu',\n",
       " 'ilha solteira',\n",
       " 'marataízes',\n",
       " 'jequia da praia',\n",
       " 'são josé do egito',\n",
       " 'cachoeira do piria',\n",
       " 'colares',\n",
       " 'angelina',\n",
       " 'charrua',\n",
       " 'salto do céu',\n",
       " 'novorizonte',\n",
       " 'porto belo',\n",
       " 'arapuá',\n",
       " 'cícero dantas',\n",
       " 'xambioa',\n",
       " 'arapiraca',\n",
       " 'paty do alferes',\n",
       " 'rio do antônio',\n",
       " 'coreau',\n",
       " 'nova california',\n",
       " 'apuiares',\n",
       " 'colônia do gurguéia',\n",
       " 'são mamede',\n",
       " 'caicó',\n",
       " 'urubici',\n",
       " 'umburatiba',\n",
       " 'taparuba',\n",
       " 'pinhalao',\n",
       " 'são gonçalo do abaeté',\n",
       " 'campos belos',\n",
       " 'porto ferreira',\n",
       " 'são francisco',\n",
       " 'lago do junco',\n",
       " 'sao luis do curu',\n",
       " 'matrincha',\n",
       " 'franciscópolis',\n",
       " 'melo viana',\n",
       " 'currais novos',\n",
       " 'porto dos gaúchos',\n",
       " 'tangara',\n",
       " 'itaguaje',\n",
       " 'irauçuba',\n",
       " 'breu branco',\n",
       " 'barra de santo antônio',\n",
       " 'dolcinopolis',\n",
       " 'dorandia',\n",
       " 'taquarivaí',\n",
       " 'guaraciaba',\n",
       " 'boraceia',\n",
       " 'bom lugar',\n",
       " 'colônia z-3',\n",
       " 'jussiape',\n",
       " 'caracol',\n",
       " 'macedônia',\n",
       " 'santo antônio das missões',\n",
       " 'nipoã',\n",
       " 'portao',\n",
       " 'parnaguá',\n",
       " 'socorro do piaui',\n",
       " 'são gotardo',\n",
       " 'cha grande',\n",
       " 'aracati',\n",
       " 'piedade do paraopeba',\n",
       " 'almirante tamandare',\n",
       " 'claudio',\n",
       " 'guajará-mirim',\n",
       " 'candia',\n",
       " 'tramandai',\n",
       " 'palmital',\n",
       " 'fortuna',\n",
       " 'armacao dos buzios',\n",
       " 'sao joao do sul',\n",
       " 'lupionópolis',\n",
       " 'cerro grande',\n",
       " 'centro novo do maranhao',\n",
       " 'aroeiras',\n",
       " 'peruibe',\n",
       " 'tabuleiro do norte',\n",
       " 'união do sul',\n",
       " 'guaramiranga',\n",
       " 'araguaçu',\n",
       " 'crixas',\n",
       " 'sao jose do jacuri',\n",
       " 'americana',\n",
       " 'corupá',\n",
       " 'são josé da bela vista',\n",
       " 'rondon do pará',\n",
       " 'arujá',\n",
       " 'entre folhas',\n",
       " 'coroados',\n",
       " 'pratania',\n",
       " 'fortaleza dos nogueiras',\n",
       " 'alambari',\n",
       " 'vilhena',\n",
       " 'figueiropolis d oeste',\n",
       " 'cotriguacu',\n",
       " 'general camara',\n",
       " 'sao vicente do sul',\n",
       " 'américo de campos',\n",
       " 'jacinto',\n",
       " 'brejo grande do araguaia',\n",
       " 'reserva',\n",
       " 'gentio do ouro',\n",
       " 'divinopolis de goias',\n",
       " 'ponte alta do tocantins',\n",
       " 'janiopolis',\n",
       " 'campo do meio',\n",
       " 'divinesia',\n",
       " 'joaquim pires',\n",
       " 'guatapara',\n",
       " 'lagoa de velhos',\n",
       " 'sao raimundo das mangabeiras',\n",
       " 'ribeirão do sul',\n",
       " 'rincão',\n",
       " 'fronteira',\n",
       " 'olhos-d agua',\n",
       " 'eunápolis',\n",
       " 'caldazinha',\n",
       " 'pontao',\n",
       " 'santo antônio de goiás',\n",
       " 'itapeva',\n",
       " 'barra do choça',\n",
       " 'lençóis paulista',\n",
       " 'jansen',\n",
       " 'são josé da mata',\n",
       " 'córrego do ouro',\n",
       " 'antônio martins',\n",
       " 'jucás',\n",
       " 'sao lourenco do sul',\n",
       " 'monte mor',\n",
       " 'rocas novas',\n",
       " 'santa amelia',\n",
       " \"itapejara d'oeste\",\n",
       " 'tupancireta',\n",
       " 'orizona',\n",
       " 'landri sales',\n",
       " 'aracas',\n",
       " 'itaú de minas',\n",
       " 'echaporã',\n",
       " 'rosário do sul',\n",
       " 'correia pinto',\n",
       " 'luís domingues',\n",
       " 'alta floresta doeste',\n",
       " 'cotipora',\n",
       " 'goianá',\n",
       " 'coroatá',\n",
       " 'ipero',\n",
       " 'ribeiro goncalves',\n",
       " 'itambacuri',\n",
       " 'barao de cotegipe',\n",
       " 'itapirapuã paulista',\n",
       " 'mairi',\n",
       " 'acajutiba',\n",
       " 'sao bernardo',\n",
       " 'roseira',\n",
       " 'eneida',\n",
       " 'triunfo potiguar',\n",
       " 'garrafao do norte',\n",
       " 'gravataí',\n",
       " 'flores de goiás',\n",
       " 'palestina de goiás',\n",
       " 'sao jose da vitoria',\n",
       " 'jacare dos homens',\n",
       " 'califórnia da barra',\n",
       " 'sao goncalo do amarante',\n",
       " 'alto longa',\n",
       " 'laranjal do jari',\n",
       " 'picarras',\n",
       " 'adolfo',\n",
       " 'peçanha',\n",
       " 'coronel domingos soares',\n",
       " 'holambra ii',\n",
       " 'santa maria',\n",
       " 'são josé de ubá',\n",
       " 'coronel xavier chaves',\n",
       " 'santa terezinha de minas',\n",
       " 'parnarama',\n",
       " 'são francisco do brejão',\n",
       " 'paranacity',\n",
       " 'olímpia',\n",
       " 'cabrobó',\n",
       " 'demerval lobao',\n",
       " 'divisa nova',\n",
       " 'itu',\n",
       " 'jafa',\n",
       " 'macuco',\n",
       " 'ibiassuce',\n",
       " 'bueno brandao',\n",
       " 'pinheiros altos',\n",
       " 'contendas do sincorá',\n",
       " 'pilõezinhos',\n",
       " 'água fria de goiás',\n",
       " 'jaragua',\n",
       " 'riacho fundo',\n",
       " 'raposa',\n",
       " 'sao jose das palmeiras',\n",
       " 'tavares',\n",
       " 'itariri',\n",
       " 'santo antônio do aracanguá',\n",
       " 'jumirim',\n",
       " 'aruanã',\n",
       " 'monção',\n",
       " 'vila rica',\n",
       " 'coronel barros',\n",
       " 'conceição do mato dentro',\n",
       " 'ewbank da camara',\n",
       " 'machacalis',\n",
       " 'barro preto',\n",
       " 'florida',\n",
       " 'são miguel do oeste',\n",
       " 'tarauacá',\n",
       " 'capitolio',\n",
       " 'cuiabá paulista',\n",
       " 'coronel jose dias',\n",
       " 'tres coracoes',\n",
       " 'potirendaba',\n",
       " 'nobres',\n",
       " 'lagoa de sao francisco',\n",
       " 'nova venecia',\n",
       " 'rio negro',\n",
       " 'jacutinga',\n",
       " 'itapetininga',\n",
       " 'governador luiz rocha',\n",
       " 'cocais',\n",
       " 'araçás',\n",
       " 'arraial do cabo',\n",
       " 'rio grande',\n",
       " 'farol',\n",
       " 'passa quatro',\n",
       " 'piracuruca',\n",
       " 'inhuma',\n",
       " 'inhacorá',\n",
       " 'brazabrantes',\n",
       " 'nova esperança do sul',\n",
       " 'conchal',\n",
       " 'itati',\n",
       " 'coração de jesus',\n",
       " 'nova pádua',\n",
       " 'liberdade',\n",
       " 'orleans',\n",
       " 'cariré',\n",
       " 'ze doca',\n",
       " 'estrela doeste',\n",
       " 'santa maria da serra',\n",
       " 'ipituna',\n",
       " 'dois de abril',\n",
       " 'epitaciolandia',\n",
       " 'santo antonio do descoberto',\n",
       " 'lagoa da confusão',\n",
       " 'brazopolis',\n",
       " 'peabiru',\n",
       " 'campo novo',\n",
       " 'coimbra',\n",
       " 'giruá',\n",
       " 'simão dias',\n",
       " 'são lourenço da serra',\n",
       " 'aspásia',\n",
       " 'gloria de dourados',\n",
       " 'teolandia',\n",
       " 'alvorada do gurguéia',\n",
       " 'divinésia',\n",
       " 'corrente',\n",
       " 'caçapava do sul',\n",
       " 'nova maringá',\n",
       " 'piquerobi',\n",
       " 'monte santo do tocantins',\n",
       " 'leopoldo de bulhões',\n",
       " 'sao jose do povo',\n",
       " 'alecrim',\n",
       " 'castelo',\n",
       " 'aratiba',\n",
       " 'são raimundo do doca bezerra',\n",
       " 'gentil',\n",
       " 'congo',\n",
       " 'indaiabira',\n",
       " 'bom jesus',\n",
       " 'araguacu',\n",
       " 'cândido sales',\n",
       " 'pedra do anta',\n",
       " 'entre rios',\n",
       " 'santaluz',\n",
       " 'são josé do bonfim',\n",
       " 'guaçuí',\n",
       " 'jerônimo monteiro',\n",
       " 'ivoti',\n",
       " 'santa clara',\n",
       " 'santa fé de goiás',\n",
       " 'dionísio cerqueira',\n",
       " 'balneario gaivota',\n",
       " 'tres irmaos',\n",
       " 'promissao',\n",
       " 'são josé do calçado',\n",
       " 'urucui',\n",
       " 'catalão',\n",
       " 'gaurama',\n",
       " 'mondaí',\n",
       " 'eugenópolis',\n",
       " 'ceres',\n",
       " 'colmeia',\n",
       " 'boa vista do cadeado',\n",
       " 'manhuacu',\n",
       " 'erval seco',\n",
       " 'esperanca do sul',\n",
       " 'aguas lindas de goias',\n",
       " 'russas',\n",
       " 'aimorés',\n",
       " 'carneirinho',\n",
       " 'mirante da serra',\n",
       " 'guaraita',\n",
       " 'atalaia',\n",
       " 'nanuque',\n",
       " 'loanda',\n",
       " 'ipaumirim',\n",
       " 'conceicao do coite',\n",
       " 'cardeal da silva',\n",
       " 'primavera',\n",
       " 'sao cristovao',\n",
       " 'japaratinga',\n",
       " 'bonfinópolis',\n",
       " ...]"
      ]
     },
     "execution_count": 50,
     "metadata": {},
     "output_type": "execute_result"
    }
   ],
   "source": [
    "geolocation['geolocation_city'].unique().to_numpy().tolist()"
   ]
  }
 ],
 "metadata": {
  "kernelspec": {
   "display_name": "Python 3",
   "language": "python",
   "name": "python3"
  },
  "language_info": {
   "codemirror_mode": {
    "name": "ipython",
    "version": 3
   },
   "file_extension": ".py",
   "mimetype": "text/x-python",
   "name": "python",
   "nbconvert_exporter": "python",
   "pygments_lexer": "ipython3",
   "version": "3.12.7"
  }
 },
 "nbformat": 4,
 "nbformat_minor": 2
}
