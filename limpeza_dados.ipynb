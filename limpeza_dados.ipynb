{
 "cells": [
  {
   "cell_type": "markdown",
   "metadata": {},
   "source": [
    "#### Sobre o Conjunto de Dados\n",
    "Este é um conjunto de dados público de pedidos do e-commerce brasileiro feitos na loja Olist. O conjunto de dados contém informações de 100 mil pedidos de 2016 a 2018 feitos em diversos marketplaces no Brasil.\n",
    "Esses são dados comerciais reais, que foram anonimizados, e as referências às empresas e parceiros nos textos de avaliação foram substituídas pelos nomes das grandes casas de Game of Thrones.\n",
    "\n",
    "\n",
    "#### Contexto\n",
    "Este conjunto de dados foi generosamente fornecido pela Olist, a maior loja de departamentos dos marketplaces brasileiros. A Olist conecta pequenos negócios de todo o Brasil a canais de vendas, sem complicações e com um único contrato. Esses comerciantes conseguem vender seus produtos através da Olist Store e enviá-los diretamente aos clientes utilizando os parceiros logísticos da Olist. \n",
    "\n",
    "Após o cliente comprar um produto na Olist Store, o vendedor é notificado para atender a esse pedido. Uma vez que o cliente recebe o produto, ou que a data estimada de entrega expire, o cliente recebe uma pesquisa de satisfação por e-mail, onde pode dar uma nota para a experiência de compra e escrever alguns comentários.\n",
    "\n"
   ]
  },
  {
   "cell_type": "markdown",
   "metadata": {},
   "source": [
    "<img src='https://i.imgur.com/HRhd2Y0.png' height=400px/>"
   ]
  },
  {
   "cell_type": "markdown",
   "metadata": {},
   "source": [
    "#### Informações adcionais\n",
    "----------\n",
    "\n",
    "##### Conjunto de Dados de Clientes(olist_customer)\n",
    "> Este conjunto de dados contém informações sobre o cliente e sua localização. Utilize-o para identificar clientes únicos no conjunto de dados de pedidos e para encontrar a localização de entrega dos pedidos.\n",
    ">\n",
    "> Em nosso sistema, cada pedido é atribuído a um customer_id exclusivo. Isso significa que o mesmo cliente terá diferentes ids para pedidos distintos. O propósito de ter um customer_unique_id no conjunto de dados é permitir que você identifique clientes que fizeram novas compras na loja. Caso contrário, você descobriria que cada pedido estaria associado a um cliente diferente.\n",
    "--------\n",
    "\n",
    "##### Conjunto de Dados de Geolocalização (geolocation)\n",
    "> Este conjunto de dados contém informações sobre os códigos postais brasileiros e suas coordenadas de latitude/longitude. Utilize-o para plotar mapas e calcular distâncias entre vendedores e clientes\n",
    "\n",
    "--------\n",
    "\n",
    "##### Conjunto de Dados de Itens de Pedidos (order_items)\n",
    "> Este conjunto de dados inclui informações sobre os itens comprados em cada pedido.\n",
    "\n",
    "> Exemplo:\n",
    "> O order_id = 00143d0f86d6fbd9f9b38ab440ac16f5 possui 3 itens (mesmo produto). Cada item tem o frete calculado de acordo com suas medidas e peso. Para obter o valor total do frete de cada pedido, basta somar.\n",
    "\n",
    "\n",
    "-------\n",
    "##### Payments Dataset\n",
    "> This dataset includes data about the orders payment options.\n",
    "\n",
    "-------\n",
    "##### Conjunto de Dados de Avaliações de Pedidos (reviews dataset) \n",
    "> Este conjunto de dados inclui informações sobre as avaliações feitas pelos clientes.\n",
    "> Após o cliente comprar um produto na Olist Store, o vendedor é notificado para atender a esse pedido. Quando o cliente recebe o produto, ou quando a data estimada de entrega se expira, o cliente recebe uma pesquisa de satisfação por e-mail, onde pode dar uma nota para a experiência de compra e escrever alguns comentários."
   ]
  },
  {
   "cell_type": "markdown",
   "metadata": {},
   "source": [
    "### Limpeza de dados"
   ]
  },
  {
   "cell_type": "code",
   "execution_count": 1,
   "metadata": {},
   "outputs": [],
   "source": [
    "import polars as pl\n",
    "import pandas as pd"
   ]
  },
  {
   "cell_type": "code",
   "execution_count": 6,
   "metadata": {},
   "outputs": [],
   "source": [
    "cliente = pl.read_csv(\n",
    "    source='dataset/olist_customers_dataset.csv', infer_schema=False\n",
    ")"
   ]
  },
  {
   "cell_type": "code",
   "execution_count": 7,
   "metadata": {},
   "outputs": [
    {
     "data": {
      "text/html": [
       "<div><style>\n",
       ".dataframe > thead > tr,\n",
       ".dataframe > tbody > tr {\n",
       "  text-align: right;\n",
       "  white-space: pre-wrap;\n",
       "}\n",
       "</style>\n",
       "<small>shape: (2, 5)</small><table border=\"1\" class=\"dataframe\"><thead><tr><th>customer_id</th><th>customer_unique_id</th><th>customer_zip_code_prefix</th><th>customer_city</th><th>customer_state</th></tr><tr><td>str</td><td>str</td><td>str</td><td>str</td><td>str</td></tr></thead><tbody><tr><td>&quot;06b8999e2fba1a1fbc88172c00ba8b…</td><td>&quot;861eff4711a542e4b93843c6dd7feb…</td><td>&quot;14409&quot;</td><td>&quot;franca&quot;</td><td>&quot;SP&quot;</td></tr><tr><td>&quot;18955e83d337fd6b2def6b18a428ac…</td><td>&quot;290c77bc529b7ac935b93aa66c333d…</td><td>&quot;09790&quot;</td><td>&quot;sao bernardo do campo&quot;</td><td>&quot;SP&quot;</td></tr></tbody></table></div>"
      ],
      "text/plain": [
       "shape: (2, 5)\n",
       "┌────────────────────┬────────────────────┬───────────────────┬───────────────────┬────────────────┐\n",
       "│ customer_id        ┆ customer_unique_id ┆ customer_zip_code ┆ customer_city     ┆ customer_state │\n",
       "│ ---                ┆ ---                ┆ _prefix           ┆ ---               ┆ ---            │\n",
       "│ str                ┆ str                ┆ ---               ┆ str               ┆ str            │\n",
       "│                    ┆                    ┆ str               ┆                   ┆                │\n",
       "╞════════════════════╪════════════════════╪═══════════════════╪═══════════════════╪════════════════╡\n",
       "│ 06b8999e2fba1a1fbc ┆ 861eff4711a542e4b9 ┆ 14409             ┆ franca            ┆ SP             │\n",
       "│ 88172c00ba8b…      ┆ 3843c6dd7feb…      ┆                   ┆                   ┆                │\n",
       "│ 18955e83d337fd6b2d ┆ 290c77bc529b7ac935 ┆ 09790             ┆ sao bernardo do   ┆ SP             │\n",
       "│ ef6b18a428ac…      ┆ b93aa66c333d…      ┆                   ┆ campo             ┆                │\n",
       "└────────────────────┴────────────────────┴───────────────────┴───────────────────┴────────────────┘"
      ]
     },
     "execution_count": 7,
     "metadata": {},
     "output_type": "execute_result"
    }
   ],
   "source": [
    "cliente.head(2)"
   ]
  },
  {
   "cell_type": "code",
   "execution_count": 14,
   "metadata": {},
   "outputs": [
    {
     "data": {
      "text/plain": [
       "(99441, 5)"
      ]
     },
     "execution_count": 14,
     "metadata": {},
     "output_type": "execute_result"
    }
   ],
   "source": [
    "cliente.shape"
   ]
  },
  {
   "cell_type": "markdown",
   "metadata": {},
   "source": [
    "Verificando a quantidade de valores únicos de cada coluna"
   ]
  },
  {
   "cell_type": "code",
   "execution_count": 31,
   "metadata": {},
   "outputs": [
    {
     "data": {
      "text/html": [
       "<div>\n",
       "<style scoped>\n",
       "    .dataframe tbody tr th:only-of-type {\n",
       "        vertical-align: middle;\n",
       "    }\n",
       "\n",
       "    .dataframe tbody tr th {\n",
       "        vertical-align: top;\n",
       "    }\n",
       "\n",
       "    .dataframe thead th {\n",
       "        text-align: right;\n",
       "    }\n",
       "</style>\n",
       "<table border=\"1\" class=\"dataframe\">\n",
       "  <thead>\n",
       "    <tr style=\"text-align: right;\">\n",
       "      <th></th>\n",
       "      <th>Quantidade de valores únicos</th>\n",
       "    </tr>\n",
       "  </thead>\n",
       "  <tbody>\n",
       "    <tr>\n",
       "      <th>customer_id</th>\n",
       "      <td>99441</td>\n",
       "    </tr>\n",
       "    <tr>\n",
       "      <th>customer_unique_id</th>\n",
       "      <td>96096</td>\n",
       "    </tr>\n",
       "    <tr>\n",
       "      <th>customer_zip_code_prefix</th>\n",
       "      <td>14994</td>\n",
       "    </tr>\n",
       "    <tr>\n",
       "      <th>customer_city</th>\n",
       "      <td>4119</td>\n",
       "    </tr>\n",
       "    <tr>\n",
       "      <th>customer_state</th>\n",
       "      <td>27</td>\n",
       "    </tr>\n",
       "  </tbody>\n",
       "</table>\n",
       "</div>"
      ],
      "text/plain": [
       "                          Quantidade de valores únicos\n",
       "customer_id                                      99441\n",
       "customer_unique_id                               96096\n",
       "customer_zip_code_prefix                         14994\n",
       "customer_city                                     4119\n",
       "customer_state                                      27"
      ]
     },
     "execution_count": 31,
     "metadata": {},
     "output_type": "execute_result"
    }
   ],
   "source": [
    "pd.DataFrame({\n",
    "    col : cliente.select(pl.col(col)).n_unique() \\\n",
    "    for col in cliente.columns\n",
    "}, index=['Quantidade de valores únicos']).T"
   ]
  },
  {
   "cell_type": "markdown",
   "metadata": {},
   "source": [
    "> `customer_id` é uma chave primaria\n",
    ">\n",
    "> `customer_zip_code_prefix` é uma chave estrangeira"
   ]
  },
  {
   "cell_type": "markdown",
   "metadata": {},
   "source": [
    "Chave primaria e chave estrangeira não necessitam de tratamento, somente, se houver valores nulos nesse conj. dados. Mais abaixo irei verificar a quantidade de valores nulos por colunas"
   ]
  },
  {
   "cell_type": "code",
   "execution_count": 49,
   "metadata": {},
   "outputs": [
    {
     "data": {
      "text/plain": [
       "0"
      ]
     },
     "execution_count": 49,
     "metadata": {},
     "output_type": "execute_result"
    }
   ],
   "source": [
    "cliente.select(pl.col('customer_id').null_count()).item()"
   ]
  },
  {
   "cell_type": "code",
   "execution_count": 63,
   "metadata": {},
   "outputs": [
    {
     "data": {
      "text/html": [
       "<div>\n",
       "<style scoped>\n",
       "    .dataframe tbody tr th:only-of-type {\n",
       "        vertical-align: middle;\n",
       "    }\n",
       "\n",
       "    .dataframe tbody tr th {\n",
       "        vertical-align: top;\n",
       "    }\n",
       "\n",
       "    .dataframe thead th {\n",
       "        text-align: right;\n",
       "    }\n",
       "</style>\n",
       "<table border=\"1\" class=\"dataframe\">\n",
       "  <thead>\n",
       "    <tr style=\"text-align: right;\">\n",
       "      <th></th>\n",
       "      <th>colunas</th>\n",
       "      <th>Quantidade de valores nulos</th>\n",
       "    </tr>\n",
       "  </thead>\n",
       "  <tbody>\n",
       "    <tr>\n",
       "      <th>0</th>\n",
       "      <td>customer_id</td>\n",
       "      <td>0</td>\n",
       "    </tr>\n",
       "    <tr>\n",
       "      <th>1</th>\n",
       "      <td>customer_unique_id</td>\n",
       "      <td>0</td>\n",
       "    </tr>\n",
       "    <tr>\n",
       "      <th>2</th>\n",
       "      <td>customer_zip_code_prefix</td>\n",
       "      <td>0</td>\n",
       "    </tr>\n",
       "    <tr>\n",
       "      <th>3</th>\n",
       "      <td>customer_city</td>\n",
       "      <td>0</td>\n",
       "    </tr>\n",
       "    <tr>\n",
       "      <th>4</th>\n",
       "      <td>customer_state</td>\n",
       "      <td>0</td>\n",
       "    </tr>\n",
       "  </tbody>\n",
       "</table>\n",
       "</div>"
      ],
      "text/plain": [
       "                    colunas  Quantidade de valores nulos\n",
       "0               customer_id                            0\n",
       "1        customer_unique_id                            0\n",
       "2  customer_zip_code_prefix                            0\n",
       "3             customer_city                            0\n",
       "4            customer_state                            0"
      ]
     },
     "execution_count": 63,
     "metadata": {},
     "output_type": "execute_result"
    }
   ],
   "source": [
    "cliente\\\n",
    "    .null_count()\\\n",
    "    .transpose(\n",
    "        include_header=True,\n",
    "        header_name   ='colunas',\n",
    "        column_names  =['Quantidade de valores nulos']\n",
    ").to_pandas()"
   ]
  },
  {
   "cell_type": "markdown",
   "metadata": {},
   "source": [
    "> Não há valores nulos nas colunas acima"
   ]
  },
  {
   "cell_type": "markdown",
   "metadata": {},
   "source": []
  }
 ],
 "metadata": {
  "kernelspec": {
   "display_name": "Python 3",
   "language": "python",
   "name": "python3"
  },
  "language_info": {
   "codemirror_mode": {
    "name": "ipython",
    "version": 3
   },
   "file_extension": ".py",
   "mimetype": "text/x-python",
   "name": "python",
   "nbconvert_exporter": "python",
   "pygments_lexer": "ipython3",
   "version": "3.12.6"
  }
 },
 "nbformat": 4,
 "nbformat_minor": 2
}
